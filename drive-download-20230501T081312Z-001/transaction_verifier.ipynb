{
  "cells": [
    {
      "cell_type": "code",
      "execution_count": 40,
      "id": "3d144bf2",
      "metadata": {
        "id": "3d144bf2"
      },
      "outputs": [],
      "source": [
        "# import required libraries\n",
        "from kafka import KafkaConsumer, KafkaProducer\n",
        "import avro.schema\n",
        "import avro.io\n",
        "import io\n",
        "import hashlib, json"
      ]
    },
    {
      "cell_type": "code",
      "execution_count": 41,
      "id": "6234ffde",
      "metadata": {
        "id": "6234ffde"
      },
      "outputs": [],
      "source": [
        "def serialize(schema, obj):\n",
        "    bytes_writer = io.BytesIO()\n",
        "    encoder = avro.io.BinaryEncoder(bytes_writer)\n",
        "    writer = avro.io.DatumWriter(schema)\n",
        "    writer.write(obj, encoder)\n",
        "    return bytes_writer.getvalue()"
      ]
    },
    {
      "cell_type": "code",
      "execution_count": 42,
      "id": "5e1434bb",
      "metadata": {
        "id": "5e1434bb"
      },
      "outputs": [],
      "source": [
        "def deserialize(schema, raw_bytes):\n",
        "    bytes_reader = io.BytesIO(raw_bytes)\n",
        "    decoder = avro.io.BinaryDecoder(bytes_reader)\n",
        "    reader = avro.io.DatumReader(schema)\n",
        "    return reader.read(decoder)"
      ]
    },
    {
      "cell_type": "code",
      "execution_count": 43,
      "id": "0e92e3e9",
      "metadata": {
        "id": "0e92e3e9"
      },
      "outputs": [],
      "source": [
        "schema_file = 'transaction.avsc'\n",
        "txschema = avro.schema.parse(open(schema_file).read())\n",
        "schema_file = 'submit.avsc'\n",
        "submitschema = avro.schema.parse(open(schema_file).read())\n",
        "schema_file = 'result.avsc'\n",
        "resultschema = avro.schema.parse(open(schema_file).read())"
      ]
    },
    {
      "cell_type": "code",
      "execution_count": 44,
      "id": "bcb5dc21",
      "metadata": {
        "id": "bcb5dc21"
      },
      "outputs": [],
      "source": [
        "# Connect to kafka broker running in your local host (docker). Change this to your kafka broker if needed\n",
        "kafka_broker = '35.240.149.229:9092'"
      ]
    },
    {
      "cell_type": "code",
      "execution_count": 45,
      "id": "0e05b4b0",
      "metadata": {
        "id": "0e05b4b0"
      },
      "outputs": [],
      "source": [
        "producer = KafkaProducer(bootstrap_servers=[kafka_broker])"
      ]
    },
    {
      "cell_type": "code",
      "execution_count": 46,
      "id": "4a2555a3",
      "metadata": {
        "id": "4a2555a3"
      },
      "outputs": [],
      "source": [
        "txconsumer = KafkaConsumer(\n",
        "    'transaction',\n",
        "     bootstrap_servers=[kafka_broker],\n",
        "     enable_auto_commit=True,\n",
        "     value_deserializer=lambda x: deserialize(txschema, x))\n",
        "resultconsumer = KafkaConsumer(\n",
        "    'result',\n",
        "     bootstrap_servers=[kafka_broker],\n",
        "     enable_auto_commit=True,\n",
        "     value_deserializer=lambda x: deserialize(resultschema, x))"
      ]
    },
    {
      "cell_type": "code",
      "execution_count": 47,
      "id": "fe697a88",
      "metadata": {
        "id": "fe697a88"
      },
      "outputs": [],
      "source": [
        "def gen_signature(txid, payer, payee, amount, token):\n",
        "    o = {'txid': txid, 'payer': payer, 'payee': payee, 'amount': amount, 'token': token}\n",
        "    return hashlib.md5(json.dumps(o, sort_keys=True).encode('utf-8')).hexdigest()"
      ]
    },
    {
      "cell_type": "code",
      "execution_count": 48,
      "id": "b9915bcc",
      "metadata": {
        "id": "b9915bcc"
      },
      "outputs": [
        {
          "name": "stdout",
          "output_type": "stream",
          "text": [
            "{'txid': 'TX01490', 'payer': 'A90971', 'payee': 'A80362', 'amount': 1571}\n",
            "{'txid': 'TX09639', 'payer': 'A39845', 'payee': 'A32096', 'amount': 1714}\n",
            "{'txid': 'TX04233', 'payer': 'A51792', 'payee': 'A33353', 'amount': 1181}\n",
            "{'txid': 'TX02470', 'payer': 'A79946', 'payee': 'A26374', 'amount': 803}\n",
            "{'txid': 'TX09525', 'payer': 'A26666', 'payee': 'A51111', 'amount': 306}\n",
            "{'txid': 'TX08848', 'payer': 'A44969', 'payee': 'A86476', 'amount': 1466}\n",
            "{'txid': 'TX04876', 'payer': 'A96742', 'payee': 'A47458', 'amount': 1758}\n",
            "{'txid': 'TX08273', 'payer': 'A77390', 'payee': 'A80996', 'amount': 1286}\n",
            "{'txid': 'TX07201', 'payer': 'A56843', 'payee': 'A47741', 'amount': 1186}\n",
            "{'txid': 'TX07931', 'payer': 'A82611', 'payee': 'A77536', 'amount': 1004}\n",
            "{'txid': 'TX06497', 'payer': 'A88577', 'payee': 'A16385', 'amount': 496}\n",
            "{'txid': 'TX07241', 'payer': 'A51109', 'payee': 'A24267', 'amount': 204}\n",
            "{'txid': 'TX01584', 'payer': 'A45932', 'payee': 'A46986', 'amount': 932}\n",
            "{'txid': 'TX00979', 'payer': 'A24235', 'payee': 'A54626', 'amount': 1736}\n",
            "{'txid': 'TX06289', 'payer': 'A08724', 'payee': 'A97484', 'amount': 1409}\n",
            "{'txid': 'TX05788', 'payer': 'A03122', 'payee': 'A08425', 'amount': 1714}\n",
            "{'txid': 'TX05523', 'payer': 'A04160', 'payee': 'A56477', 'amount': 1782}\n",
            "{'txid': 'TX00987', 'payer': 'A70607', 'payee': 'A13640', 'amount': 335}\n",
            "{'txid': 'TX08039', 'payer': 'A41342', 'payee': 'A06806', 'amount': 387}\n",
            "{'txid': 'TX03464', 'payer': 'A26471', 'payee': 'A11369', 'amount': 1393}\n",
            "{'txid': 'TX02568', 'payer': 'A17276', 'payee': 'A38988', 'amount': 794}\n",
            "{'txid': 'TX00756', 'payer': 'A17938', 'payee': 'A54487', 'amount': 1220}\n",
            "{'txid': 'TX00329', 'payer': 'A21119', 'payee': 'A26499', 'amount': 1863}\n",
            "{'txid': 'TX06787', 'payer': 'A42250', 'payee': 'A37680', 'amount': 509}\n",
            "{'txid': 'TX08783', 'payer': 'A56655', 'payee': 'A50642', 'amount': 1774}\n"
          ]
        }
      ],
      "source": [
        "# Read a transaction from “transaction” topic using transaction.avsc schema, extract transaction information including txid, payer, payee, and amount\n",
        "# Generate a signature using the transaction information and the token\n",
        "# Send the signature to “submit” topic using submit.avsc schema\n",
        "for msg in txconsumer:\n",
        "    tx = msg.value\n",
        "    print(tx)\n",
        "    txid = tx['txid']\n",
        "    payer = tx['payer']\n",
        "    payee = tx['payee']\n",
        "    amount = tx['amount']\n",
        "    token = 'ab101f7dca72a6cebd6ab56b55aa2810'\n",
        "    signature = gen_signature(txid, payer, payee, amount, token)\n",
        "    vid = 'V226190'\n",
        "    submit = {'vid':vid, 'txid': txid, 'signature': signature}\n",
        "    producer.send('submit', serialize(submitschema, submit))"
      ]
    }
  ],
  "metadata": {
    "colab": {
      "provenance": []
    },
    "kernelspec": {
      "display_name": "Python 3 (ipykernel)",
      "language": "python",
      "name": "python3"
    },
    "language_info": {
      "codemirror_mode": {
        "name": "ipython",
        "version": 3
      },
      "file_extension": ".py",
      "mimetype": "text/x-python",
      "name": "python",
      "nbconvert_exporter": "python",
      "pygments_lexer": "ipython3",
      "version": "3.10.10"
    }
  },
  "nbformat": 4,
  "nbformat_minor": 5
}
