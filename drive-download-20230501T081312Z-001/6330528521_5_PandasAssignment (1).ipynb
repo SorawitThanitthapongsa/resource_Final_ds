{
  "cells": [
    {
      "cell_type": "markdown",
      "metadata": {
        "id": "OIom1X-v0TGc"
      },
      "source": [
        "# Assignment - Basic Pandas\n",
        "<sup>Created by Natawut Nupairoj, Department of Computer Engineering, Chulalongkorn University</sup>\n",
        "\n",
        "Using pandas to explore youtube trending data from GB (GBvideos.csv and GB_category_id.json) and answer the questions."
      ]
    },
    {
      "cell_type": "code",
      "execution_count": null,
      "metadata": {
        "id": "_ooeQeBn0TGf"
      },
      "outputs": [],
      "source": [
        "import pandas as pd\n",
        "import numpy as np"
      ]
    },
    {
      "cell_type": "markdown",
      "metadata": {
        "id": "RNyAGpWT0TGh"
      },
      "source": [
        "To simplify data retrieval process on Colab, we heck if we are in the Colab environment and download data files from a shared drive and save them in folder \"data\".\n",
        "\n",
        "For those using jupyter notebook on the local computer, you can read data directly assuming you save data in the folder \"data\"."
      ]
    },
    {
      "cell_type": "code",
      "execution_count": null,
      "metadata": {
        "id": "qro_9JWV0TGi",
        "colab": {
          "base_uri": "https://localhost:8080/"
        },
        "outputId": "e1dae5b4-271f-4630-e2ad-0e6899f3a2c0"
      },
      "outputs": [
        {
          "output_type": "stream",
          "name": "stdout",
          "text": [
            "--2023-01-15 15:36:05--  https://github.com/kaopanboonyuen/2110446_DataScience_2021s2/raw/main/datasets/data.tgz\n",
            "Resolving github.com (github.com)... 20.205.243.166\n",
            "Connecting to github.com (github.com)|20.205.243.166|:443... connected.\n",
            "HTTP request sent, awaiting response... 302 Found\n",
            "Location: https://raw.githubusercontent.com/kaopanboonyuen/2110446_DataScience_2021s2/main/datasets/data.tgz [following]\n",
            "--2023-01-15 15:36:06--  https://raw.githubusercontent.com/kaopanboonyuen/2110446_DataScience_2021s2/main/datasets/data.tgz\n",
            "Resolving raw.githubusercontent.com (raw.githubusercontent.com)... 185.199.109.133, 185.199.110.133, 185.199.111.133, ...\n",
            "Connecting to raw.githubusercontent.com (raw.githubusercontent.com)|185.199.109.133|:443... connected.\n",
            "HTTP request sent, awaiting response... 200 OK\n",
            "Length: 45477462 (43M) [application/octet-stream]\n",
            "Saving to: ‘data.tgz’\n",
            "\n",
            "data.tgz            100%[===================>]  43.37M  --.-KB/s    in 0.1s    \n",
            "\n",
            "2023-01-15 15:36:10 (323 MB/s) - ‘data.tgz’ saved [45477462/45477462]\n",
            "\n",
            "data/\n",
            "data/._GB_category_id.json\n",
            "data/GB_category_id.json\n",
            "data/._US_category_id.json\n",
            "data/US_category_id.json\n",
            "data/._USvideos.csv\n",
            "data/USvideos.csv\n",
            "data/._GBvideos.csv\n",
            "data/GBvideos.csv\n"
          ]
        }
      ],
      "source": [
        "import sys\n",
        "IN_COLAB = 'google.colab' in sys.modules\n",
        "if IN_COLAB:\n",
        "    !wget https://github.com/kaopanboonyuen/2110446_DataScience_2021s2/raw/main/datasets/data.tgz -O data.tgz\n",
        "    !tar -xzvf data.tgz"
      ]
    },
    {
      "cell_type": "code",
      "source": [
        "df = pd.read_csv(\"data/GBvideos.csv\")\n"
      ],
      "metadata": {
        "id": "DCts26RzmIWZ"
      },
      "execution_count": null,
      "outputs": []
    },
    {
      "cell_type": "markdown",
      "metadata": {
        "id": "rkNi2LHT0TGj"
      },
      "source": [
        "## How many rows are there in the GBvideos.csv after removing duplications?"
      ]
    },
    {
      "cell_type": "code",
      "execution_count": null,
      "metadata": {
        "id": "PFzYyW7V0TGj",
        "colab": {
          "base_uri": "https://localhost:8080/"
        },
        "outputId": "a55f1c79-205f-4d50-a887-39f9a29d3c64"
      },
      "outputs": [
        {
          "output_type": "execute_result",
          "data": {
            "text/plain": [
              "38745"
            ]
          },
          "metadata": {},
          "execution_count": 4
        }
      ],
      "source": [
        "df.drop_duplicates(inplace=True)\n",
        "len(df)"
      ]
    },
    {
      "cell_type": "markdown",
      "metadata": {
        "id": "mSc2U7HJ0TGk"
      },
      "source": [
        "## How many VDO that have \"dislikes\" more than \"likes\"?  <font color=red>DO NOT group by the data and make sure that you count only unique title!</font>"
      ]
    },
    {
      "cell_type": "code",
      "execution_count": null,
      "metadata": {
        "id": "Q0NF1dI40TGk",
        "colab": {
          "base_uri": "https://localhost:8080/"
        },
        "outputId": "4228f502-a2cd-4524-ecfe-a1fecc5b3b7c"
      },
      "outputs": [
        {
          "output_type": "execute_result",
          "data": {
            "text/plain": [
              "56"
            ]
          },
          "metadata": {},
          "execution_count": 5
        }
      ],
      "source": [
        "df_dismorelike = df[(df.likes < df.dislikes)].title.unique()\n",
        "len(df_dismorelike)\n"
      ]
    },
    {
      "cell_type": "code",
      "source": [
        "df.dtypes"
      ],
      "metadata": {
        "colab": {
          "base_uri": "https://localhost:8080/"
        },
        "id": "pFmYkfYptGy7",
        "outputId": "341f0fe3-998d-4555-d886-171dcd529666"
      },
      "execution_count": null,
      "outputs": [
        {
          "output_type": "execute_result",
          "data": {
            "text/plain": [
              "video_id                  object\n",
              "trending_date             object\n",
              "title                     object\n",
              "channel_title             object\n",
              "category_id                int64\n",
              "publish_time              object\n",
              "tags                      object\n",
              "views                      int64\n",
              "likes                      int64\n",
              "dislikes                   int64\n",
              "comment_count              int64\n",
              "thumbnail_link            object\n",
              "comments_disabled           bool\n",
              "ratings_disabled            bool\n",
              "video_error_or_removed      bool\n",
              "description               object\n",
              "dtype: object"
            ]
          },
          "metadata": {},
          "execution_count": 6
        }
      ]
    },
    {
      "cell_type": "markdown",
      "metadata": {
        "id": "oNxh-5CL0TGk"
      },
      "source": [
        "## How many VDO that are trending on 22 Jan 2018 with comments more than 10,000 comments?"
      ]
    },
    {
      "cell_type": "code",
      "source": [
        "from datetime import datetime, timezone"
      ],
      "metadata": {
        "id": "ihxmc3DOAAhd"
      },
      "execution_count": 1,
      "outputs": []
    },
    {
      "cell_type": "code",
      "source": [
        "date_22 = datetime(2018, 1, 22, tzinfo=timezone.utc)"
      ],
      "metadata": {
        "id": "vnTc-qW9AKIm"
      },
      "execution_count": 2,
      "outputs": []
    },
    {
      "cell_type": "code",
      "source": [
        "print(date_22)"
      ],
      "metadata": {
        "colab": {
          "base_uri": "https://localhost:8080/"
        },
        "id": "6KwPRopQp6l2",
        "outputId": "a4aa829d-afb2-4355-abb0-91878bf6fec3"
      },
      "execution_count": 4,
      "outputs": [
        {
          "output_type": "stream",
          "name": "stdout",
          "text": [
            "2018-01-22 00:00:00+00:00\n"
          ]
        }
      ]
    },
    {
      "cell_type": "code",
      "source": [
        "df['trending_dt'] = pd.to_datetime(df.trending_date, format='%y.%d.%m', errors='ignore', utc=True)"
      ],
      "metadata": {
        "id": "KKorGYYK_3WA"
      },
      "execution_count": null,
      "outputs": []
    },
    {
      "cell_type": "code",
      "execution_count": null,
      "metadata": {
        "id": "07-y5sNw0TGl",
        "colab": {
          "base_uri": "https://localhost:8080/"
        },
        "outputId": "02eb8a56-1ed8-4359-ccc8-64c349dd265c"
      },
      "outputs": [
        {
          "output_type": "execute_result",
          "data": {
            "text/plain": [
              "28"
            ]
          },
          "metadata": {},
          "execution_count": 10
        }
      ],
      "source": [
        "df_22commore10000 = df[((df.comment_count > 10000) & (df.trending_dt == date_22))]\n",
        "len(df_22commore10000)"
      ]
    },
    {
      "cell_type": "code",
      "source": [
        "df"
      ],
      "metadata": {
        "id": "0S5RLjJzzcl1",
        "outputId": "7e456b1f-ebf8-45e5-ccc5-af90844caf14",
        "colab": {
          "base_uri": "https://localhost:8080/",
          "height": 1000
        }
      },
      "execution_count": null,
      "outputs": [
        {
          "output_type": "execute_result",
          "data": {
            "text/plain": [
              "          video_id trending_date  \\\n",
              "0      Jw1Y-zhQURU      17.14.11   \n",
              "1      3s1rvMFUweQ      17.14.11   \n",
              "2      n1WpP7iowLc      17.14.11   \n",
              "3      PUTEiSjKwJU      17.14.11   \n",
              "4      rHwDegptbI4      17.14.11   \n",
              "...            ...           ...   \n",
              "38911  l884wKofd54      18.14.06   \n",
              "38912  IP8k2xkhOdI      18.14.06   \n",
              "38913  Il-an3K9pjg      18.14.06   \n",
              "38914  -DRsfNObKIQ      18.14.06   \n",
              "38915  4YFo4bdMO8Q      18.14.06   \n",
              "\n",
              "                                                   title  \\\n",
              "0          John Lewis Christmas Ad 2017 - #MozTheMonster   \n",
              "1              Taylor Swift: …Ready for It? (Live) - SNL   \n",
              "2             Eminem - Walk On Water (Audio) ft. Beyoncé   \n",
              "3      Goals from Salford City vs Class of 92 and Fri...   \n",
              "4      Dashcam captures truck's near miss with child ...   \n",
              "...                                                  ...   \n",
              "38911  Enrique Iglesias - MOVE TO MIAMI (Official Vid...   \n",
              "38912  Jacob Sartorius - Up With It (Official Music V...   \n",
              "38913                 Anne-Marie - 2002 [Official Video]   \n",
              "38914  Eleni Foureira - Fuego - Cyprus - LIVE - First...   \n",
              "38915  KYLE - Ikuyo feat.  2 Chainz & Sophia Black [A...   \n",
              "\n",
              "                    channel_title  category_id              publish_time  \\\n",
              "0                      John Lewis           26  2017-11-10T07:38:29.000Z   \n",
              "1             Saturday Night Live           24  2017-11-12T06:24:44.000Z   \n",
              "2                      EminemVEVO           10  2017-11-10T17:00:03.000Z   \n",
              "3      Salford City Football Club           17  2017-11-13T02:30:38.000Z   \n",
              "4                Cute Girl Videos           25  2017-11-13T01:45:13.000Z   \n",
              "...                           ...          ...                       ...   \n",
              "38911         EnriqueIglesiasVEVO           10  2018-05-09T07:00:01.000Z   \n",
              "38912             Jacob Sartorius           10  2018-05-11T17:09:16.000Z   \n",
              "38913                  Anne-Marie           10  2018-05-08T11:05:08.000Z   \n",
              "38914     Eurovision Song Contest           24  2018-05-08T20:32:32.000Z   \n",
              "38915              SuperDuperKyle           10  2018-05-11T04:06:35.000Z   \n",
              "\n",
              "                                                    tags     views   likes  \\\n",
              "0      christmas|\"john lewis christmas\"|\"john lewis\"|...   7224515   55681   \n",
              "1      SNL|\"Saturday Night Live\"|\"SNL Season 43\"|\"Epi...   1053632   25561   \n",
              "2      Eminem|\"Walk\"|\"On\"|\"Water\"|\"Aftermath/Shady/In...  17158579  787420   \n",
              "3      Salford City FC|\"Salford City\"|\"Salford\"|\"Clas...     27833     193   \n",
              "4                                                 [none]      9815      30   \n",
              "...                                                  ...       ...     ...   \n",
              "38911  Enrique Iglesias feat. Pitbull|\"MOVE TO MIAMI\"...  25066952  268088   \n",
              "38912  jacob sartorius|\"jacob\"|\"up with it\"|\"jacob sa...   1492219   61998   \n",
              "38913  anne|\"marie\"|\"anne-marie\"|\"2002\"|\"two thousand...  29641412  394830   \n",
              "38914  Eurovision Song Contest|\"2018\"|\"Lisbon\"|\"Cypru...  14317515  151870   \n",
              "38915  Kyle|\"SuperDuperKyle\"|\"Ikuyo\"|\"2 Chainz\"|\"Soph...    607552   18271   \n",
              "\n",
              "       dislikes  comment_count  \\\n",
              "0         10247           9479   \n",
              "1          2294           2757   \n",
              "2         43420         125882   \n",
              "3            12             37   \n",
              "4             2             30   \n",
              "...         ...            ...   \n",
              "38911     12783           9933   \n",
              "38912     13781          24330   \n",
              "38913      8892          19988   \n",
              "38914     45875          26766   \n",
              "38915       274           1423   \n",
              "\n",
              "                                       thumbnail_link  comments_disabled  \\\n",
              "0      https://i.ytimg.com/vi/Jw1Y-zhQURU/default.jpg              False   \n",
              "1      https://i.ytimg.com/vi/3s1rvMFUweQ/default.jpg              False   \n",
              "2      https://i.ytimg.com/vi/n1WpP7iowLc/default.jpg              False   \n",
              "3      https://i.ytimg.com/vi/PUTEiSjKwJU/default.jpg              False   \n",
              "4      https://i.ytimg.com/vi/rHwDegptbI4/default.jpg              False   \n",
              "...                                               ...                ...   \n",
              "38911  https://i.ytimg.com/vi/l884wKofd54/default.jpg              False   \n",
              "38912  https://i.ytimg.com/vi/IP8k2xkhOdI/default.jpg              False   \n",
              "38913  https://i.ytimg.com/vi/Il-an3K9pjg/default.jpg              False   \n",
              "38914  https://i.ytimg.com/vi/-DRsfNObKIQ/default.jpg              False   \n",
              "38915  https://i.ytimg.com/vi/4YFo4bdMO8Q/default.jpg              False   \n",
              "\n",
              "       ratings_disabled  video_error_or_removed  \\\n",
              "0                 False                   False   \n",
              "1                 False                   False   \n",
              "2                 False                   False   \n",
              "3                 False                   False   \n",
              "4                 False                   False   \n",
              "...                 ...                     ...   \n",
              "38911             False                   False   \n",
              "38912             False                   False   \n",
              "38913             False                   False   \n",
              "38914             False                   False   \n",
              "38915             False                   False   \n",
              "\n",
              "                                             description  \\\n",
              "0      Click here to continue the story and make your...   \n",
              "1      Musical guest Taylor Swift performs …Ready for...   \n",
              "2      Eminem's new track Walk on Water ft. Beyoncé i...   \n",
              "3      Salford drew 4-4 against the Class of 92 and F...   \n",
              "4      Dashcam captures truck's near miss with child ...   \n",
              "...                                                  ...   \n",
              "38911  NEW SONG - MOVE TO MIAMI feat. Pitbull (Click ...   \n",
              "38912  THE OFFICIAL UP WITH IT MUSIC VIDEO!Get my new...   \n",
              "38913  Get 2002 by Anne-Marie HERE ▶ http://ad.gt/200...   \n",
              "38914  Eleni Foureira represented Cyprus at the first...   \n",
              "38915  Debut album 'Light of Mine' out now: http://ky...   \n",
              "\n",
              "                    trending_dt  \n",
              "0     2017-11-14 00:00:00+00:00  \n",
              "1     2017-11-14 00:00:00+00:00  \n",
              "2     2017-11-14 00:00:00+00:00  \n",
              "3     2017-11-14 00:00:00+00:00  \n",
              "4     2017-11-14 00:00:00+00:00  \n",
              "...                         ...  \n",
              "38911 2018-06-14 00:00:00+00:00  \n",
              "38912 2018-06-14 00:00:00+00:00  \n",
              "38913 2018-06-14 00:00:00+00:00  \n",
              "38914 2018-06-14 00:00:00+00:00  \n",
              "38915 2018-06-14 00:00:00+00:00  \n",
              "\n",
              "[38745 rows x 17 columns]"
            ],
            "text/html": [
              "\n",
              "  <div id=\"df-456ee87d-957a-43a4-a06a-78d8125574f4\">\n",
              "    <div class=\"colab-df-container\">\n",
              "      <div>\n",
              "<style scoped>\n",
              "    .dataframe tbody tr th:only-of-type {\n",
              "        vertical-align: middle;\n",
              "    }\n",
              "\n",
              "    .dataframe tbody tr th {\n",
              "        vertical-align: top;\n",
              "    }\n",
              "\n",
              "    .dataframe thead th {\n",
              "        text-align: right;\n",
              "    }\n",
              "</style>\n",
              "<table border=\"1\" class=\"dataframe\">\n",
              "  <thead>\n",
              "    <tr style=\"text-align: right;\">\n",
              "      <th></th>\n",
              "      <th>video_id</th>\n",
              "      <th>trending_date</th>\n",
              "      <th>title</th>\n",
              "      <th>channel_title</th>\n",
              "      <th>category_id</th>\n",
              "      <th>publish_time</th>\n",
              "      <th>tags</th>\n",
              "      <th>views</th>\n",
              "      <th>likes</th>\n",
              "      <th>dislikes</th>\n",
              "      <th>comment_count</th>\n",
              "      <th>thumbnail_link</th>\n",
              "      <th>comments_disabled</th>\n",
              "      <th>ratings_disabled</th>\n",
              "      <th>video_error_or_removed</th>\n",
              "      <th>description</th>\n",
              "      <th>trending_dt</th>\n",
              "    </tr>\n",
              "  </thead>\n",
              "  <tbody>\n",
              "    <tr>\n",
              "      <th>0</th>\n",
              "      <td>Jw1Y-zhQURU</td>\n",
              "      <td>17.14.11</td>\n",
              "      <td>John Lewis Christmas Ad 2017 - #MozTheMonster</td>\n",
              "      <td>John Lewis</td>\n",
              "      <td>26</td>\n",
              "      <td>2017-11-10T07:38:29.000Z</td>\n",
              "      <td>christmas|\"john lewis christmas\"|\"john lewis\"|...</td>\n",
              "      <td>7224515</td>\n",
              "      <td>55681</td>\n",
              "      <td>10247</td>\n",
              "      <td>9479</td>\n",
              "      <td>https://i.ytimg.com/vi/Jw1Y-zhQURU/default.jpg</td>\n",
              "      <td>False</td>\n",
              "      <td>False</td>\n",
              "      <td>False</td>\n",
              "      <td>Click here to continue the story and make your...</td>\n",
              "      <td>2017-11-14 00:00:00+00:00</td>\n",
              "    </tr>\n",
              "    <tr>\n",
              "      <th>1</th>\n",
              "      <td>3s1rvMFUweQ</td>\n",
              "      <td>17.14.11</td>\n",
              "      <td>Taylor Swift: …Ready for It? (Live) - SNL</td>\n",
              "      <td>Saturday Night Live</td>\n",
              "      <td>24</td>\n",
              "      <td>2017-11-12T06:24:44.000Z</td>\n",
              "      <td>SNL|\"Saturday Night Live\"|\"SNL Season 43\"|\"Epi...</td>\n",
              "      <td>1053632</td>\n",
              "      <td>25561</td>\n",
              "      <td>2294</td>\n",
              "      <td>2757</td>\n",
              "      <td>https://i.ytimg.com/vi/3s1rvMFUweQ/default.jpg</td>\n",
              "      <td>False</td>\n",
              "      <td>False</td>\n",
              "      <td>False</td>\n",
              "      <td>Musical guest Taylor Swift performs …Ready for...</td>\n",
              "      <td>2017-11-14 00:00:00+00:00</td>\n",
              "    </tr>\n",
              "    <tr>\n",
              "      <th>2</th>\n",
              "      <td>n1WpP7iowLc</td>\n",
              "      <td>17.14.11</td>\n",
              "      <td>Eminem - Walk On Water (Audio) ft. Beyoncé</td>\n",
              "      <td>EminemVEVO</td>\n",
              "      <td>10</td>\n",
              "      <td>2017-11-10T17:00:03.000Z</td>\n",
              "      <td>Eminem|\"Walk\"|\"On\"|\"Water\"|\"Aftermath/Shady/In...</td>\n",
              "      <td>17158579</td>\n",
              "      <td>787420</td>\n",
              "      <td>43420</td>\n",
              "      <td>125882</td>\n",
              "      <td>https://i.ytimg.com/vi/n1WpP7iowLc/default.jpg</td>\n",
              "      <td>False</td>\n",
              "      <td>False</td>\n",
              "      <td>False</td>\n",
              "      <td>Eminem's new track Walk on Water ft. Beyoncé i...</td>\n",
              "      <td>2017-11-14 00:00:00+00:00</td>\n",
              "    </tr>\n",
              "    <tr>\n",
              "      <th>3</th>\n",
              "      <td>PUTEiSjKwJU</td>\n",
              "      <td>17.14.11</td>\n",
              "      <td>Goals from Salford City vs Class of 92 and Fri...</td>\n",
              "      <td>Salford City Football Club</td>\n",
              "      <td>17</td>\n",
              "      <td>2017-11-13T02:30:38.000Z</td>\n",
              "      <td>Salford City FC|\"Salford City\"|\"Salford\"|\"Clas...</td>\n",
              "      <td>27833</td>\n",
              "      <td>193</td>\n",
              "      <td>12</td>\n",
              "      <td>37</td>\n",
              "      <td>https://i.ytimg.com/vi/PUTEiSjKwJU/default.jpg</td>\n",
              "      <td>False</td>\n",
              "      <td>False</td>\n",
              "      <td>False</td>\n",
              "      <td>Salford drew 4-4 against the Class of 92 and F...</td>\n",
              "      <td>2017-11-14 00:00:00+00:00</td>\n",
              "    </tr>\n",
              "    <tr>\n",
              "      <th>4</th>\n",
              "      <td>rHwDegptbI4</td>\n",
              "      <td>17.14.11</td>\n",
              "      <td>Dashcam captures truck's near miss with child ...</td>\n",
              "      <td>Cute Girl Videos</td>\n",
              "      <td>25</td>\n",
              "      <td>2017-11-13T01:45:13.000Z</td>\n",
              "      <td>[none]</td>\n",
              "      <td>9815</td>\n",
              "      <td>30</td>\n",
              "      <td>2</td>\n",
              "      <td>30</td>\n",
              "      <td>https://i.ytimg.com/vi/rHwDegptbI4/default.jpg</td>\n",
              "      <td>False</td>\n",
              "      <td>False</td>\n",
              "      <td>False</td>\n",
              "      <td>Dashcam captures truck's near miss with child ...</td>\n",
              "      <td>2017-11-14 00:00:00+00:00</td>\n",
              "    </tr>\n",
              "    <tr>\n",
              "      <th>...</th>\n",
              "      <td>...</td>\n",
              "      <td>...</td>\n",
              "      <td>...</td>\n",
              "      <td>...</td>\n",
              "      <td>...</td>\n",
              "      <td>...</td>\n",
              "      <td>...</td>\n",
              "      <td>...</td>\n",
              "      <td>...</td>\n",
              "      <td>...</td>\n",
              "      <td>...</td>\n",
              "      <td>...</td>\n",
              "      <td>...</td>\n",
              "      <td>...</td>\n",
              "      <td>...</td>\n",
              "      <td>...</td>\n",
              "      <td>...</td>\n",
              "    </tr>\n",
              "    <tr>\n",
              "      <th>38911</th>\n",
              "      <td>l884wKofd54</td>\n",
              "      <td>18.14.06</td>\n",
              "      <td>Enrique Iglesias - MOVE TO MIAMI (Official Vid...</td>\n",
              "      <td>EnriqueIglesiasVEVO</td>\n",
              "      <td>10</td>\n",
              "      <td>2018-05-09T07:00:01.000Z</td>\n",
              "      <td>Enrique Iglesias feat. Pitbull|\"MOVE TO MIAMI\"...</td>\n",
              "      <td>25066952</td>\n",
              "      <td>268088</td>\n",
              "      <td>12783</td>\n",
              "      <td>9933</td>\n",
              "      <td>https://i.ytimg.com/vi/l884wKofd54/default.jpg</td>\n",
              "      <td>False</td>\n",
              "      <td>False</td>\n",
              "      <td>False</td>\n",
              "      <td>NEW SONG - MOVE TO MIAMI feat. Pitbull (Click ...</td>\n",
              "      <td>2018-06-14 00:00:00+00:00</td>\n",
              "    </tr>\n",
              "    <tr>\n",
              "      <th>38912</th>\n",
              "      <td>IP8k2xkhOdI</td>\n",
              "      <td>18.14.06</td>\n",
              "      <td>Jacob Sartorius - Up With It (Official Music V...</td>\n",
              "      <td>Jacob Sartorius</td>\n",
              "      <td>10</td>\n",
              "      <td>2018-05-11T17:09:16.000Z</td>\n",
              "      <td>jacob sartorius|\"jacob\"|\"up with it\"|\"jacob sa...</td>\n",
              "      <td>1492219</td>\n",
              "      <td>61998</td>\n",
              "      <td>13781</td>\n",
              "      <td>24330</td>\n",
              "      <td>https://i.ytimg.com/vi/IP8k2xkhOdI/default.jpg</td>\n",
              "      <td>False</td>\n",
              "      <td>False</td>\n",
              "      <td>False</td>\n",
              "      <td>THE OFFICIAL UP WITH IT MUSIC VIDEO!Get my new...</td>\n",
              "      <td>2018-06-14 00:00:00+00:00</td>\n",
              "    </tr>\n",
              "    <tr>\n",
              "      <th>38913</th>\n",
              "      <td>Il-an3K9pjg</td>\n",
              "      <td>18.14.06</td>\n",
              "      <td>Anne-Marie - 2002 [Official Video]</td>\n",
              "      <td>Anne-Marie</td>\n",
              "      <td>10</td>\n",
              "      <td>2018-05-08T11:05:08.000Z</td>\n",
              "      <td>anne|\"marie\"|\"anne-marie\"|\"2002\"|\"two thousand...</td>\n",
              "      <td>29641412</td>\n",
              "      <td>394830</td>\n",
              "      <td>8892</td>\n",
              "      <td>19988</td>\n",
              "      <td>https://i.ytimg.com/vi/Il-an3K9pjg/default.jpg</td>\n",
              "      <td>False</td>\n",
              "      <td>False</td>\n",
              "      <td>False</td>\n",
              "      <td>Get 2002 by Anne-Marie HERE ▶ http://ad.gt/200...</td>\n",
              "      <td>2018-06-14 00:00:00+00:00</td>\n",
              "    </tr>\n",
              "    <tr>\n",
              "      <th>38914</th>\n",
              "      <td>-DRsfNObKIQ</td>\n",
              "      <td>18.14.06</td>\n",
              "      <td>Eleni Foureira - Fuego - Cyprus - LIVE - First...</td>\n",
              "      <td>Eurovision Song Contest</td>\n",
              "      <td>24</td>\n",
              "      <td>2018-05-08T20:32:32.000Z</td>\n",
              "      <td>Eurovision Song Contest|\"2018\"|\"Lisbon\"|\"Cypru...</td>\n",
              "      <td>14317515</td>\n",
              "      <td>151870</td>\n",
              "      <td>45875</td>\n",
              "      <td>26766</td>\n",
              "      <td>https://i.ytimg.com/vi/-DRsfNObKIQ/default.jpg</td>\n",
              "      <td>False</td>\n",
              "      <td>False</td>\n",
              "      <td>False</td>\n",
              "      <td>Eleni Foureira represented Cyprus at the first...</td>\n",
              "      <td>2018-06-14 00:00:00+00:00</td>\n",
              "    </tr>\n",
              "    <tr>\n",
              "      <th>38915</th>\n",
              "      <td>4YFo4bdMO8Q</td>\n",
              "      <td>18.14.06</td>\n",
              "      <td>KYLE - Ikuyo feat.  2 Chainz &amp; Sophia Black [A...</td>\n",
              "      <td>SuperDuperKyle</td>\n",
              "      <td>10</td>\n",
              "      <td>2018-05-11T04:06:35.000Z</td>\n",
              "      <td>Kyle|\"SuperDuperKyle\"|\"Ikuyo\"|\"2 Chainz\"|\"Soph...</td>\n",
              "      <td>607552</td>\n",
              "      <td>18271</td>\n",
              "      <td>274</td>\n",
              "      <td>1423</td>\n",
              "      <td>https://i.ytimg.com/vi/4YFo4bdMO8Q/default.jpg</td>\n",
              "      <td>False</td>\n",
              "      <td>False</td>\n",
              "      <td>False</td>\n",
              "      <td>Debut album 'Light of Mine' out now: http://ky...</td>\n",
              "      <td>2018-06-14 00:00:00+00:00</td>\n",
              "    </tr>\n",
              "  </tbody>\n",
              "</table>\n",
              "<p>38745 rows × 17 columns</p>\n",
              "</div>\n",
              "      <button class=\"colab-df-convert\" onclick=\"convertToInteractive('df-456ee87d-957a-43a4-a06a-78d8125574f4')\"\n",
              "              title=\"Convert this dataframe to an interactive table.\"\n",
              "              style=\"display:none;\">\n",
              "        \n",
              "  <svg xmlns=\"http://www.w3.org/2000/svg\" height=\"24px\"viewBox=\"0 0 24 24\"\n",
              "       width=\"24px\">\n",
              "    <path d=\"M0 0h24v24H0V0z\" fill=\"none\"/>\n",
              "    <path d=\"M18.56 5.44l.94 2.06.94-2.06 2.06-.94-2.06-.94-.94-2.06-.94 2.06-2.06.94zm-11 1L8.5 8.5l.94-2.06 2.06-.94-2.06-.94L8.5 2.5l-.94 2.06-2.06.94zm10 10l.94 2.06.94-2.06 2.06-.94-2.06-.94-.94-2.06-.94 2.06-2.06.94z\"/><path d=\"M17.41 7.96l-1.37-1.37c-.4-.4-.92-.59-1.43-.59-.52 0-1.04.2-1.43.59L10.3 9.45l-7.72 7.72c-.78.78-.78 2.05 0 2.83L4 21.41c.39.39.9.59 1.41.59.51 0 1.02-.2 1.41-.59l7.78-7.78 2.81-2.81c.8-.78.8-2.07 0-2.86zM5.41 20L4 18.59l7.72-7.72 1.47 1.35L5.41 20z\"/>\n",
              "  </svg>\n",
              "      </button>\n",
              "      \n",
              "  <style>\n",
              "    .colab-df-container {\n",
              "      display:flex;\n",
              "      flex-wrap:wrap;\n",
              "      gap: 12px;\n",
              "    }\n",
              "\n",
              "    .colab-df-convert {\n",
              "      background-color: #E8F0FE;\n",
              "      border: none;\n",
              "      border-radius: 50%;\n",
              "      cursor: pointer;\n",
              "      display: none;\n",
              "      fill: #1967D2;\n",
              "      height: 32px;\n",
              "      padding: 0 0 0 0;\n",
              "      width: 32px;\n",
              "    }\n",
              "\n",
              "    .colab-df-convert:hover {\n",
              "      background-color: #E2EBFA;\n",
              "      box-shadow: 0px 1px 2px rgba(60, 64, 67, 0.3), 0px 1px 3px 1px rgba(60, 64, 67, 0.15);\n",
              "      fill: #174EA6;\n",
              "    }\n",
              "\n",
              "    [theme=dark] .colab-df-convert {\n",
              "      background-color: #3B4455;\n",
              "      fill: #D2E3FC;\n",
              "    }\n",
              "\n",
              "    [theme=dark] .colab-df-convert:hover {\n",
              "      background-color: #434B5C;\n",
              "      box-shadow: 0px 1px 3px 1px rgba(0, 0, 0, 0.15);\n",
              "      filter: drop-shadow(0px 1px 2px rgba(0, 0, 0, 0.3));\n",
              "      fill: #FFFFFF;\n",
              "    }\n",
              "  </style>\n",
              "\n",
              "      <script>\n",
              "        const buttonEl =\n",
              "          document.querySelector('#df-456ee87d-957a-43a4-a06a-78d8125574f4 button.colab-df-convert');\n",
              "        buttonEl.style.display =\n",
              "          google.colab.kernel.accessAllowed ? 'block' : 'none';\n",
              "\n",
              "        async function convertToInteractive(key) {\n",
              "          const element = document.querySelector('#df-456ee87d-957a-43a4-a06a-78d8125574f4');\n",
              "          const dataTable =\n",
              "            await google.colab.kernel.invokeFunction('convertToInteractive',\n",
              "                                                     [key], {});\n",
              "          if (!dataTable) return;\n",
              "\n",
              "          const docLinkHtml = 'Like what you see? Visit the ' +\n",
              "            '<a target=\"_blank\" href=https://colab.research.google.com/notebooks/data_table.ipynb>data table notebook</a>'\n",
              "            + ' to learn more about interactive tables.';\n",
              "          element.innerHTML = '';\n",
              "          dataTable['output_type'] = 'display_data';\n",
              "          await google.colab.output.renderOutput(dataTable, element);\n",
              "          const docLink = document.createElement('div');\n",
              "          docLink.innerHTML = docLinkHtml;\n",
              "          element.appendChild(docLink);\n",
              "        }\n",
              "      </script>\n",
              "    </div>\n",
              "  </div>\n",
              "  "
            ]
          },
          "metadata": {},
          "execution_count": 11
        }
      ]
    },
    {
      "cell_type": "markdown",
      "metadata": {
        "id": "jnBQwfD70TGl"
      },
      "source": [
        "## Which date that has the minimum average number of comments per VDO?"
      ]
    },
    {
      "cell_type": "code",
      "execution_count": null,
      "metadata": {
        "id": "KIDZyavc0TGl",
        "colab": {
          "base_uri": "https://localhost:8080/",
          "height": 81
        },
        "outputId": "31d6781f-d024-44a2-fd88-0b2415db32e5"
      },
      "outputs": [
        {
          "output_type": "execute_result",
          "data": {
            "text/plain": [
              "   trending_date      avg_com\n",
              "15      17.15.11  4738.673367"
            ],
            "text/html": [
              "\n",
              "  <div id=\"df-a72a239f-328f-4361-b4b5-3f6ea8463225\">\n",
              "    <div class=\"colab-df-container\">\n",
              "      <div>\n",
              "<style scoped>\n",
              "    .dataframe tbody tr th:only-of-type {\n",
              "        vertical-align: middle;\n",
              "    }\n",
              "\n",
              "    .dataframe tbody tr th {\n",
              "        vertical-align: top;\n",
              "    }\n",
              "\n",
              "    .dataframe thead th {\n",
              "        text-align: right;\n",
              "    }\n",
              "</style>\n",
              "<table border=\"1\" class=\"dataframe\">\n",
              "  <thead>\n",
              "    <tr style=\"text-align: right;\">\n",
              "      <th></th>\n",
              "      <th>trending_date</th>\n",
              "      <th>avg_com</th>\n",
              "    </tr>\n",
              "  </thead>\n",
              "  <tbody>\n",
              "    <tr>\n",
              "      <th>15</th>\n",
              "      <td>17.15.11</td>\n",
              "      <td>4738.673367</td>\n",
              "    </tr>\n",
              "  </tbody>\n",
              "</table>\n",
              "</div>\n",
              "      <button class=\"colab-df-convert\" onclick=\"convertToInteractive('df-a72a239f-328f-4361-b4b5-3f6ea8463225')\"\n",
              "              title=\"Convert this dataframe to an interactive table.\"\n",
              "              style=\"display:none;\">\n",
              "        \n",
              "  <svg xmlns=\"http://www.w3.org/2000/svg\" height=\"24px\"viewBox=\"0 0 24 24\"\n",
              "       width=\"24px\">\n",
              "    <path d=\"M0 0h24v24H0V0z\" fill=\"none\"/>\n",
              "    <path d=\"M18.56 5.44l.94 2.06.94-2.06 2.06-.94-2.06-.94-.94-2.06-.94 2.06-2.06.94zm-11 1L8.5 8.5l.94-2.06 2.06-.94-2.06-.94L8.5 2.5l-.94 2.06-2.06.94zm10 10l.94 2.06.94-2.06 2.06-.94-2.06-.94-.94-2.06-.94 2.06-2.06.94z\"/><path d=\"M17.41 7.96l-1.37-1.37c-.4-.4-.92-.59-1.43-.59-.52 0-1.04.2-1.43.59L10.3 9.45l-7.72 7.72c-.78.78-.78 2.05 0 2.83L4 21.41c.39.39.9.59 1.41.59.51 0 1.02-.2 1.41-.59l7.78-7.78 2.81-2.81c.8-.78.8-2.07 0-2.86zM5.41 20L4 18.59l7.72-7.72 1.47 1.35L5.41 20z\"/>\n",
              "  </svg>\n",
              "      </button>\n",
              "      \n",
              "  <style>\n",
              "    .colab-df-container {\n",
              "      display:flex;\n",
              "      flex-wrap:wrap;\n",
              "      gap: 12px;\n",
              "    }\n",
              "\n",
              "    .colab-df-convert {\n",
              "      background-color: #E8F0FE;\n",
              "      border: none;\n",
              "      border-radius: 50%;\n",
              "      cursor: pointer;\n",
              "      display: none;\n",
              "      fill: #1967D2;\n",
              "      height: 32px;\n",
              "      padding: 0 0 0 0;\n",
              "      width: 32px;\n",
              "    }\n",
              "\n",
              "    .colab-df-convert:hover {\n",
              "      background-color: #E2EBFA;\n",
              "      box-shadow: 0px 1px 2px rgba(60, 64, 67, 0.3), 0px 1px 3px 1px rgba(60, 64, 67, 0.15);\n",
              "      fill: #174EA6;\n",
              "    }\n",
              "\n",
              "    [theme=dark] .colab-df-convert {\n",
              "      background-color: #3B4455;\n",
              "      fill: #D2E3FC;\n",
              "    }\n",
              "\n",
              "    [theme=dark] .colab-df-convert:hover {\n",
              "      background-color: #434B5C;\n",
              "      box-shadow: 0px 1px 3px 1px rgba(0, 0, 0, 0.15);\n",
              "      filter: drop-shadow(0px 1px 2px rgba(0, 0, 0, 0.3));\n",
              "      fill: #FFFFFF;\n",
              "    }\n",
              "  </style>\n",
              "\n",
              "      <script>\n",
              "        const buttonEl =\n",
              "          document.querySelector('#df-a72a239f-328f-4361-b4b5-3f6ea8463225 button.colab-df-convert');\n",
              "        buttonEl.style.display =\n",
              "          google.colab.kernel.accessAllowed ? 'block' : 'none';\n",
              "\n",
              "        async function convertToInteractive(key) {\n",
              "          const element = document.querySelector('#df-a72a239f-328f-4361-b4b5-3f6ea8463225');\n",
              "          const dataTable =\n",
              "            await google.colab.kernel.invokeFunction('convertToInteractive',\n",
              "                                                     [key], {});\n",
              "          if (!dataTable) return;\n",
              "\n",
              "          const docLinkHtml = 'Like what you see? Visit the ' +\n",
              "            '<a target=\"_blank\" href=https://colab.research.google.com/notebooks/data_table.ipynb>data table notebook</a>'\n",
              "            + ' to learn more about interactive tables.';\n",
              "          element.innerHTML = '';\n",
              "          dataTable['output_type'] = 'display_data';\n",
              "          await google.colab.output.renderOutput(dataTable, element);\n",
              "          const docLink = document.createElement('div');\n",
              "          docLink.innerHTML = docLinkHtml;\n",
              "          element.appendChild(docLink);\n",
              "        }\n",
              "      </script>\n",
              "    </div>\n",
              "  </div>\n",
              "  "
            ]
          },
          "metadata": {},
          "execution_count": 12
        }
      ],
      "source": [
        "df_average = df.groupby('trending_date')['comment_count'].mean().reset_index(name='avg_com')\n",
        "min_avg = df_average['avg_com'].min()\n",
        "min_com_date = df_average[df_average.avg_com == min_avg]\n",
        "min_com_date"
      ]
    },
    {
      "cell_type": "code",
      "source": [
        "import json\n",
        "\n",
        "with open('data/GB_category_id.json') as fd:\n",
        "    cat = json.load(fd)"
      ],
      "metadata": {
        "id": "99b60ma_u3zT"
      },
      "execution_count": null,
      "outputs": []
    },
    {
      "cell_type": "code",
      "source": [
        "cat"
      ],
      "metadata": {
        "colab": {
          "base_uri": "https://localhost:8080/"
        },
        "id": "DeFirgCSvGbN",
        "outputId": "071b9aa7-4d13-4256-d7b0-685eb2610b1b"
      },
      "execution_count": null,
      "outputs": [
        {
          "output_type": "execute_result",
          "data": {
            "text/plain": [
              "{'kind': 'youtube#videoCategoryListResponse',\n",
              " 'etag': '\"m2yskBQFythfE4irbTIeOgYYfBU/1v2mrzYSYG6onNLt2qTj13hkQZk\"',\n",
              " 'items': [{'kind': 'youtube#videoCategory',\n",
              "   'etag': '\"m2yskBQFythfE4irbTIeOgYYfBU/Xy1mB4_yLrHy_BmKmPBggty2mZQ\"',\n",
              "   'id': '1',\n",
              "   'snippet': {'channelId': 'UCBR8-60-B28hp2BmDPdntcQ',\n",
              "    'title': 'Film & Animation',\n",
              "    'assignable': True}},\n",
              "  {'kind': 'youtube#videoCategory',\n",
              "   'etag': '\"m2yskBQFythfE4irbTIeOgYYfBU/UZ1oLIIz2dxIhO45ZTFR3a3NyTA\"',\n",
              "   'id': '2',\n",
              "   'snippet': {'channelId': 'UCBR8-60-B28hp2BmDPdntcQ',\n",
              "    'title': 'Autos & Vehicles',\n",
              "    'assignable': True}},\n",
              "  {'kind': 'youtube#videoCategory',\n",
              "   'etag': '\"m2yskBQFythfE4irbTIeOgYYfBU/nqRIq97-xe5XRZTxbknKFVe5Lmg\"',\n",
              "   'id': '10',\n",
              "   'snippet': {'channelId': 'UCBR8-60-B28hp2BmDPdntcQ',\n",
              "    'title': 'Music',\n",
              "    'assignable': True}},\n",
              "  {'kind': 'youtube#videoCategory',\n",
              "   'etag': '\"m2yskBQFythfE4irbTIeOgYYfBU/HwXKamM1Q20q9BN-oBJavSGkfDI\"',\n",
              "   'id': '15',\n",
              "   'snippet': {'channelId': 'UCBR8-60-B28hp2BmDPdntcQ',\n",
              "    'title': 'Pets & Animals',\n",
              "    'assignable': True}},\n",
              "  {'kind': 'youtube#videoCategory',\n",
              "   'etag': '\"m2yskBQFythfE4irbTIeOgYYfBU/9GQMSRjrZdHeb1OEM1XVQ9zbGec\"',\n",
              "   'id': '17',\n",
              "   'snippet': {'channelId': 'UCBR8-60-B28hp2BmDPdntcQ',\n",
              "    'title': 'Sports',\n",
              "    'assignable': True}},\n",
              "  {'kind': 'youtube#videoCategory',\n",
              "   'etag': '\"m2yskBQFythfE4irbTIeOgYYfBU/FJwVpGCVZ1yiJrqZbpqe68Sy_OE\"',\n",
              "   'id': '18',\n",
              "   'snippet': {'channelId': 'UCBR8-60-B28hp2BmDPdntcQ',\n",
              "    'title': 'Short Movies',\n",
              "    'assignable': False}},\n",
              "  {'kind': 'youtube#videoCategory',\n",
              "   'etag': '\"m2yskBQFythfE4irbTIeOgYYfBU/M-3iD9dwK7YJCafRf_DkLN8CouA\"',\n",
              "   'id': '19',\n",
              "   'snippet': {'channelId': 'UCBR8-60-B28hp2BmDPdntcQ',\n",
              "    'title': 'Travel & Events',\n",
              "    'assignable': True}},\n",
              "  {'kind': 'youtube#videoCategory',\n",
              "   'etag': '\"m2yskBQFythfE4irbTIeOgYYfBU/WmA0qYEfjWsAoyJFSw2zinhn2wM\"',\n",
              "   'id': '20',\n",
              "   'snippet': {'channelId': 'UCBR8-60-B28hp2BmDPdntcQ',\n",
              "    'title': 'Gaming',\n",
              "    'assignable': True}},\n",
              "  {'kind': 'youtube#videoCategory',\n",
              "   'etag': '\"m2yskBQFythfE4irbTIeOgYYfBU/EapFaGYG7K0StIXVf8aba249tdM\"',\n",
              "   'id': '21',\n",
              "   'snippet': {'channelId': 'UCBR8-60-B28hp2BmDPdntcQ',\n",
              "    'title': 'Videoblogging',\n",
              "    'assignable': False}},\n",
              "  {'kind': 'youtube#videoCategory',\n",
              "   'etag': '\"m2yskBQFythfE4irbTIeOgYYfBU/xId8RX7vRN8rqkbYZbNIytUQDRo\"',\n",
              "   'id': '22',\n",
              "   'snippet': {'channelId': 'UCBR8-60-B28hp2BmDPdntcQ',\n",
              "    'title': 'People & Blogs',\n",
              "    'assignable': True}},\n",
              "  {'kind': 'youtube#videoCategory',\n",
              "   'etag': '\"m2yskBQFythfE4irbTIeOgYYfBU/G9LHzQmx44rX2S5yaga_Aqtwz8M\"',\n",
              "   'id': '23',\n",
              "   'snippet': {'channelId': 'UCBR8-60-B28hp2BmDPdntcQ',\n",
              "    'title': 'Comedy',\n",
              "    'assignable': True}},\n",
              "  {'kind': 'youtube#videoCategory',\n",
              "   'etag': '\"m2yskBQFythfE4irbTIeOgYYfBU/UVB9oxX2Bvqa_w_y3vXSLVK5E_s\"',\n",
              "   'id': '24',\n",
              "   'snippet': {'channelId': 'UCBR8-60-B28hp2BmDPdntcQ',\n",
              "    'title': 'Entertainment',\n",
              "    'assignable': True}},\n",
              "  {'kind': 'youtube#videoCategory',\n",
              "   'etag': '\"m2yskBQFythfE4irbTIeOgYYfBU/QiLK0ZIrFoORdk_g2l_XR_ECjDc\"',\n",
              "   'id': '25',\n",
              "   'snippet': {'channelId': 'UCBR8-60-B28hp2BmDPdntcQ',\n",
              "    'title': 'News & Politics',\n",
              "    'assignable': True}},\n",
              "  {'kind': 'youtube#videoCategory',\n",
              "   'etag': '\"m2yskBQFythfE4irbTIeOgYYfBU/r6Ck6Z0_L0rG37VJQR200SGNA_w\"',\n",
              "   'id': '26',\n",
              "   'snippet': {'channelId': 'UCBR8-60-B28hp2BmDPdntcQ',\n",
              "    'title': 'Howto & Style',\n",
              "    'assignable': True}},\n",
              "  {'kind': 'youtube#videoCategory',\n",
              "   'etag': '\"m2yskBQFythfE4irbTIeOgYYfBU/EoYkczo9I3RCf96RveKTOgOPkUM\"',\n",
              "   'id': '27',\n",
              "   'snippet': {'channelId': 'UCBR8-60-B28hp2BmDPdntcQ',\n",
              "    'title': 'Education',\n",
              "    'assignable': True}},\n",
              "  {'kind': 'youtube#videoCategory',\n",
              "   'etag': '\"m2yskBQFythfE4irbTIeOgYYfBU/w5HjcTD82G_XA3xBctS30zS-JpQ\"',\n",
              "   'id': '28',\n",
              "   'snippet': {'channelId': 'UCBR8-60-B28hp2BmDPdntcQ',\n",
              "    'title': 'Science & Technology',\n",
              "    'assignable': True}},\n",
              "  {'kind': 'youtube#videoCategory',\n",
              "   'etag': '\"m2yskBQFythfE4irbTIeOgYYfBU/lL7uWDr_071CHxifjYG1tJrp4Uo\"',\n",
              "   'id': '30',\n",
              "   'snippet': {'channelId': 'UCBR8-60-B28hp2BmDPdntcQ',\n",
              "    'title': 'Movies',\n",
              "    'assignable': False}},\n",
              "  {'kind': 'youtube#videoCategory',\n",
              "   'etag': '\"m2yskBQFythfE4irbTIeOgYYfBU/WnuVfjO-PyFLO7NTRQIbrGE62nk\"',\n",
              "   'id': '31',\n",
              "   'snippet': {'channelId': 'UCBR8-60-B28hp2BmDPdntcQ',\n",
              "    'title': 'Anime/Animation',\n",
              "    'assignable': False}},\n",
              "  {'kind': 'youtube#videoCategory',\n",
              "   'etag': '\"m2yskBQFythfE4irbTIeOgYYfBU/ctpH2hGA_UZ3volJT_FTlOg9M00\"',\n",
              "   'id': '32',\n",
              "   'snippet': {'channelId': 'UCBR8-60-B28hp2BmDPdntcQ',\n",
              "    'title': 'Action/Adventure',\n",
              "    'assignable': False}},\n",
              "  {'kind': 'youtube#videoCategory',\n",
              "   'etag': '\"m2yskBQFythfE4irbTIeOgYYfBU/L0kR3-g1BAo5UD1PLVbQ7LkkDtQ\"',\n",
              "   'id': '33',\n",
              "   'snippet': {'channelId': 'UCBR8-60-B28hp2BmDPdntcQ',\n",
              "    'title': 'Classics',\n",
              "    'assignable': False}},\n",
              "  {'kind': 'youtube#videoCategory',\n",
              "   'etag': '\"m2yskBQFythfE4irbTIeOgYYfBU/pUZOAC_s9sfiwar639qr_wAB-aI\"',\n",
              "   'id': '34',\n",
              "   'snippet': {'channelId': 'UCBR8-60-B28hp2BmDPdntcQ',\n",
              "    'title': 'Comedy',\n",
              "    'assignable': False}},\n",
              "  {'kind': 'youtube#videoCategory',\n",
              "   'etag': '\"m2yskBQFythfE4irbTIeOgYYfBU/Xb5JLhtyNRN3AQq021Ds-OV50Jk\"',\n",
              "   'id': '35',\n",
              "   'snippet': {'channelId': 'UCBR8-60-B28hp2BmDPdntcQ',\n",
              "    'title': 'Documentary',\n",
              "    'assignable': False}},\n",
              "  {'kind': 'youtube#videoCategory',\n",
              "   'etag': '\"m2yskBQFythfE4irbTIeOgYYfBU/u8WXzF4HIhtEi805__sqjuA4lEk\"',\n",
              "   'id': '36',\n",
              "   'snippet': {'channelId': 'UCBR8-60-B28hp2BmDPdntcQ',\n",
              "    'title': 'Drama',\n",
              "    'assignable': False}},\n",
              "  {'kind': 'youtube#videoCategory',\n",
              "   'etag': '\"m2yskBQFythfE4irbTIeOgYYfBU/D04PP4Gr7wc4IV_O9G66Z4A8KWQ\"',\n",
              "   'id': '37',\n",
              "   'snippet': {'channelId': 'UCBR8-60-B28hp2BmDPdntcQ',\n",
              "    'title': 'Family',\n",
              "    'assignable': False}},\n",
              "  {'kind': 'youtube#videoCategory',\n",
              "   'etag': '\"m2yskBQFythfE4irbTIeOgYYfBU/i5-_AceGXQCEEMWU0V8CcQm_vLQ\"',\n",
              "   'id': '38',\n",
              "   'snippet': {'channelId': 'UCBR8-60-B28hp2BmDPdntcQ',\n",
              "    'title': 'Foreign',\n",
              "    'assignable': False}},\n",
              "  {'kind': 'youtube#videoCategory',\n",
              "   'etag': '\"m2yskBQFythfE4irbTIeOgYYfBU/rtlxd0zOixA9QHdIZB26-St5qgQ\"',\n",
              "   'id': '39',\n",
              "   'snippet': {'channelId': 'UCBR8-60-B28hp2BmDPdntcQ',\n",
              "    'title': 'Horror',\n",
              "    'assignable': False}},\n",
              "  {'kind': 'youtube#videoCategory',\n",
              "   'etag': '\"m2yskBQFythfE4irbTIeOgYYfBU/N1TrDFLRppxZgBowCJfJCvh0Dpg\"',\n",
              "   'id': '40',\n",
              "   'snippet': {'channelId': 'UCBR8-60-B28hp2BmDPdntcQ',\n",
              "    'title': 'Sci-Fi/Fantasy',\n",
              "    'assignable': False}},\n",
              "  {'kind': 'youtube#videoCategory',\n",
              "   'etag': '\"m2yskBQFythfE4irbTIeOgYYfBU/7UMGi6zRySqXopr_rv4sZq6Za2E\"',\n",
              "   'id': '41',\n",
              "   'snippet': {'channelId': 'UCBR8-60-B28hp2BmDPdntcQ',\n",
              "    'title': 'Thriller',\n",
              "    'assignable': False}},\n",
              "  {'kind': 'youtube#videoCategory',\n",
              "   'etag': '\"m2yskBQFythfE4irbTIeOgYYfBU/RScXhi324h8usyIetreAVb-uKeM\"',\n",
              "   'id': '42',\n",
              "   'snippet': {'channelId': 'UCBR8-60-B28hp2BmDPdntcQ',\n",
              "    'title': 'Shorts',\n",
              "    'assignable': False}},\n",
              "  {'kind': 'youtube#videoCategory',\n",
              "   'etag': '\"m2yskBQFythfE4irbTIeOgYYfBU/0n9MJVCDLpA8q7aiGVrFsuFsd0A\"',\n",
              "   'id': '43',\n",
              "   'snippet': {'channelId': 'UCBR8-60-B28hp2BmDPdntcQ',\n",
              "    'title': 'Shows',\n",
              "    'assignable': False}},\n",
              "  {'kind': 'youtube#videoCategory',\n",
              "   'etag': '\"m2yskBQFythfE4irbTIeOgYYfBU/x5NxSf5fz8hn4loSN4rvhwzD_pY\"',\n",
              "   'id': '44',\n",
              "   'snippet': {'channelId': 'UCBR8-60-B28hp2BmDPdntcQ',\n",
              "    'title': 'Trailers',\n",
              "    'assignable': False}}]}"
            ]
          },
          "metadata": {},
          "execution_count": 14
        }
      ]
    },
    {
      "cell_type": "markdown",
      "metadata": {
        "id": "wL7iTiic0TGl"
      },
      "source": [
        "## Compare \"Sports\" and \"Comady\", how many days that there are more total daily views of VDO in \"Sports\" category than in \"Comady\" category?"
      ]
    },
    {
      "cell_type": "code",
      "execution_count": null,
      "metadata": {
        "id": "UIzvYqdA0TGm"
      },
      "outputs": [],
      "source": [
        "df_sport = df[(df.category_id == 17)].groupby('trending_date').sum().rename(columns={'views':'sport_view'})\n",
        "df_comady = df[(df.category_id == 23)].groupby('trending_date').sum().rename(columns={'views':'comady_view'})\n",
        "df_sportmergecomady = df_sport.merge(df_comady, on = 'trending_date', how = 'inner')\n",
        "df_sportmorecomady = df_sportmergecomady[df_sportmergecomady.sport_view > df_sportmergecomady.comady_view]"
      ]
    },
    {
      "cell_type": "code",
      "source": [
        "len(df_sportmorecomady)"
      ],
      "metadata": {
        "colab": {
          "base_uri": "https://localhost:8080/"
        },
        "id": "4DV_OziBr4_s",
        "outputId": "853e166a-a4ca-4997-a874-3c8c1370ce45"
      },
      "execution_count": null,
      "outputs": [
        {
          "output_type": "execute_result",
          "data": {
            "text/plain": [
              "49"
            ]
          },
          "metadata": {},
          "execution_count": 16
        }
      ]
    }
  ],
  "metadata": {
    "kernelspec": {
      "display_name": "Python 3",
      "language": "python",
      "name": "python3"
    },
    "language_info": {
      "codemirror_mode": {
        "name": "ipython",
        "version": 3
      },
      "file_extension": ".py",
      "mimetype": "text/x-python",
      "name": "python",
      "nbconvert_exporter": "python",
      "pygments_lexer": "ipython3",
      "version": "3.7.6"
    },
    "toc": {
      "base_numbering": 1,
      "nav_menu": {},
      "number_sections": true,
      "sideBar": true,
      "skip_h1_title": false,
      "title_cell": "Table of Contents",
      "title_sidebar": "Contents",
      "toc_cell": false,
      "toc_position": {},
      "toc_section_display": true,
      "toc_window_display": false
    },
    "varInspector": {
      "cols": {
        "lenName": 16,
        "lenType": 16,
        "lenVar": 40
      },
      "kernels_config": {
        "python": {
          "delete_cmd_postfix": "",
          "delete_cmd_prefix": "del ",
          "library": "var_list.py",
          "varRefreshCmd": "print(var_dic_list())"
        },
        "r": {
          "delete_cmd_postfix": ") ",
          "delete_cmd_prefix": "rm(",
          "library": "var_list.r",
          "varRefreshCmd": "cat(var_dic_list()) "
        }
      },
      "types_to_exclude": [
        "module",
        "function",
        "builtin_function_or_method",
        "instance",
        "_Feature"
      ],
      "window_display": false
    },
    "colab": {
      "provenance": []
    },
    "accelerator": "GPU",
    "gpuClass": "standard"
  },
  "nbformat": 4,
  "nbformat_minor": 0
}