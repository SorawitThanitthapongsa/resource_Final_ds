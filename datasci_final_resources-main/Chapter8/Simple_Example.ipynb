{
  "cells": [
    {
      "cell_type": "markdown",
      "id": "fb3021e8",
      "metadata": {
        "id": "fb3021e8"
      },
      "source": [
        "# Simple Redis-Py Example\n",
        "This notebook contains simple redis python commands.  "
      ]
    },
    {
      "cell_type": "code",
      "execution_count": null,
      "id": "fd8b3220",
      "metadata": {
        "id": "fd8b3220"
      },
      "outputs": [],
      "source": [
        "import redis"
      ]
    },
    {
      "cell_type": "markdown",
      "id": "cde3c78f",
      "metadata": {
        "id": "cde3c78f"
      },
      "source": [
        "Connect to local server -- no hostname or ip is needed"
      ]
    },
    {
      "cell_type": "code",
      "execution_count": null,
      "id": "04c250e1",
      "metadata": {
        "id": "04c250e1"
      },
      "outputs": [],
      "source": [
        "rd = redis.Redis(charset=\"utf-8\", decode_responses=True)"
      ]
    },
    {
      "cell_type": "code",
      "execution_count": null,
      "id": "ae84b8b9",
      "metadata": {
        "id": "ae84b8b9",
        "outputId": "f211b9c3-d0b6-40ea-9b71-10abc6ee7c0d"
      },
      "outputs": [
        {
          "data": {
            "text/plain": [
              "True"
            ]
          },
          "execution_count": 3,
          "metadata": {},
          "output_type": "execute_result"
        }
      ],
      "source": [
        "rd.set('user:101:name', 'pinot')"
      ]
    },
    {
      "cell_type": "code",
      "execution_count": null,
      "id": "69ce7ef5",
      "metadata": {
        "id": "69ce7ef5",
        "outputId": "3954c581-8e1f-4748-90fd-13db91a356f6"
      },
      "outputs": [
        {
          "data": {
            "text/plain": [
              "'pinot'"
            ]
          },
          "execution_count": 4,
          "metadata": {},
          "output_type": "execute_result"
        }
      ],
      "source": [
        "rd.get('user:101:name')"
      ]
    },
    {
      "cell_type": "code",
      "execution_count": null,
      "id": "13879704",
      "metadata": {
        "id": "13879704",
        "outputId": "a34489e4-d173-4e38-9a3f-ce43114e2a44"
      },
      "outputs": [
        {
          "data": {
            "text/plain": [
              "1"
            ]
          },
          "execution_count": 5,
          "metadata": {},
          "output_type": "execute_result"
        }
      ],
      "source": [
        "rd.hset('post:1', 'user', 101)\n",
        "rd.hset('post:1', 'content', 'this is the first post')"
      ]
    },
    {
      "cell_type": "code",
      "execution_count": null,
      "id": "2bc97459",
      "metadata": {
        "id": "2bc97459",
        "outputId": "5725f7a3-71b5-4b9e-e2df-f00b063d4550"
      },
      "outputs": [
        {
          "data": {
            "text/plain": [
              "{'user': '101', 'content': 'this is the first post'}"
            ]
          },
          "execution_count": 6,
          "metadata": {},
          "output_type": "execute_result"
        }
      ],
      "source": [
        "rd.hgetall('post:1')"
      ]
    },
    {
      "cell_type": "code",
      "execution_count": null,
      "id": "a642d437",
      "metadata": {
        "id": "a642d437",
        "outputId": "c451cb5a-36e4-4fd9-9ce9-42044e165c14"
      },
      "outputs": [
        {
          "data": {
            "text/plain": [
              "2"
            ]
          },
          "execution_count": 7,
          "metadata": {},
          "output_type": "execute_result"
        }
      ],
      "source": [
        "rd.rpush('user:101:post', 1)\n",
        "rd.rpush('user:101:post', 8)"
      ]
    },
    {
      "cell_type": "code",
      "execution_count": null,
      "id": "73cc26fd",
      "metadata": {
        "id": "73cc26fd",
        "outputId": "33a5121c-9182-4c6c-fb05-b63fbbac0c85"
      },
      "outputs": [
        {
          "data": {
            "text/plain": [
              "2"
            ]
          },
          "execution_count": 8,
          "metadata": {},
          "output_type": "execute_result"
        }
      ],
      "source": [
        "rd.llen('user:101:post')"
      ]
    },
    {
      "cell_type": "code",
      "execution_count": null,
      "id": "b9b71e71",
      "metadata": {
        "id": "b9b71e71",
        "outputId": "b39d406d-549e-40a4-90bb-41ace222ef1b"
      },
      "outputs": [
        {
          "data": {
            "text/plain": [
              "['1', '8']"
            ]
          },
          "execution_count": 9,
          "metadata": {},
          "output_type": "execute_result"
        }
      ],
      "source": [
        "rd.lrange('user:101:post', 0, -1)"
      ]
    },
    {
      "cell_type": "code",
      "execution_count": null,
      "id": "ca8c3bda",
      "metadata": {
        "id": "ca8c3bda",
        "outputId": "071958aa-3a87-4361-813a-054b7356d16e"
      },
      "outputs": [
        {
          "data": {
            "text/plain": [
              "1"
            ]
          },
          "execution_count": 10,
          "metadata": {},
          "output_type": "execute_result"
        }
      ],
      "source": [
        "rd.sadd('user:101:follows', 104)\n",
        "rd.sadd('user:101:follows', 105)"
      ]
    },
    {
      "cell_type": "code",
      "execution_count": null,
      "id": "d87f8b47",
      "metadata": {
        "id": "d87f8b47",
        "outputId": "4a05119a-4e76-4d33-e01c-7c4a39aca68a"
      },
      "outputs": [
        {
          "data": {
            "text/plain": [
              "2"
            ]
          },
          "execution_count": 11,
          "metadata": {},
          "output_type": "execute_result"
        }
      ],
      "source": [
        "rd.scard('user:101:follows')"
      ]
    },
    {
      "cell_type": "code",
      "execution_count": null,
      "id": "ea5c0091",
      "metadata": {
        "id": "ea5c0091",
        "outputId": "e41cb4a8-57a1-45e3-fe9d-72cf88063e8d"
      },
      "outputs": [
        {
          "data": {
            "text/plain": [
              "{'104', '105'}"
            ]
          },
          "execution_count": 12,
          "metadata": {},
          "output_type": "execute_result"
        }
      ],
      "source": [
        "rd.smembers('user:101:follows')"
      ]
    },
    {
      "cell_type": "code",
      "execution_count": null,
      "id": "7772d270",
      "metadata": {
        "id": "7772d270",
        "outputId": "2b82df64-e07d-40b0-df0d-294f8cd50a34"
      },
      "outputs": [
        {
          "name": "stdout",
          "output_type": "stream",
          "text": [
            "found:  user:101:follows\n",
            "found:  user:101:name\n",
            "found:  user:101:post\n"
          ]
        }
      ],
      "source": [
        "cursor = 0\n",
        "cursor, keys = rd.scan(cursor=cursor, match='user:*')\n",
        "while cursor > 0:\n",
        "    for key in keys:\n",
        "        print('found: ', key)\n",
        "    cursor, keys = rd.scan(cursor=cursor, match='username:*')  \n",
        "\n",
        "for key in keys:\n",
        "    print('found: ', key)"
      ]
    },
    {
      "cell_type": "code",
      "execution_count": null,
      "id": "86fc30a0",
      "metadata": {
        "id": "86fc30a0"
      },
      "outputs": [],
      "source": []
    }
  ],
  "metadata": {
    "kernelspec": {
      "display_name": "Python 3 (ipykernel)",
      "language": "python",
      "name": "python3"
    },
    "language_info": {
      "codemirror_mode": {
        "name": "ipython",
        "version": 3
      },
      "file_extension": ".py",
      "mimetype": "text/x-python",
      "name": "python",
      "nbconvert_exporter": "python",
      "pygments_lexer": "ipython3",
      "version": "3.9.15"
    },
    "colab": {
      "provenance": []
    }
  },
  "nbformat": 4,
  "nbformat_minor": 5
}