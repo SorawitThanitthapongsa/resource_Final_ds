{
 "cells": [
  {
   "cell_type": "markdown",
   "id": "9d451853",
   "metadata": {
    "papermill": {
     "duration": 0.006016,
     "end_time": "2023-03-21T03:28:41.909567",
     "exception": false,
     "start_time": "2023-03-21T03:28:41.903551",
     "status": "completed"
    },
    "tags": []
   },
   "source": [
    "# PyTorch Solution: Rolling Window\n",
    "Here we introduce a pytorch solution which takes an window of past and future Acc readings to predict the outcomes. The different segments of the notebook can be modified and improved as per your liking to better the whole pipeline. As a way, this works as a good starter baseline!\n",
    "\n",
    "**Please leave an upvote if you found this notebook helpful!**"
   ]
  },
  {
   "cell_type": "code",
   "execution_count": 1,
   "id": "29bfa356",
   "metadata": {
    "_cell_guid": "b1076dfc-b9ad-4769-8c92-a6c4dae69d19",
    "_uuid": "8f2839f25d086af736a60e9eeb907d3b93b6e0e5",
    "execution": {
     "iopub.execute_input": "2023-03-21T03:28:41.921998Z",
     "iopub.status.busy": "2023-03-21T03:28:41.920817Z",
     "iopub.status.idle": "2023-03-21T03:28:45.514320Z",
     "shell.execute_reply": "2023-03-21T03:28:45.513298Z"
    },
    "papermill": {
     "duration": 3.602649,
     "end_time": "2023-03-21T03:28:45.517226",
     "exception": false,
     "start_time": "2023-03-21T03:28:41.914577",
     "status": "completed"
    },
    "tags": []
   },
   "outputs": [],
   "source": [
    "import os\n",
    "import gc\n",
    "import random\n",
    "import time\n",
    "\n",
    "import json\n",
    "from tqdm import tqdm\n",
    "import glob\n",
    "import numpy as np\n",
    "import pandas as pd\n",
    "\n",
    "import torch\n",
    "import torch.nn as nn\n",
    "\n",
    "from torch.utils.data import Dataset, DataLoader\n",
    "from torchvision import transforms\n",
    "\n",
    "from sklearn.model_selection import train_test_split, StratifiedGroupKFold\n",
    "from sklearn.metrics import accuracy_score, average_precision_score\n",
    "\n",
    "import warnings\n",
    "warnings.filterwarnings(action='ignore')"
   ]
  },
  {
   "cell_type": "code",
   "execution_count": 2,
   "id": "b010fa52",
   "metadata": {
    "execution": {
     "iopub.execute_input": "2023-03-21T03:28:45.528686Z",
     "iopub.status.busy": "2023-03-21T03:28:45.528231Z",
     "iopub.status.idle": "2023-03-21T03:28:45.592480Z",
     "shell.execute_reply": "2023-03-21T03:28:45.591349Z"
    },
    "papermill": {
     "duration": 0.072416,
     "end_time": "2023-03-21T03:28:45.594811",
     "exception": false,
     "start_time": "2023-03-21T03:28:45.522395",
     "status": "completed"
    },
    "tags": []
   },
   "outputs": [],
   "source": [
    "class Config:\n",
    "    train_dir1 = \"/kaggle/input/tlvmc-parkinsons-freezing-gait-prediction/train/defog\"\n",
    "    train_dir2 = \"/kaggle/input/tlvmc-parkinsons-freezing-gait-prediction/train/tdcsfog\"\n",
    "\n",
    "    batch_size = 1024\n",
    "    window_size = 256\n",
    "    window_future = 8\n",
    "    window_past = window_size - window_future\n",
    "    \n",
    "    model_dropout = 0.4\n",
    "    model_hidden = 512\n",
    "    model_nblocks = 2\n",
    "    \n",
    "    lr = 0.0005\n",
    "    num_epochs = 6\n",
    "    device = 'cuda' if torch.cuda.is_available() else 'cpu'\n",
    "    \n",
    "    feature_list = ['AccV', 'AccML', 'AccAP']\n",
    "    label_list = ['StartHesitation', 'Turn', 'Walking']\n",
    "    \n",
    "    \n",
    "cfg = Config()"
   ]
  },
  {
   "cell_type": "code",
   "execution_count": 3,
   "id": "a509d8b5",
   "metadata": {
    "execution": {
     "iopub.execute_input": "2023-03-21T03:28:45.606167Z",
     "iopub.status.busy": "2023-03-21T03:28:45.605834Z",
     "iopub.status.idle": "2023-03-21T03:28:45.612525Z",
     "shell.execute_reply": "2023-03-21T03:28:45.611558Z"
    },
    "papermill": {
     "duration": 0.015344,
     "end_time": "2023-03-21T03:28:45.615242",
     "exception": false,
     "start_time": "2023-03-21T03:28:45.599898",
     "status": "completed"
    },
    "tags": []
   },
   "outputs": [
    {
     "data": {
      "text/plain": [
       "'cuda'"
      ]
     },
     "execution_count": 3,
     "metadata": {},
     "output_type": "execute_result"
    }
   ],
   "source": [
    "cfg.device"
   ]
  },
  {
   "cell_type": "markdown",
   "id": "de7b8d91",
   "metadata": {
    "papermill": {
     "duration": 0.004727,
     "end_time": "2023-03-21T03:28:45.624910",
     "exception": false,
     "start_time": "2023-03-21T03:28:45.620183",
     "status": "completed"
    },
    "tags": []
   },
   "source": [
    "# Dataset\n",
    "\n",
    "We use a window comprised of past and future time Acc readings to form our dataset for a particular time instance. In case some portion of the window data is not available, we pad them with zeros."
   ]
  },
  {
   "cell_type": "code",
   "execution_count": 4,
   "id": "b8b1af5f",
   "metadata": {
    "execution": {
     "iopub.execute_input": "2023-03-21T03:28:45.637442Z",
     "iopub.status.busy": "2023-03-21T03:28:45.635782Z",
     "iopub.status.idle": "2023-03-21T03:28:45.649523Z",
     "shell.execute_reply": "2023-03-21T03:28:45.648540Z"
    },
    "papermill": {
     "duration": 0.021855,
     "end_time": "2023-03-21T03:28:45.651688",
     "exception": false,
     "start_time": "2023-03-21T03:28:45.629833",
     "status": "completed"
    },
    "tags": []
   },
   "outputs": [],
   "source": [
    "class FOGDataset(Dataset):\n",
    "    def __init__(self, fpaths, scale=9.806, test=False):\n",
    "        super(FOGDataset, self).__init__()\n",
    "        tm = time.time()\n",
    "        self.test = test\n",
    "        self.fpaths = fpaths\n",
    "        self.f_ids = [os.path.basename(f)[:-4] for f in self.fpaths]\n",
    "        self.curr_df_idx = 0\n",
    "        self.curr_row_idx = 0\n",
    "        self.dfs = [np.array(pd.read_csv(f)) for f in fpaths]\n",
    "        self.end_indices = []\n",
    "        self.scale = scale\n",
    "        \n",
    "        self.length = 0\n",
    "        for df in self.dfs:\n",
    "            self.length += df.shape[0]\n",
    "            self.end_indices.append(self.length)\n",
    "            \n",
    "        print(f\"Dataset initialized in {time.time() - tm} secs!\")\n",
    "        \n",
    "    def pad(self, df, time_start):\n",
    "        if df.shape[0] == cfg.window_size:\n",
    "            return df\n",
    "        \n",
    "        npad = cfg.window_size - df.shape[0]\n",
    "        padzeros = np.zeros((npad, 3))\n",
    "        if time_start <= 0:\n",
    "            df = np.concatenate((padzeros, df), axis=0)\n",
    "        else:\n",
    "            df = np.concatenate((df, padzeros), axis=0)\n",
    "        return df\n",
    "            \n",
    "    def __getitem__(self, index):\n",
    "        for i,e in enumerate(self.end_indices):\n",
    "            if index >= e:\n",
    "                continue\n",
    "            df_idx = i\n",
    "            break\n",
    "            \n",
    "        curr_df = self.dfs[i]\n",
    "        row_idx = curr_df.shape[0] - (self.end_indices[i] - index)\n",
    "        _id = self.f_ids[i] + \"_\" + str(row_idx)\n",
    "        \n",
    "        x = self.pad(curr_df[row_idx-2*cfg.window_past:row_idx+2*cfg.window_future, 1:4][::2, :], row_idx-cfg.window_past )\n",
    "        x = torch.tensor(x)/self.scale\n",
    "        \n",
    "        if self.test == True:\n",
    "            return _id, x\n",
    "        \n",
    "        y = curr_df[row_idx, -3:].astype('float')\n",
    "        y = torch.tensor(y)\n",
    "        \n",
    "        return x, y\n",
    "    \n",
    "    def __len__(self):\n",
    "        return self.length"
   ]
  },
  {
   "cell_type": "code",
   "execution_count": 5,
   "id": "4c42e2cb",
   "metadata": {
    "execution": {
     "iopub.execute_input": "2023-03-21T03:28:45.663354Z",
     "iopub.status.busy": "2023-03-21T03:28:45.662560Z",
     "iopub.status.idle": "2023-03-21T03:28:45.666991Z",
     "shell.execute_reply": "2023-03-21T03:28:45.666017Z"
    },
    "papermill": {
     "duration": 0.01243,
     "end_time": "2023-03-21T03:28:45.669110",
     "exception": false,
     "start_time": "2023-03-21T03:28:45.656680",
     "status": "completed"
    },
    "tags": []
   },
   "outputs": [],
   "source": [
    "# a = np.zeros((100,6))\n",
    "\n",
    "# i = 45\n",
    "# b = a[i-18:i+30, 1:4][::2]\n",
    "# b.shape"
   ]
  },
  {
   "cell_type": "markdown",
   "id": "b48c82e9",
   "metadata": {
    "papermill": {
     "duration": 0.00468,
     "end_time": "2023-03-21T03:28:45.678664",
     "exception": false,
     "start_time": "2023-03-21T03:28:45.673984",
     "status": "completed"
    },
    "tags": []
   },
   "source": [
    "# Stratified Group K Fold\n",
    "\n",
    "It's mentioned in the data that the subjects are different in the train and test set and even different between the public/private splits of the test data. So we need to use Stratified Group K Fold. But since the positive instances in the sequences are very scarce, we need to pick up the best fold which will give us the best balance of the positive/negative instances. For this notebook, we use only the tdcsfog dataset."
   ]
  },
  {
   "cell_type": "code",
   "execution_count": 6,
   "id": "b703d7e6",
   "metadata": {
    "execution": {
     "iopub.execute_input": "2023-03-21T03:28:45.690217Z",
     "iopub.status.busy": "2023-03-21T03:28:45.689380Z",
     "iopub.status.idle": "2023-03-21T03:29:02.995045Z",
     "shell.execute_reply": "2023-03-21T03:29:02.993102Z"
    },
    "papermill": {
     "duration": 17.314069,
     "end_time": "2023-03-21T03:29:02.997617",
     "exception": false,
     "start_time": "2023-03-21T03:28:45.683548",
     "status": "completed"
    },
    "tags": []
   },
   "outputs": [
    {
     "name": "stderr",
     "output_type": "stream",
     "text": [
      "100%|██████████| 833/833 [00:17<00:00, 48.39it/s]\n"
     ]
    },
    {
     "name": "stdout",
     "output_type": "stream",
     "text": [
      "32 files have positive values in all 3 classes\n",
      "Fold = 0\n",
      "Length of Train = 672, Length of Valid = 161\n",
      "Train classes: 287,832, 1,462,652, 175,633\n",
      "Valid classes: 16,958, 216,130, 32,205\n",
      "Fold = 1\n",
      "Length of Train = 613, Length of Valid = 220\n",
      "Train classes: 51,748, 909,505, 65,242\n",
      "Valid classes: 253,042, 769,277, 142,596\n",
      "Fold = 2\n",
      "Length of Train = 703, Length of Valid = 130\n",
      "Train classes: 271,881, 1,332,746, 183,673\n",
      "Valid classes: 32,909, 346,036, 24,165\n",
      "Fold = 3\n",
      "Length of Train = 649, Length of Valid = 184\n",
      "Train classes: 303,710, 1,517,147, 205,196\n",
      "Valid classes: 1,080, 161,635, 2,642\n",
      "Fold = 4\n",
      "Length of Train = 695, Length of Valid = 138\n",
      "Train classes: 303,989, 1,493,078, 201,608\n",
      "Valid classes: 801, 185,704, 6,230\n"
     ]
    }
   ],
   "source": [
    "# Analysis of positive instances in each fold of our CV folds\n",
    "\n",
    "n1_sum = []\n",
    "n2_sum = []\n",
    "n3_sum = []\n",
    "count = []\n",
    "\n",
    "# Here I am using the metadata file available during training. Since the code will run again during submission, if \n",
    "# I used the usual file from the competition folder, it would have been updated with the test files too.\n",
    "metadata = pd.read_csv(\"/kaggle/input/copy-train-metadata/tdcsfog_metadata.csv\")\n",
    "\n",
    "for f in tqdm(metadata['Id']):\n",
    "    fpath = f\"/kaggle/input/tlvmc-parkinsons-freezing-gait-prediction/train/tdcsfog/{f}.csv\"\n",
    "    df = pd.read_csv(fpath)\n",
    "    \n",
    "    n1_sum.append(np.sum(df['StartHesitation']))\n",
    "    n2_sum.append(np.sum(df['Turn']))\n",
    "    n3_sum.append(np.sum(df['Walking']))\n",
    "    count.append(len(df))\n",
    "    \n",
    "print(f\"32 files have positive values in all 3 classes\")\n",
    "\n",
    "metadata['n1_sum'] = n1_sum\n",
    "metadata['n2_sum'] = n2_sum\n",
    "metadata['n3_sum'] = n3_sum\n",
    "metadata['count'] = count\n",
    "\n",
    "sgkf = StratifiedGroupKFold(n_splits=5, random_state=42, shuffle=True)\n",
    "for i, (train_index, valid_index) in enumerate(sgkf.split(X=metadata['Id'], y=[1]*len(metadata), groups=metadata['Subject'])):\n",
    "    print(f\"Fold = {i}\")\n",
    "    train_ids = metadata.loc[train_index, 'Id']\n",
    "    valid_ids = metadata.loc[valid_index, 'Id']\n",
    "    \n",
    "    print(f\"Length of Train = {len(train_index)}, Length of Valid = {len(valid_index)}\")\n",
    "    n1_sum = metadata.loc[train_index, 'n1_sum'].sum()\n",
    "    n2_sum = metadata.loc[train_index, 'n2_sum'].sum()\n",
    "    n3_sum = metadata.loc[train_index, 'n3_sum'].sum()\n",
    "    print(f\"Train classes: {n1_sum:,}, {n2_sum:,}, {n3_sum:,}\")\n",
    "    \n",
    "    n1_sum = metadata.loc[valid_index, 'n1_sum'].sum()\n",
    "    n2_sum = metadata.loc[valid_index, 'n2_sum'].sum()\n",
    "    n3_sum = metadata.loc[valid_index, 'n3_sum'].sum()\n",
    "    print(f\"Valid classes: {n1_sum:,}, {n2_sum:,}, {n3_sum:,}\")\n",
    "    \n",
    "# # FOLD 2 is the most well balanced"
   ]
  },
  {
   "cell_type": "code",
   "execution_count": 7,
   "id": "0befbcbc",
   "metadata": {
    "execution": {
     "iopub.execute_input": "2023-03-21T03:29:03.025008Z",
     "iopub.status.busy": "2023-03-21T03:29:03.024086Z",
     "iopub.status.idle": "2023-03-21T03:29:03.030969Z",
     "shell.execute_reply": "2023-03-21T03:29:03.029929Z"
    },
    "papermill": {
     "duration": 0.022696,
     "end_time": "2023-03-21T03:29:03.033228",
     "exception": false,
     "start_time": "2023-03-21T03:29:03.010532",
     "status": "completed"
    },
    "tags": []
   },
   "outputs": [],
   "source": [
    "bce_weights = [np.sum(metadata['count'])/np.sum(metadata['n1_sum']),\\\n",
    "                np.sum(metadata['count'])/np.sum(metadata['n2_sum']),\\\n",
    "                np.sum(metadata['count'])/np.sum(metadata['n3_sum'])]"
   ]
  },
  {
   "cell_type": "code",
   "execution_count": 8,
   "id": "0397a54e",
   "metadata": {
    "execution": {
     "iopub.execute_input": "2023-03-21T03:29:03.059506Z",
     "iopub.status.busy": "2023-03-21T03:29:03.059209Z",
     "iopub.status.idle": "2023-03-21T03:29:03.095904Z",
     "shell.execute_reply": "2023-03-21T03:29:03.094420Z"
    },
    "papermill": {
     "duration": 0.055152,
     "end_time": "2023-03-21T03:29:03.101371",
     "exception": false,
     "start_time": "2023-03-21T03:29:03.046219",
     "status": "completed"
    },
    "tags": []
   },
   "outputs": [
    {
     "name": "stdout",
     "output_type": "stream",
     "text": [
      "Fold = 2\n",
      "Length of Train = 703, Length of Valid = 130\n"
     ]
    }
   ],
   "source": [
    "# The actual train-test split (based on Fold 2)\n",
    "\n",
    "metadata = pd.read_csv(\"/kaggle/input/copy-train-metadata/tdcsfog_metadata.csv\")\n",
    "sgkf = StratifiedGroupKFold(n_splits=5, random_state=42, shuffle=True)\n",
    "for i, (train_index, valid_index) in enumerate(sgkf.split(X=metadata['Id'], y=[1]*len(metadata), groups=metadata['Subject'])):\n",
    "    if i != 2:\n",
    "        continue\n",
    "    print(f\"Fold = {i}\")\n",
    "    train_ids = metadata.loc[train_index, 'Id']\n",
    "    valid_ids = metadata.loc[valid_index, 'Id']\n",
    "    print(f\"Length of Train = {len(train_ids)}, Length of Valid = {len(valid_ids)}\")\n",
    "    \n",
    "    if i == 2:\n",
    "        break\n",
    "        \n",
    "train_fpaths = [f\"/kaggle/input/tlvmc-parkinsons-freezing-gait-prediction/train/tdcsfog/{_id}.csv\" for _id in train_ids]\n",
    "valid_fpaths = [f\"/kaggle/input/tlvmc-parkinsons-freezing-gait-prediction/train/tdcsfog/{_id}.csv\" for _id in valid_ids]"
   ]
  },
  {
   "cell_type": "markdown",
   "id": "bdd30221",
   "metadata": {
    "papermill": {
     "duration": 0.011837,
     "end_time": "2023-03-21T03:29:03.126384",
     "exception": false,
     "start_time": "2023-03-21T03:29:03.114547",
     "status": "completed"
    },
    "tags": []
   },
   "source": [
    "# Model"
   ]
  },
  {
   "cell_type": "code",
   "execution_count": 9,
   "id": "1b95bd49",
   "metadata": {
    "execution": {
     "iopub.execute_input": "2023-03-21T03:29:03.152425Z",
     "iopub.status.busy": "2023-03-21T03:29:03.152080Z",
     "iopub.status.idle": "2023-03-21T03:29:03.160787Z",
     "shell.execute_reply": "2023-03-21T03:29:03.159549Z"
    },
    "papermill": {
     "duration": 0.025005,
     "end_time": "2023-03-21T03:29:03.163645",
     "exception": false,
     "start_time": "2023-03-21T03:29:03.138640",
     "status": "completed"
    },
    "tags": []
   },
   "outputs": [],
   "source": [
    "def _block(in_features, out_features, drop_rate):\n",
    "    return nn.Sequential(\n",
    "        nn.Linear(in_features, out_features),\n",
    "        nn.BatchNorm1d(out_features),\n",
    "        nn.ReLU(),\n",
    "        nn.Dropout(drop_rate)\n",
    "    )\n",
    "\n",
    "class FOGModel(nn.Module):\n",
    "    def __init__(self, p=cfg.model_dropout, dim=cfg.model_hidden, nblocks=cfg.model_nblocks):\n",
    "        super(FOGModel, self).__init__()\n",
    "        self.dropout = nn.Dropout(p)\n",
    "        self.in_layer = nn.Linear(cfg.window_size*3, dim)\n",
    "        self.blocks = nn.Sequential(*[_block(dim, dim, p) for _ in range(nblocks)])\n",
    "        self.out_layer = nn.Linear(dim, 3)\n",
    "        \n",
    "    def forward(self, x):\n",
    "        x = x.view(-1, cfg.window_size*3)\n",
    "        x = self.in_layer(x)\n",
    "        for block in self.blocks:\n",
    "            x = block(x)\n",
    "        x = self.out_layer(x)\n",
    "        return x"
   ]
  },
  {
   "cell_type": "code",
   "execution_count": 10,
   "id": "c5584156",
   "metadata": {
    "execution": {
     "iopub.execute_input": "2023-03-21T03:29:03.189105Z",
     "iopub.status.busy": "2023-03-21T03:29:03.188832Z",
     "iopub.status.idle": "2023-03-21T03:29:03.193675Z",
     "shell.execute_reply": "2023-03-21T03:29:03.192584Z"
    },
    "papermill": {
     "duration": 0.020254,
     "end_time": "2023-03-21T03:29:03.196190",
     "exception": false,
     "start_time": "2023-03-21T03:29:03.175936",
     "status": "completed"
    },
    "tags": []
   },
   "outputs": [],
   "source": [
    "def count_parameters(model):\n",
    "    return sum(p.numel() for p in model.parameters() if p.requires_grad)"
   ]
  },
  {
   "cell_type": "code",
   "execution_count": null,
   "id": "f4052064",
   "metadata": {
    "papermill": {
     "duration": 0.011912,
     "end_time": "2023-03-21T03:29:03.219941",
     "exception": false,
     "start_time": "2023-03-21T03:29:03.208029",
     "status": "completed"
    },
    "tags": []
   },
   "outputs": [],
   "source": []
  },
  {
   "cell_type": "markdown",
   "id": "1555ba23",
   "metadata": {
    "papermill": {
     "duration": 0.011664,
     "end_time": "2023-03-21T03:29:03.243686",
     "exception": false,
     "start_time": "2023-03-21T03:29:03.232022",
     "status": "completed"
    },
    "tags": []
   },
   "source": [
    "# Training"
   ]
  },
  {
   "cell_type": "code",
   "execution_count": 11,
   "id": "2d65f5c1",
   "metadata": {
    "execution": {
     "iopub.execute_input": "2023-03-21T03:29:03.270237Z",
     "iopub.status.busy": "2023-03-21T03:29:03.269880Z",
     "iopub.status.idle": "2023-03-21T03:29:03.285139Z",
     "shell.execute_reply": "2023-03-21T03:29:03.284232Z"
    },
    "papermill": {
     "duration": 0.031536,
     "end_time": "2023-03-21T03:29:03.287544",
     "exception": false,
     "start_time": "2023-03-21T03:29:03.256008",
     "status": "completed"
    },
    "tags": []
   },
   "outputs": [],
   "source": [
    "def train_one_epoch(model, loader, optimizer, criterion):\n",
    "    loss_sum = 0.\n",
    "    \n",
    "    model.train()\n",
    "    for x,y in tqdm(loader):\n",
    "        x = x.to(cfg.device).float()\n",
    "        y = y.to(cfg.device).float()\n",
    "        \n",
    "        y_pred = model(x)\n",
    "        loss = criterion(y_pred, y)\n",
    "        \n",
    "        loss.backward()\n",
    "        optimizer.step()\n",
    "        optimizer.zero_grad()\n",
    "        \n",
    "        loss_sum += loss.item()\n",
    "    \n",
    "    print(f\"Train Loss: {(loss_sum/len(loader)):.04f}\")\n",
    "    \n",
    "\n",
    "def validation_one_epoch(model, loader, criterion):\n",
    "    loss_sum = 0.\n",
    "    y_true_epoch = []\n",
    "    y_pred_epoch = []\n",
    "    \n",
    "    model.eval()\n",
    "    for x,y in tqdm(loader):\n",
    "        x = x.to(cfg.device).float()\n",
    "        y = y.to(cfg.device).float()\n",
    "        \n",
    "        with torch.no_grad():\n",
    "            y_pred = model(x)\n",
    "            loss = criterion(y_pred, y)\n",
    "        \n",
    "        loss_sum += loss.item()\n",
    "        y_true_epoch.append(y.cpu().numpy())\n",
    "        y_pred_epoch.append(y_pred.cpu().numpy())\n",
    "        \n",
    "    y_true_epoch = np.concatenate(y_true_epoch, axis=0)\n",
    "    y_pred_epoch = np.concatenate(y_pred_epoch, axis=0)\n",
    "    \n",
    "    scores = [average_precision_score(y_true_epoch[:,i], np.round(y_pred_epoch[:,i],3)) for i in range(3)]\n",
    "    mean_score = np.mean(scores)\n",
    "    print(f\"Validation Loss: {(loss_sum/len(loader)):.04f}, Validation Score: {mean_score:.03f}, ClassWise: {scores[0]:.03f},{scores[1]:.03f},{scores[2]:.03f}\")\n",
    "    \n",
    "    return mean_score\n",
    "        \n",
    "def train():\n",
    "    model = FOGModel().to(cfg.device)\n",
    "    print(f\"Number of parameters in model - {count_parameters(model):,}\")\n",
    "    \n",
    "    train_dataset = FOGDataset(train_fpaths)\n",
    "    valid_dataset = FOGDataset(valid_fpaths)\n",
    "    print(f\"lengths of datasets: train - {len(train_dataset)}, valid - {len(valid_dataset)}\")\n",
    "    \n",
    "    train_loader = DataLoader(train_dataset, batch_size=cfg.batch_size, num_workers=4, shuffle=True)\n",
    "    valid_loader = DataLoader(valid_dataset, batch_size=cfg.batch_size, num_workers=4)\n",
    "    \n",
    "    optimizer = torch.optim.Adam(model.parameters(), lr=cfg.lr)\n",
    "    criterion = torch.nn.BCEWithLogitsLoss().to(cfg.device)\n",
    "    # sched = torch.optim.lr_scheduler.StepLR(optimizer, step_size=1, gamma=0.85)\n",
    "    \n",
    "    max_score = 0.0\n",
    "    \n",
    "    print(\"=\"*50)\n",
    "    for epoch in range(cfg.num_epochs):\n",
    "        print(f\"Epoch: {epoch}\")\n",
    "        train_one_epoch(model, train_loader, optimizer, criterion)\n",
    "        score = validation_one_epoch(model, valid_loader, criterion)\n",
    "        # sched.step()\n",
    "        \n",
    "        if score > max_score:\n",
    "            max_score = score\n",
    "            torch.save(model.state_dict(), \"best_model_state.h5\")\n",
    "            print(\"Saving Model ...\")\n",
    "        \n",
    "        print(\"=\"*50)\n",
    "        \n",
    "    return model"
   ]
  },
  {
   "cell_type": "code",
   "execution_count": 12,
   "id": "116b21d4",
   "metadata": {
    "execution": {
     "iopub.execute_input": "2023-03-21T03:29:03.313973Z",
     "iopub.status.busy": "2023-03-21T03:29:03.313088Z",
     "iopub.status.idle": "2023-03-21T04:10:04.766825Z",
     "shell.execute_reply": "2023-03-21T04:10:04.765341Z"
    },
    "papermill": {
     "duration": 2461.469495,
     "end_time": "2023-03-21T04:10:04.769259",
     "exception": false,
     "start_time": "2023-03-21T03:29:03.299764",
     "status": "completed"
    },
    "tags": []
   },
   "outputs": [
    {
     "name": "stdout",
     "output_type": "stream",
     "text": [
      "Number of parameters in model - 922,627\n",
      "Dataset initialized in 5.002960920333862 secs!\n",
      "Dataset initialized in 0.9197216033935547 secs!\n",
      "lengths of datasets: train - 5963939, valid - 1098733\n",
      "==================================================\n",
      "Epoch: 0\n"
     ]
    },
    {
     "name": "stderr",
     "output_type": "stream",
     "text": [
      "100%|██████████| 5825/5825 [06:01<00:00, 16.11it/s]\n"
     ]
    },
    {
     "name": "stdout",
     "output_type": "stream",
     "text": [
      "Train Loss: 0.1637\n"
     ]
    },
    {
     "name": "stderr",
     "output_type": "stream",
     "text": [
      "100%|██████████| 1073/1073 [00:46<00:00, 23.11it/s]\n"
     ]
    },
    {
     "name": "stdout",
     "output_type": "stream",
     "text": [
      "Validation Loss: 0.2430, Validation Score: 0.305, ClassWise: 0.052,0.746,0.116\n",
      "Saving Model ...\n",
      "==================================================\n",
      "Epoch: 1\n"
     ]
    },
    {
     "name": "stderr",
     "output_type": "stream",
     "text": [
      "100%|██████████| 5825/5825 [06:01<00:00, 16.10it/s]\n"
     ]
    },
    {
     "name": "stdout",
     "output_type": "stream",
     "text": [
      "Train Loss: 0.1439\n"
     ]
    },
    {
     "name": "stderr",
     "output_type": "stream",
     "text": [
      "100%|██████████| 1073/1073 [00:46<00:00, 23.15it/s]\n"
     ]
    },
    {
     "name": "stdout",
     "output_type": "stream",
     "text": [
      "Validation Loss: 0.2452, Validation Score: 0.300, ClassWise: 0.043,0.748,0.109\n",
      "==================================================\n",
      "Epoch: 2\n"
     ]
    },
    {
     "name": "stderr",
     "output_type": "stream",
     "text": [
      "100%|██████████| 5825/5825 [06:04<00:00, 15.98it/s]\n"
     ]
    },
    {
     "name": "stdout",
     "output_type": "stream",
     "text": [
      "Train Loss: 0.1343\n"
     ]
    },
    {
     "name": "stderr",
     "output_type": "stream",
     "text": [
      "100%|██████████| 1073/1073 [00:46<00:00, 22.97it/s]\n"
     ]
    },
    {
     "name": "stdout",
     "output_type": "stream",
     "text": [
      "Validation Loss: 0.2616, Validation Score: 0.302, ClassWise: 0.040,0.758,0.107\n",
      "==================================================\n",
      "Epoch: 3\n"
     ]
    },
    {
     "name": "stderr",
     "output_type": "stream",
     "text": [
      "100%|██████████| 5825/5825 [06:01<00:00, 16.10it/s]\n"
     ]
    },
    {
     "name": "stdout",
     "output_type": "stream",
     "text": [
      "Train Loss: 0.1276\n"
     ]
    },
    {
     "name": "stderr",
     "output_type": "stream",
     "text": [
      "100%|██████████| 1073/1073 [00:45<00:00, 23.58it/s]\n"
     ]
    },
    {
     "name": "stdout",
     "output_type": "stream",
     "text": [
      "Validation Loss: 0.2703, Validation Score: 0.305, ClassWise: 0.039,0.760,0.117\n",
      "Saving Model ...\n",
      "==================================================\n",
      "Epoch: 4\n"
     ]
    },
    {
     "name": "stderr",
     "output_type": "stream",
     "text": [
      "100%|██████████| 5825/5825 [06:01<00:00, 16.12it/s]\n"
     ]
    },
    {
     "name": "stdout",
     "output_type": "stream",
     "text": [
      "Train Loss: 0.1225\n"
     ]
    },
    {
     "name": "stderr",
     "output_type": "stream",
     "text": [
      "100%|██████████| 1073/1073 [00:45<00:00, 23.59it/s]\n"
     ]
    },
    {
     "name": "stdout",
     "output_type": "stream",
     "text": [
      "Validation Loss: 0.2655, Validation Score: 0.310, ClassWise: 0.042,0.768,0.120\n",
      "Saving Model ...\n",
      "==================================================\n",
      "Epoch: 5\n"
     ]
    },
    {
     "name": "stderr",
     "output_type": "stream",
     "text": [
      "100%|██████████| 5825/5825 [06:01<00:00, 16.13it/s]\n"
     ]
    },
    {
     "name": "stdout",
     "output_type": "stream",
     "text": [
      "Train Loss: 0.1185\n"
     ]
    },
    {
     "name": "stderr",
     "output_type": "stream",
     "text": [
      "100%|██████████| 1073/1073 [00:45<00:00, 23.82it/s]\n"
     ]
    },
    {
     "name": "stdout",
     "output_type": "stream",
     "text": [
      "Validation Loss: 0.2815, Validation Score: 0.311, ClassWise: 0.040,0.758,0.133\n",
      "Saving Model ...\n",
      "==================================================\n"
     ]
    }
   ],
   "source": [
    "model = train()"
   ]
  },
  {
   "cell_type": "markdown",
   "id": "9e5d472e",
   "metadata": {
    "papermill": {
     "duration": 0.653297,
     "end_time": "2023-03-21T04:10:06.075230",
     "exception": false,
     "start_time": "2023-03-21T04:10:05.421933",
     "status": "completed"
    },
    "tags": []
   },
   "source": [
    "# Submission"
   ]
  },
  {
   "cell_type": "code",
   "execution_count": 13,
   "id": "dbf20968",
   "metadata": {
    "execution": {
     "iopub.execute_input": "2023-03-21T04:10:07.444383Z",
     "iopub.status.busy": "2023-03-21T04:10:07.443988Z",
     "iopub.status.idle": "2023-03-21T04:10:14.775640Z",
     "shell.execute_reply": "2023-03-21T04:10:14.774470Z"
    },
    "papermill": {
     "duration": 7.989577,
     "end_time": "2023-03-21T04:10:14.779585",
     "exception": false,
     "start_time": "2023-03-21T04:10:06.790008",
     "status": "completed"
    },
    "tags": []
   },
   "outputs": [
    {
     "name": "stdout",
     "output_type": "stream",
     "text": [
      "Dataset initialized in 0.419586181640625 secs!\n"
     ]
    },
    {
     "name": "stderr",
     "output_type": "stream",
     "text": [
      "100%|██████████| 276/276 [00:06<00:00, 40.92it/s]\n"
     ]
    },
    {
     "name": "stdout",
     "output_type": "stream",
     "text": [
      "Dataset initialized in 0.017014503479003906 secs!\n"
     ]
    },
    {
     "name": "stderr",
     "output_type": "stream",
     "text": [
      "100%|██████████| 5/5 [00:00<00:00, 50.74it/s]\n"
     ]
    }
   ],
   "source": [
    "model = FOGModel().cuda()\n",
    "model.load_state_dict(torch.load(\"/kaggle/working/best_model_state.h5\"))\n",
    "model.eval()\n",
    "\n",
    "test_defog_paths = glob.glob(\"/kaggle/input/tlvmc-parkinsons-freezing-gait-prediction/test/defog/*.csv\")\n",
    "test_tdcsfog_paths = glob.glob(\"/kaggle/input/tlvmc-parkinsons-freezing-gait-prediction/test/tdcsfog/*.csv\")\n",
    "\n",
    "test_dataset = FOGDataset(test_defog_paths, test=True)\n",
    "test_loader = DataLoader(test_dataset, batch_size=cfg.batch_size, num_workers=0)\n",
    "\n",
    "ids = []\n",
    "preds = []\n",
    "\n",
    "for _id, x in tqdm(test_loader):\n",
    "    x = x.to(cfg.device).float()\n",
    "    with torch.no_grad():\n",
    "        y_pred = torch.clip(model(x)*0.02+1, 0.0, 1.0)\n",
    "    \n",
    "    ids.extend(_id)\n",
    "    preds.extend(list(np.nan_to_num(y_pred.cpu().numpy())))\n",
    "    \n",
    "\n",
    "    \n",
    "test_dataset = FOGDataset(test_tdcsfog_paths, test=True)\n",
    "test_loader = DataLoader(test_dataset, batch_size=cfg.batch_size, num_workers=0)\n",
    "    \n",
    "for _id, x in tqdm(test_loader):\n",
    "    x = x.to(cfg.device).float()\n",
    "    with torch.no_grad():\n",
    "        y_pred = torch.clip(model(x)*0.02+1, 0.0, 1.0)\n",
    "    \n",
    "    ids.extend(_id)\n",
    "    preds.extend(list(np.nan_to_num(y_pred.cpu().numpy())))"
   ]
  },
  {
   "cell_type": "code",
   "execution_count": 14,
   "id": "8efd0f36",
   "metadata": {
    "execution": {
     "iopub.execute_input": "2023-03-21T04:10:16.208033Z",
     "iopub.status.busy": "2023-03-21T04:10:16.207103Z",
     "iopub.status.idle": "2023-03-21T04:10:16.441154Z",
     "shell.execute_reply": "2023-03-21T04:10:16.440183Z"
    },
    "papermill": {
     "duration": 0.953116,
     "end_time": "2023-03-21T04:10:16.443374",
     "exception": false,
     "start_time": "2023-03-21T04:10:15.490258",
     "status": "completed"
    },
    "tags": []
   },
   "outputs": [
    {
     "data": {
      "text/plain": [
       "(286370, 4)"
      ]
     },
     "execution_count": 14,
     "metadata": {},
     "output_type": "execute_result"
    }
   ],
   "source": [
    "sample_submission = pd.read_csv(\"/kaggle/input/tlvmc-parkinsons-freezing-gait-prediction/sample_submission.csv\")\n",
    "sample_submission.shape"
   ]
  },
  {
   "cell_type": "code",
   "execution_count": 15,
   "id": "6abeac83",
   "metadata": {
    "execution": {
     "iopub.execute_input": "2023-03-21T04:10:17.749870Z",
     "iopub.status.busy": "2023-03-21T04:10:17.749191Z",
     "iopub.status.idle": "2023-03-21T04:10:18.737956Z",
     "shell.execute_reply": "2023-03-21T04:10:18.736859Z"
    },
    "papermill": {
     "duration": 1.646687,
     "end_time": "2023-03-21T04:10:18.740467",
     "exception": false,
     "start_time": "2023-03-21T04:10:17.093780",
     "status": "completed"
    },
    "tags": []
   },
   "outputs": [],
   "source": [
    "preds = np.array(preds)\n",
    "submission = pd.DataFrame({'Id': ids, 'StartHesitation': np.round(preds[:,0],3), \\\n",
    "                           'Turn': np.round(preds[:,1],3), 'Walking': np.round(preds[:,2],3)})\n",
    "\n",
    "submission = pd.merge(sample_submission[['Id']], submission, how='left', on='Id').fillna(0.0)\n",
    "submission.to_csv(\"submission.csv\", index=False)"
   ]
  },
  {
   "cell_type": "code",
   "execution_count": 16,
   "id": "8ae72b72",
   "metadata": {
    "execution": {
     "iopub.execute_input": "2023-03-21T04:10:20.119260Z",
     "iopub.status.busy": "2023-03-21T04:10:20.118865Z",
     "iopub.status.idle": "2023-03-21T04:10:20.135794Z",
     "shell.execute_reply": "2023-03-21T04:10:20.134670Z"
    },
    "papermill": {
     "duration": 0.685577,
     "end_time": "2023-03-21T04:10:20.138074",
     "exception": false,
     "start_time": "2023-03-21T04:10:19.452497",
     "status": "completed"
    },
    "tags": []
   },
   "outputs": [
    {
     "name": "stdout",
     "output_type": "stream",
     "text": [
      "(286370, 4)\n"
     ]
    },
    {
     "data": {
      "text/html": [
       "<div>\n",
       "<style scoped>\n",
       "    .dataframe tbody tr th:only-of-type {\n",
       "        vertical-align: middle;\n",
       "    }\n",
       "\n",
       "    .dataframe tbody tr th {\n",
       "        vertical-align: top;\n",
       "    }\n",
       "\n",
       "    .dataframe thead th {\n",
       "        text-align: right;\n",
       "    }\n",
       "</style>\n",
       "<table border=\"1\" class=\"dataframe\">\n",
       "  <thead>\n",
       "    <tr style=\"text-align: right;\">\n",
       "      <th></th>\n",
       "      <th>Id</th>\n",
       "      <th>StartHesitation</th>\n",
       "      <th>Turn</th>\n",
       "      <th>Walking</th>\n",
       "    </tr>\n",
       "  </thead>\n",
       "  <tbody>\n",
       "    <tr>\n",
       "      <th>0</th>\n",
       "      <td>003f117e14_0</td>\n",
       "      <td>0.905</td>\n",
       "      <td>0.189</td>\n",
       "      <td>0.208</td>\n",
       "    </tr>\n",
       "    <tr>\n",
       "      <th>1</th>\n",
       "      <td>003f117e14_1</td>\n",
       "      <td>0.905</td>\n",
       "      <td>0.189</td>\n",
       "      <td>0.208</td>\n",
       "    </tr>\n",
       "    <tr>\n",
       "      <th>2</th>\n",
       "      <td>003f117e14_2</td>\n",
       "      <td>0.905</td>\n",
       "      <td>0.189</td>\n",
       "      <td>0.208</td>\n",
       "    </tr>\n",
       "    <tr>\n",
       "      <th>3</th>\n",
       "      <td>003f117e14_3</td>\n",
       "      <td>0.905</td>\n",
       "      <td>0.189</td>\n",
       "      <td>0.208</td>\n",
       "    </tr>\n",
       "    <tr>\n",
       "      <th>4</th>\n",
       "      <td>003f117e14_4</td>\n",
       "      <td>0.905</td>\n",
       "      <td>0.189</td>\n",
       "      <td>0.208</td>\n",
       "    </tr>\n",
       "  </tbody>\n",
       "</table>\n",
       "</div>"
      ],
      "text/plain": [
       "             Id  StartHesitation   Turn  Walking\n",
       "0  003f117e14_0            0.905  0.189    0.208\n",
       "1  003f117e14_1            0.905  0.189    0.208\n",
       "2  003f117e14_2            0.905  0.189    0.208\n",
       "3  003f117e14_3            0.905  0.189    0.208\n",
       "4  003f117e14_4            0.905  0.189    0.208"
      ]
     },
     "execution_count": 16,
     "metadata": {},
     "output_type": "execute_result"
    }
   ],
   "source": [
    "print(submission.shape)\n",
    "submission.head()"
   ]
  },
  {
   "cell_type": "markdown",
   "id": "13db893d",
   "metadata": {
    "papermill": {
     "duration": 0.709649,
     "end_time": "2023-03-21T04:10:21.570162",
     "exception": false,
     "start_time": "2023-03-21T04:10:20.860513",
     "status": "completed"
    },
    "tags": []
   },
   "source": []
  },
  {
   "cell_type": "code",
   "execution_count": null,
   "id": "1fd5beb9",
   "metadata": {
    "papermill": {
     "duration": 0.659531,
     "end_time": "2023-03-21T04:10:22.885914",
     "exception": false,
     "start_time": "2023-03-21T04:10:22.226383",
     "status": "completed"
    },
    "tags": []
   },
   "outputs": [],
   "source": []
  }
 ],
 "metadata": {
  "kernelspec": {
   "display_name": "Python 3",
   "language": "python",
   "name": "python3"
  },
  "language_info": {
   "codemirror_mode": {
    "name": "ipython",
    "version": 3
   },
   "file_extension": ".py",
   "mimetype": "text/x-python",
   "name": "python",
   "nbconvert_exporter": "python",
   "pygments_lexer": "ipython3",
   "version": "3.7.12"
  },
  "papermill": {
   "default_parameters": {},
   "duration": 2512.910307,
   "end_time": "2023-03-21T04:10:25.241925",
   "environment_variables": {},
   "exception": null,
   "input_path": "__notebook__.ipynb",
   "output_path": "__notebook__.ipynb",
   "parameters": {},
   "start_time": "2023-03-21T03:28:32.331618",
   "version": "2.4.0"
  }
 },
 "nbformat": 4,
 "nbformat_minor": 5
}
