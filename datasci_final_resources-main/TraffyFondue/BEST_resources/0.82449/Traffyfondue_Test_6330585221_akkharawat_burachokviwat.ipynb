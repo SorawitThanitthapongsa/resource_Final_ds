{
  "nbformat": 4,
  "nbformat_minor": 0,
  "metadata": {
    "colab": {
      "provenance": []
    },
    "kernelspec": {
      "name": "python3",
      "display_name": "Python 3"
    },
    "language_info": {
      "name": "python"
    }
  },
  "cells": [
    {
      "cell_type": "markdown",
      "source": [
        "# Submit to Kaggle"
      ],
      "metadata": {
        "id": "V7egGbzHg6FV"
      }
    },
    {
      "cell_type": "code",
      "source": [
        "model.load_state_dict(torch.load('/kaggle/working/best_model_train_all.pth'))"
      ],
      "metadata": {
        "id": "5N-viaV13Lpw"
      },
      "execution_count": null,
      "outputs": []
    },
    {
      "cell_type": "code",
      "source": [
        "import os\n",
        "import pandas as pd\n",
        "import argparse\n",
        "\n",
        "path = '/kaggle/input/submittest/test'\n",
        "def gen_filename():\n",
        "    d={}\n",
        "    images = os.listdir(path)\n",
        "    sorted_filenames = sorted(images, key=lambda x: int(x.split(\"test\")[1].split(\".\")[0]))\n",
        "    for image in sorted_filenames:\n",
        "        if image == '.DS_Store': continue\n",
        "        d[image] = 0\n",
        "\n",
        "    file = pd.DataFrame(d.keys(), columns=['ID'])\n",
        "    file.to_csv('submission.csv', index=False)\n",
        "\n",
        "\n",
        "gen_filename()\n"
      ],
      "metadata": {
        "execution": {
          "iopub.status.busy": "2023-03-17T17:51:16.901117Z",
          "iopub.execute_input": "2023-03-17T17:51:16.901495Z",
          "iopub.status.idle": "2023-03-17T17:51:16.921502Z",
          "shell.execute_reply.started": "2023-03-17T17:51:16.901461Z",
          "shell.execute_reply": "2023-03-17T17:51:16.920532Z"
        },
        "trusted": true,
        "id": "UqWUtFC4g6FV"
      },
      "execution_count": null,
      "outputs": []
    },
    {
      "cell_type": "code",
      "source": [
        "submit = pd.read_csv('/kaggle/working/submission.csv')\n",
        "submit\n"
      ],
      "metadata": {
        "execution": {
          "iopub.status.busy": "2023-03-17T17:51:17.991267Z",
          "iopub.execute_input": "2023-03-17T17:51:17.991646Z",
          "iopub.status.idle": "2023-03-17T17:51:18.007662Z",
          "shell.execute_reply.started": "2023-03-17T17:51:17.991594Z",
          "shell.execute_reply": "2023-03-17T17:51:18.006547Z"
        },
        "trusted": true,
        "id": "seiwE7e_g6FV",
        "outputId": "82f406f0-a1be-4658-9fe7-ef3d8d7f06a4"
      },
      "execution_count": null,
      "outputs": [
        {
          "execution_count": 139,
          "output_type": "execute_result",
          "data": {
            "text/plain": "                ID\n0        test0.jpg\n1        test1.jpg\n2        test2.jpg\n3        test3.jpg\n4        test4.jpg\n...            ...\n4643  test4643.jpg\n4644  test4644.jpg\n4645  test4645.jpg\n4646  test4646.jpg\n4647  test4647.jpg\n\n[4648 rows x 1 columns]",
            "text/html": "<div>\n<style scoped>\n    .dataframe tbody tr th:only-of-type {\n        vertical-align: middle;\n    }\n\n    .dataframe tbody tr th {\n        vertical-align: top;\n    }\n\n    .dataframe thead th {\n        text-align: right;\n    }\n</style>\n<table border=\"1\" class=\"dataframe\">\n  <thead>\n    <tr style=\"text-align: right;\">\n      <th></th>\n      <th>ID</th>\n    </tr>\n  </thead>\n  <tbody>\n    <tr>\n      <th>0</th>\n      <td>test0.jpg</td>\n    </tr>\n    <tr>\n      <th>1</th>\n      <td>test1.jpg</td>\n    </tr>\n    <tr>\n      <th>2</th>\n      <td>test2.jpg</td>\n    </tr>\n    <tr>\n      <th>3</th>\n      <td>test3.jpg</td>\n    </tr>\n    <tr>\n      <th>4</th>\n      <td>test4.jpg</td>\n    </tr>\n    <tr>\n      <th>...</th>\n      <td>...</td>\n    </tr>\n    <tr>\n      <th>4643</th>\n      <td>test4643.jpg</td>\n    </tr>\n    <tr>\n      <th>4644</th>\n      <td>test4644.jpg</td>\n    </tr>\n    <tr>\n      <th>4645</th>\n      <td>test4645.jpg</td>\n    </tr>\n    <tr>\n      <th>4646</th>\n      <td>test4646.jpg</td>\n    </tr>\n    <tr>\n      <th>4647</th>\n      <td>test4647.jpg</td>\n    </tr>\n  </tbody>\n</table>\n<p>4648 rows × 1 columns</p>\n</div>"
          },
          "metadata": {}
        }
      ]
    },
    {
      "cell_type": "code",
      "source": [
        "test_path = '/kaggle/input/submittest/test'\n",
        "class TestDataset(Dataset):\n",
        "    \n",
        "    def __init__(self, \n",
        "                 img_dir, \n",
        "                 transforms=None):\n",
        "        \n",
        "        super().__init__()\n",
        "        self.input_dataset = list()\n",
        "\n",
        "        _, _, files = next(os.walk(os.path.join(img_dir)))\n",
        "        for image_name in submit['ID']:\n",
        "            input = [os.path.join(img_dir,image_name), image_name] \n",
        "            self.input_dataset.append(input)\n",
        "        \n",
        "        self.transforms = transforms\n",
        "\n",
        "    def __len__(self):\n",
        "        return len(self.input_dataset)\n",
        "\n",
        "    def __getitem__(self, idx): \n",
        "        img = Image.open(self.input_dataset[idx][0]).convert('RGB')\n",
        "        x = self.transforms(img)\n",
        "        return x, self.input_dataset[idx][1]\n",
        "\n",
        "submitset = TestDataset(test_path,transform)\n",
        "submitloader = torch.utils.data.DataLoader(submitset, batch_size=32, shuffle=False)"
      ],
      "metadata": {
        "execution": {
          "iopub.status.busy": "2023-03-17T17:51:18.968148Z",
          "iopub.execute_input": "2023-03-17T17:51:18.968510Z",
          "iopub.status.idle": "2023-03-17T17:51:21.292657Z",
          "shell.execute_reply.started": "2023-03-17T17:51:18.968475Z",
          "shell.execute_reply": "2023-03-17T17:51:21.291628Z"
        },
        "trusted": true,
        "id": "a7YMM1Wgg6FV"
      },
      "execution_count": null,
      "outputs": []
    },
    {
      "cell_type": "code",
      "source": [
        "print('running ...')\n",
        "y_predict = list()\n",
        "model.eval()\n",
        "with torch.no_grad():\n",
        "    for inputs, _ in tqdm(submitloader):\n",
        "\n",
        "        inputs = inputs.to(device)\n",
        "        outputs = model(inputs)\n",
        "        y_predict += list(outputs.argmax(dim=1).cpu().numpy())\n",
        "print('Finished')\n"
      ],
      "metadata": {
        "execution": {
          "iopub.status.busy": "2023-03-17T17:51:21.294659Z",
          "iopub.execute_input": "2023-03-17T17:51:21.295311Z",
          "iopub.status.idle": "2023-03-17T17:54:55.185601Z",
          "shell.execute_reply.started": "2023-03-17T17:51:21.295270Z",
          "shell.execute_reply": "2023-03-17T17:54:55.184490Z"
        },
        "trusted": true,
        "id": "Lb6AIOSPg6FV",
        "outputId": "f487ae45-d60a-4455-d301-0e470921158c"
      },
      "execution_count": null,
      "outputs": [
        {
          "name": "stdout",
          "text": "running ...\n",
          "output_type": "stream"
        },
        {
          "name": "stderr",
          "text": "100%|██████████| 146/146 [03:33<00:00,  1.46s/it]",
          "output_type": "stream"
        },
        {
          "name": "stdout",
          "text": "Finished\n",
          "output_type": "stream"
        },
        {
          "name": "stderr",
          "text": "\n",
          "output_type": "stream"
        }
      ]
    },
    {
      "cell_type": "code",
      "source": [
        "len(y_predict)"
      ],
      "metadata": {
        "execution": {
          "iopub.status.busy": "2023-03-17T17:55:38.129012Z",
          "iopub.execute_input": "2023-03-17T17:55:38.129940Z",
          "iopub.status.idle": "2023-03-17T17:55:38.137072Z",
          "shell.execute_reply.started": "2023-03-17T17:55:38.129885Z",
          "shell.execute_reply": "2023-03-17T17:55:38.135994Z"
        },
        "trusted": true,
        "id": "aGvIxWvDg6FV",
        "outputId": "eb33f1d5-d908-43a8-ee4f-efa77bdaa9b6"
      },
      "execution_count": null,
      "outputs": [
        {
          "execution_count": 142,
          "output_type": "execute_result",
          "data": {
            "text/plain": "4648"
          },
          "metadata": {}
        }
      ]
    },
    {
      "cell_type": "code",
      "source": [
        "submit_df = pd.DataFrame()\n",
        "submit_df['ID'] = list(range(len(y_predict)))\n",
        "submit_df['class'] = y_predict\n",
        "submit_df"
      ],
      "metadata": {
        "execution": {
          "iopub.status.busy": "2023-03-17T17:55:39.931491Z",
          "iopub.execute_input": "2023-03-17T17:55:39.932459Z",
          "iopub.status.idle": "2023-03-17T17:55:39.952829Z",
          "shell.execute_reply.started": "2023-03-17T17:55:39.932402Z",
          "shell.execute_reply": "2023-03-17T17:55:39.951775Z"
        },
        "trusted": true,
        "id": "dPVqKNlGg6FV",
        "outputId": "00d44972-9527-4bfc-e8a1-d62997af245d"
      },
      "execution_count": null,
      "outputs": [
        {
          "execution_count": 143,
          "output_type": "execute_result",
          "data": {
            "text/plain": "        ID  class\n0        0      4\n1        1      4\n2        2      1\n3        3      4\n4        4      1\n...    ...    ...\n4643  4643      9\n4644  4644      7\n4645  4645      5\n4646  4646      7\n4647  4647      0\n\n[4648 rows x 2 columns]",
            "text/html": "<div>\n<style scoped>\n    .dataframe tbody tr th:only-of-type {\n        vertical-align: middle;\n    }\n\n    .dataframe tbody tr th {\n        vertical-align: top;\n    }\n\n    .dataframe thead th {\n        text-align: right;\n    }\n</style>\n<table border=\"1\" class=\"dataframe\">\n  <thead>\n    <tr style=\"text-align: right;\">\n      <th></th>\n      <th>ID</th>\n      <th>class</th>\n    </tr>\n  </thead>\n  <tbody>\n    <tr>\n      <th>0</th>\n      <td>0</td>\n      <td>4</td>\n    </tr>\n    <tr>\n      <th>1</th>\n      <td>1</td>\n      <td>4</td>\n    </tr>\n    <tr>\n      <th>2</th>\n      <td>2</td>\n      <td>1</td>\n    </tr>\n    <tr>\n      <th>3</th>\n      <td>3</td>\n      <td>4</td>\n    </tr>\n    <tr>\n      <th>4</th>\n      <td>4</td>\n      <td>1</td>\n    </tr>\n    <tr>\n      <th>...</th>\n      <td>...</td>\n      <td>...</td>\n    </tr>\n    <tr>\n      <th>4643</th>\n      <td>4643</td>\n      <td>9</td>\n    </tr>\n    <tr>\n      <th>4644</th>\n      <td>4644</td>\n      <td>7</td>\n    </tr>\n    <tr>\n      <th>4645</th>\n      <td>4645</td>\n      <td>5</td>\n    </tr>\n    <tr>\n      <th>4646</th>\n      <td>4646</td>\n      <td>7</td>\n    </tr>\n    <tr>\n      <th>4647</th>\n      <td>4647</td>\n      <td>0</td>\n    </tr>\n  </tbody>\n</table>\n<p>4648 rows × 2 columns</p>\n</div>"
          },
          "metadata": {}
        }
      ]
    },
    {
      "cell_type": "code",
      "source": [
        "submit_df.to_csv('submission86.csv', index=False)\n"
      ],
      "metadata": {
        "execution": {
          "iopub.status.busy": "2023-03-17T17:55:51.113699Z",
          "iopub.execute_input": "2023-03-17T17:55:51.114667Z",
          "iopub.status.idle": "2023-03-17T17:55:51.125795Z",
          "shell.execute_reply.started": "2023-03-17T17:55:51.114589Z",
          "shell.execute_reply": "2023-03-17T17:55:51.124764Z"
        },
        "trusted": true,
        "id": "hgQ_IEahg6FV"
      },
      "execution_count": null,
      "outputs": []
    }
  ]
}