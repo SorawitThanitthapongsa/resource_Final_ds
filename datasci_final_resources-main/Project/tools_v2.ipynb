{
 "cells": [
  {
   "cell_type": "code",
   "execution_count": 2,
   "id": "0c0c643f",
   "metadata": {},
   "outputs": [],
   "source": [
    "import os\n",
    "import numpy as np\n",
    "import pandas as pd\n",
    "import shutil\n",
    "import imagehash\n",
    "from PIL import Image\n",
    "import cv2\n",
    "import sys"
   ]
  },
  {
   "cell_type": "markdown",
   "id": "2cb3ee08",
   "metadata": {},
   "source": [
    "# **Remove .DS files**"
   ]
  },
  {
   "cell_type": "code",
   "execution_count": 3,
   "id": "11e75258",
   "metadata": {},
   "outputs": [],
   "source": [
    "! find . -name \".DS_Store\" -print -delete"
   ]
  },
  {
   "cell_type": "markdown",
   "id": "10ed2936",
   "metadata": {},
   "source": [
    "# **Generate files.csv (file name + their label)**"
   ]
  },
  {
   "cell_type": "code",
   "execution_count": 3,
   "id": "863aa7d1",
   "metadata": {},
   "outputs": [],
   "source": [
    "d = {}\n",
    "folder = ['canal','electric','flooding','light','road','sanitary','sewer','sidewalk','stray','traffic','unused','unsure','duplicate']\n",
    "for l in folder:\n",
    "    _, _, files = next(os.walk(os.path.join('.',l)))\n",
    "    if '.DS_Store' in files: \n",
    "        files.remove('.DS_Store')\n",
    "    for f in files:\n",
    "        d[f] = l\n",
    "        \n",
    "df = pd.DataFrame(d.items(),columns=['filename','class'])\n",
    "df.to_csv('files.csv',index=False)"
   ]
  },
  {
   "cell_type": "code",
   "execution_count": 4,
   "id": "35d5bc52",
   "metadata": {},
   "outputs": [
    {
     "data": {
      "text/plain": [
       "(6524, 2)"
      ]
     },
     "execution_count": 4,
     "metadata": {},
     "output_type": "execute_result"
    }
   ],
   "source": [
    "df.shape"
   ]
  },
  {
   "cell_type": "markdown",
   "id": "4aea0398",
   "metadata": {},
   "source": [
    "# **Rearrange original files into Poon's label**"
   ]
  },
  {
   "cell_type": "code",
   "execution_count": 5,
   "id": "2699e5cb",
   "metadata": {
    "scrolled": true
   },
   "outputs": [
    {
     "data": {
      "text/html": [
       "<div>\n",
       "<style scoped>\n",
       "    .dataframe tbody tr th:only-of-type {\n",
       "        vertical-align: middle;\n",
       "    }\n",
       "\n",
       "    .dataframe tbody tr th {\n",
       "        vertical-align: top;\n",
       "    }\n",
       "\n",
       "    .dataframe thead th {\n",
       "        text-align: right;\n",
       "    }\n",
       "</style>\n",
       "<table border=\"1\" class=\"dataframe\">\n",
       "  <thead>\n",
       "    <tr style=\"text-align: right;\">\n",
       "      <th></th>\n",
       "      <th>filename</th>\n",
       "      <th>class</th>\n",
       "    </tr>\n",
       "  </thead>\n",
       "  <tbody>\n",
       "    <tr>\n",
       "      <th>0</th>\n",
       "      <td>train_canal_img_441.jpg</td>\n",
       "      <td>canal</td>\n",
       "    </tr>\n",
       "    <tr>\n",
       "      <th>1</th>\n",
       "      <td>train_canal_img_85.jpg</td>\n",
       "      <td>canal</td>\n",
       "    </tr>\n",
       "    <tr>\n",
       "      <th>2</th>\n",
       "      <td>train_canal_img_125.jpg</td>\n",
       "      <td>canal</td>\n",
       "    </tr>\n",
       "  </tbody>\n",
       "</table>\n",
       "</div>"
      ],
      "text/plain": [
       "                  filename  class\n",
       "0  train_canal_img_441.jpg  canal\n",
       "1   train_canal_img_85.jpg  canal\n",
       "2  train_canal_img_125.jpg  canal"
      ]
     },
     "execution_count": 5,
     "metadata": {},
     "output_type": "execute_result"
    }
   ],
   "source": [
    "# Read csv\n",
    "df = pd.read_csv('files.csv')\n",
    "df.head(3)"
   ]
  },
  {
   "cell_type": "code",
   "execution_count": 26,
   "id": "6094cb54",
   "metadata": {},
   "outputs": [],
   "source": [
    "d = dict(df.values)\n",
    "\n",
    "folder = ['canal','electric','flooding','light','road','sanitary','sewer','sidewalk','stray','traffic','unused','unsure','duplicate']\n",
    "for f in folder:\n",
    "    if not os.path.exists(os.path.join('.',f)):\n",
    "        os.makedirs(os.path.join('.',f))\n",
    "\n",
    "for f in folder:\n",
    "    \n",
    "    _, _, files = next(os.walk(os.path.join('.',f)))\n",
    "    if '.DS_Store' in files: \n",
    "        files.remove('.DS_Store')\n",
    "        \n",
    "    for file in files:\n",
    "        if file in d:\n",
    "            # move file\n",
    "            old = os.path.join('.',f,file)\n",
    "            new = os.path.join('.',d[file],file)\n",
    "            shutil.move(old,new)"
   ]
  },
  {
   "cell_type": "markdown",
   "id": "9cb2a011",
   "metadata": {},
   "source": [
    "# **Count files in each folder**"
   ]
  },
  {
   "cell_type": "code",
   "execution_count": 27,
   "id": "d0aa3be2",
   "metadata": {},
   "outputs": [
    {
     "name": "stdout",
     "output_type": "stream",
     "text": [
      "total files = 13274\n",
      "{'canal': 626, 'electric': 1082, 'flooding': 1344, 'light': 1270, 'road': 1350, 'sanitary': 449, 'sewer': 618, 'sidewalk': 694, 'stray': 307, 'traffic': 511, 'unused': 3547, 'unsure': 95, 'duplicate': 1381}\n"
     ]
    }
   ],
   "source": [
    "counter = {}\n",
    "folder = ['canal','electric','flooding','light','road','sanitary','sewer','sidewalk','stray','traffic','unused','unsure','duplicate']\n",
    "for l in folder:\n",
    "    _, _, files = next(os.walk(os.path.join('.',l)))\n",
    "    if '.DS_Store' in files: \n",
    "        files.remove('.DS_Store')\n",
    "    counter[l] = len(files)\n",
    "    \n",
    "print('total files =',sum(counter.values()))\n",
    "print(counter)\n"
   ]
  },
  {
   "cell_type": "markdown",
   "id": "18815550",
   "metadata": {},
   "source": [
    "# **Label helper tool**"
   ]
  },
  {
   "cell_type": "code",
   "execution_count": 6,
   "id": "7ad55c02",
   "metadata": {},
   "outputs": [],
   "source": [
    "basePath = \".\"\n",
    "unusedPath = \"./unused\"\n",
    "\n",
    "folder = ['canal','electric','flooding','light','road','sanitary','sewer','sidewalk','stray','traffic','unused','unsure','duplicate']\n",
    "for f in folder:\n",
    "    if not os.path.exists(os.path.join('.',f)):\n",
    "        os.makedirs(os.path.join('.',f))"
   ]
  },
  {
   "cell_type": "code",
   "execution_count": 7,
   "id": "6e771982",
   "metadata": {},
   "outputs": [],
   "source": [
    "def changeLabel(fpath, fnames, label) :\n",
    "    fname = fpath.split('/')[-1]\n",
    "#     fnames.remove(fname)\n",
    "    newPath = basePath + '/' + label + '/' + fname\n",
    "    shutil.copy(fpath, newPath)\n",
    "    lastMove = False\n",
    "    return newPath\n",
    "\n",
    "def deleteFile(fpath, fnames) :\n",
    "    fname = fpath.split('/')[-1]\n",
    "    fnames.remove(fname)\n",
    "    newPath = unusedPath + '/' + fname\n",
    "    shutil.move(fpath, newPath)\n",
    "    lastMove = True\n",
    "    return newPath\n",
    "\n",
    "def restoreFile(lastPath, newPath) :\n",
    "    if lastMove:\n",
    "        shutil.move(newPath, lastPath)\n",
    "    else:\n",
    "        os.remove(newPath)\n",
    "    \n",
    "labelKeyMap = {\n",
    "    # ['canal','electric','flooding','light','road','sanitary','sewer','sidewalk','stray','traffic']\n",
    "    '8': 'sidewalk',\n",
    "    '6': 'sanitary',\n",
    "    '7': 'sewer',\n",
    "    '5': 'road',\n",
    "    '1': 'canal',\n",
    "    '4': 'light',\n",
    "    '2': 'electric',\n",
    "    '3': 'flooding',\n",
    "    '9': 'stray',\n",
    "    '0': 'traffic'\n",
    "}"
   ]
  },
  {
   "cell_type": "code",
   "execution_count": 15,
   "id": "25af0486",
   "metadata": {},
   "outputs": [
    {
     "name": "stdout",
     "output_type": "stream",
     "text": [
      "last pos: 539\n"
     ]
    }
   ],
   "source": [
    "# Specifify folder to explore and image index to open \n",
    "subPath = 'traffic'\n",
    "pos = 0\n",
    "\n",
    "imgDir = basePath + '/' + subPath\n",
    "# imgDir = '../testim'\n",
    "fnames = os.listdir(imgDir)\n",
    "if sys.platform == 'darwin' and '.DS_Store' in fnames: \n",
    "    fnames.remove('.DS_Store')\n",
    "\n",
    "# Check if path exists\n",
    "if len(fnames) == 0 :\n",
    "    raise Exception(\"empty folder\")\n",
    "if not os.path.exists(unusedPath) :\n",
    "    os.mkdir(unusedPath)\n",
    "    \n",
    "# Create a OpenCV Window\n",
    "windowName = 'tools v2'\n",
    "cv2.namedWindow(windowName)\n",
    "\n",
    "last_pos = pos\n",
    "prev_fnames = fnames.copy()\n",
    "lastPath = \"\"\n",
    "newPath = \"\"\n",
    "lastMove = True\n",
    "\n",
    "while True :\n",
    "    decIter = lambda p : max(0, p-1)\n",
    "    incIter = lambda p : min(len(fnames)-1, p+1)\n",
    "    boundIter = lambda p : max(0, min(len(fnames)-1, p))\n",
    "    \n",
    "    pos = boundIter(pos)\n",
    "    imgPath = imgDir + '/' + fnames[pos]\n",
    "    img = cv2.imread(imgPath)\n",
    "    img = cv2.putText(\n",
    "      img = img,\n",
    "#       text = f\"{pos}/{len(fnames)-1}\\n{imgPath}\",\n",
    "      text = \"canal:1, electric:2, flooding:3, light:4, road:5\",\n",
    "      org = (50, 50),\n",
    "      fontFace = cv2.FONT_HERSHEY_DUPLEX,\n",
    "      fontScale = 1,\n",
    "      color = (0, 255, 0),\n",
    "      thickness = 3\n",
    "    )\n",
    "    img = cv2.putText(\n",
    "      img = img,\n",
    "#       text = f\"{pos}/{len(fnames)-1}\\n{imgPath}\",\n",
    "      text = \"sanitary:6, sewer:7, sidewalk:8, stray:9, traffic:0\",\n",
    "      org = (50, 100),\n",
    "      fontFace = cv2.FONT_HERSHEY_DUPLEX,\n",
    "      fontScale = 1,\n",
    "      color = (0, 255, 0),\n",
    "      thickness = 3\n",
    "    )\n",
    "    img = cv2.putText(\n",
    "      img = img,\n",
    "#       text = f\"{pos}/{len(fnames)-1}\\n{imgPath}\",\n",
    "      text = \" ? = delete | k = undo delete\",\n",
    "      org = (50, 150),\n",
    "      fontFace = cv2.FONT_HERSHEY_DUPLEX,\n",
    "      fontScale = 1.3,\n",
    "      color = (0, 0, 255),\n",
    "      thickness = 3\n",
    "    )\n",
    "    img = cv2.putText(\n",
    "      img = img,\n",
    "#       text = f\"{pos}/{len(fnames)-1}\\n{imgPath}\",\n",
    "      text = \" , = back | . = next\",\n",
    "      org = (50, 200),\n",
    "      fontFace = cv2.FONT_HERSHEY_DUPLEX,\n",
    "      fontScale = 1.3,\n",
    "      color = (0, 0, 255),\n",
    "      thickness = 3\n",
    "    )\n",
    "    img = cv2.putText(\n",
    "      img = img,\n",
    "#       text = f\"{pos}/{len(fnames)-1}\\n{imgPath}\",\n",
    "      text = str(pos)+\"/\"+str(len(fnames)-1)+\" \"+imgPath,\n",
    "      org = (50, 250),\n",
    "      fontFace = cv2.FONT_HERSHEY_DUPLEX,\n",
    "      fontScale = 1.3,\n",
    "      color = (125, 246, 55),\n",
    "      thickness = 3\n",
    "    )\n",
    "    cv2.imshow(windowName, img)\n",
    "\n",
    "    # Break the loop if 'q' is pressed\n",
    "    wkey = cv2.waitKey(1) & 0xFF\n",
    "    if chr(wkey) == 'q':\n",
    "        break\n",
    "    # navigate left\n",
    "    elif wkey == ord(',') :\n",
    "        pos = decIter(pos)\n",
    "        wkey = 0\n",
    "        continue\n",
    "    # navigate right\n",
    "    elif wkey == ord('.') :\n",
    "        pos = incIter(pos)\n",
    "        wkey = 0\n",
    "        continue\n",
    "    # temporary delete\n",
    "    elif wkey == ord('?') :\n",
    "        last_pos = pos\n",
    "        prev_fnames = fnames.copy()\n",
    "        lastPath = imgPath\n",
    "        newPath = deleteFile(imgPath, fnames)\n",
    "        wkey = 0\n",
    "        continue\n",
    "    # permanent delete\n",
    "    # edit last move\n",
    "    elif wkey == ord('k') :\n",
    "        if lastPath == '' or newPath == '' :\n",
    "            wkey = 0\n",
    "            continue\n",
    "        fnames = prev_fnames.copy()\n",
    "        restoreFile(lastPath, newPath)\n",
    "        newPath = ''\n",
    "        lastPath = ''\n",
    "        pos = last_pos\n",
    "        wkey = 0\n",
    "        continue\n",
    "    # move to different label folder\n",
    "    elif chr(wkey) in labelKeyMap.keys() :\n",
    "        last_pos = pos\n",
    "        label = labelKeyMap[chr(wkey)]\n",
    "        if label == subPath :\n",
    "            continue\n",
    "        prev_fnames = fnames.copy()\n",
    "        lastPath = imgPath\n",
    "        newPath = changeLabel(imgPath, fnames, label)\n",
    "        wkey = 0\n",
    "        continue\n",
    "\n",
    "# Release the webcam and close the window\n",
    "cv2.destroyAllWindows()\n",
    "cv2.waitKey(1)\n",
    "print(f\"last pos: {pos}\")\n",
    "with open(\"cleaner_last_pos.txt\", 'a') as f :\n",
    "    f.write(f\"\\n{subPath} {pos}\")\n",
    "    f.close()"
   ]
  },
  {
   "cell_type": "code",
   "execution_count": 3,
   "id": "fff5271c",
   "metadata": {},
   "outputs": [],
   "source": [
    "from collections import defaultdict\n",
    "\n",
    "path = './TraffyFondue/train'\n",
    "def gen_filename():\n",
    "    classes = os.listdir(path)\n",
    "    d = defaultdict(list)\n",
    "    for c in classes:\n",
    "        if c == '.DS_Store':\n",
    "            continue\n",
    "        images = os.listdir(path+'/' + c)\n",
    "        sorted_filenames = sorted(images, key=lambda x: int(x.split(\"_\")[3].split(\".\")[0]))\n",
    "        \n",
    "        for image in sorted_filenames:\n",
    "            if image == '.DS_Store': continue\n",
    "            d[c].append(image)\n",
    "\n",
    "    flatten = [(v, k) for k, values in d.items() for v in values]\n",
    "    df = pd.DataFrame(flatten, columns=['filename', 'class'])\n",
    "    df.to_csv('filenames.csv', index=False)\n",
    "\n",
    "gen_filename()\n"
   ]
  },
  {
   "cell_type": "code",
   "execution_count": 4,
   "id": "1fd56805",
   "metadata": {},
   "outputs": [],
   "source": [
    "df = pd.read_csv(\"filenames.csv\")"
   ]
  },
  {
   "cell_type": "code",
   "execution_count": 7,
   "id": "175ae103",
   "metadata": {},
   "outputs": [
    {
     "data": {
      "text/plain": [
       "road         1591\n",
       "duplicate    1381\n",
       "sidewalk      742\n",
       "sewer         628\n",
       "canal         618\n",
       "traffic       540\n",
       "sanitary       31\n",
       "unused         17\n",
       "flooding       13\n",
       "light           2\n",
       "electric        1\n",
       "stray           1\n",
       "Name: class, dtype: int64"
      ]
     },
     "execution_count": 7,
     "metadata": {},
     "output_type": "execute_result"
    }
   ],
   "source": [
    "df['class'].value_counts()"
   ]
  },
  {
   "cell_type": "code",
   "execution_count": null,
   "id": "159ab845",
   "metadata": {},
   "outputs": [],
   "source": []
  }
 ],
 "metadata": {
  "kernelspec": {
   "display_name": "Python 3 (ipykernel)",
   "language": "python",
   "name": "python3"
  },
  "language_info": {
   "codemirror_mode": {
    "name": "ipython",
    "version": 3
   },
   "file_extension": ".py",
   "mimetype": "text/x-python",
   "name": "python",
   "nbconvert_exporter": "python",
   "pygments_lexer": "ipython3",
   "version": "3.10.11"
  }
 },
 "nbformat": 4,
 "nbformat_minor": 5
}
