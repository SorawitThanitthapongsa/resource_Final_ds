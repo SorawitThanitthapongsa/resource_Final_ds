{
 "cells": [
  {
   "cell_type": "code",
   "execution_count": 1,
   "id": "0c0c643f",
   "metadata": {},
   "outputs": [],
   "source": [
    "import os\n",
    "import numpy as np\n",
    "import pandas as pd\n",
    "import shutil\n",
    "from PIL import Image\n",
    "import cv2\n",
    "import sys"
   ]
  },
  {
   "cell_type": "markdown",
   "id": "2cb3ee08",
   "metadata": {},
   "source": [
    "# **Remove .DS files**"
   ]
  },
  {
   "cell_type": "code",
   "execution_count": 11,
   "id": "11e75258",
   "metadata": {},
   "outputs": [],
   "source": [
    "! find . -name \".DS_Store\" -print -delete"
   ]
  },
  {
   "cell_type": "markdown",
   "id": "8bebe952",
   "metadata": {},
   "source": [
    "# **Count file in each folder**"
   ]
  },
  {
   "cell_type": "code",
   "execution_count": 12,
   "id": "d0aa3be2",
   "metadata": {},
   "outputs": [
    {
     "name": "stdout",
     "output_type": "stream",
     "text": [
      "total files = 8976\n",
      "{'canal': 623, 'electric': 1046, 'flooding': 1329, 'light': 1223, 'road': 1778, 'sanitary': 504, 'sewer': 757, 'sidewalk': 806, 'stray': 315, 'traffic': 595}\n"
     ]
    }
   ],
   "source": [
    "counter = {}\n",
    "basePath = './Data/train'\n",
    "folder = ['canal','electric','flooding','light','road','sanitary','sewer','sidewalk','stray','traffic']\n",
    "\n",
    "for f in folder:\n",
    "    _, _, files = next(os.walk(os.path.join(basePath,f)))\n",
    "    if '.DS_Store' in files: \n",
    "        files.remove('.DS_Store')\n",
    "    counter[f] = len(files)\n",
    "print('total files =',sum(counter.values()))\n",
    "print(counter)   "
   ]
  },
  {
   "cell_type": "markdown",
   "id": "1369d3fe",
   "metadata": {},
   "source": [
    "# **Load Singto's, Earth's, Poon's filenames.csv**"
   ]
  },
  {
   "cell_type": "code",
   "execution_count": 2,
   "id": "d7bc5d37",
   "metadata": {},
   "outputs": [],
   "source": [
    "singto = pd.read_csv('singto.csv')\n",
    "earth = pd.read_csv('earth.csv')\n",
    "poon = pd.read_csv('poon.csv')\n",
    "\n",
    "df = pd.concat([singto, earth, poon]).reset_index(drop=True)"
   ]
  },
  {
   "cell_type": "code",
   "execution_count": 3,
   "id": "c505bdf2",
   "metadata": {},
   "outputs": [
    {
     "data": {
      "text/plain": [
       "unused       3598\n",
       "road         2985\n",
       "duplicate    2762\n",
       "flooding     2637\n",
       "light        2484\n",
       "electric     2079\n",
       "sidewalk     1477\n",
       "sewer        1281\n",
       "canal        1244\n",
       "traffic      1094\n",
       "sanitary      938\n",
       "stray         310\n",
       "unsure         95\n",
       "Name: class, dtype: int64"
      ]
     },
     "execution_count": 3,
     "metadata": {},
     "output_type": "execute_result"
    }
   ],
   "source": [
    "df['class'].value_counts()"
   ]
  },
  {
   "cell_type": "code",
   "execution_count": 6,
   "id": "262c473d",
   "metadata": {},
   "outputs": [],
   "source": [
    "df.to_csv('filenames.csv', index=False)"
   ]
  },
  {
   "cell_type": "code",
   "execution_count": 5,
   "id": "77532191",
   "metadata": {},
   "outputs": [
    {
     "name": "stdout",
     "output_type": "stream",
     "text": [
      "completed\n"
     ]
    }
   ],
   "source": [
    "basePath = './TraffyFondue/train'\n",
    "folder = ['canal','electric','flooding','light','road','sanitary','sewer','sidewalk','stray','traffic']\n",
    "\n",
    "for f in folder:\n",
    "    \n",
    "    _, _, files = next(os.walk(os.path.join(basePath,f)))\n",
    "    if '.DS_Store' in files: \n",
    "        files.remove('.DS_Store')\n",
    "        \n",
    "    for file in files:\n",
    "        classes = df.loc[df['filename']==file,'class'].tolist()\n",
    "        \n",
    "        # move to temporary place\n",
    "        shutil.move(os.path.join(basePath,f,file),os.path.join('.',file))\n",
    "        \n",
    "        # move to correct folder\n",
    "        if classes:\n",
    "            for c in classes:\n",
    "                if c in folder:\n",
    "                    shutil.copy2(os.path.join('.',file),os.path.join(basePath,c,file))\n",
    "        \n",
    "        # remove from temporary place\n",
    "        os.remove(os.path.join('.',file))\n",
    "        \n",
    "print(\"completed\")"
   ]
  },
  {
   "cell_type": "code",
   "execution_count": null,
   "id": "b12836b7",
   "metadata": {},
   "outputs": [],
   "source": []
  }
 ],
 "metadata": {
  "kernelspec": {
   "display_name": "Python 3 (ipykernel)",
   "language": "python",
   "name": "python3"
  },
  "language_info": {
   "codemirror_mode": {
    "name": "ipython",
    "version": 3
   },
   "file_extension": ".py",
   "mimetype": "text/x-python",
   "name": "python",
   "nbconvert_exporter": "python",
   "pygments_lexer": "ipython3",
   "version": "3.10.11"
  }
 },
 "nbformat": 4,
 "nbformat_minor": 5
}
