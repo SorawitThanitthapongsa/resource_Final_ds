{
 "cells": [
  {
   "cell_type": "code",
   "execution_count": 1,
   "id": "0c0c643f",
   "metadata": {},
   "outputs": [],
   "source": [
    "import os\n",
    "import numpy as np\n",
    "import pandas as pd\n",
    "import shutil\n",
    "import imagehash\n",
    "from PIL import Image\n",
    "import cv2\n",
    "import sys"
   ]
  },
  {
   "cell_type": "markdown",
   "id": "2cb3ee08",
   "metadata": {},
   "source": [
    "# **Remove .DS files**"
   ]
  },
  {
   "cell_type": "code",
   "execution_count": 2,
   "id": "11e75258",
   "metadata": {},
   "outputs": [
    {
     "name": "stdout",
     "output_type": "stream",
     "text": [
      "./.DS_Store\r\n"
     ]
    }
   ],
   "source": [
    "! find . -name \".DS_Store\" -print -delete"
   ]
  },
  {
   "cell_type": "markdown",
   "id": "10ed2936",
   "metadata": {},
   "source": [
    "# **Generate files.csv (file name + their label)**"
   ]
  },
  {
   "cell_type": "code",
   "execution_count": 3,
   "id": "863aa7d1",
   "metadata": {},
   "outputs": [
    {
     "ename": "StopIteration",
     "evalue": "",
     "output_type": "error",
     "traceback": [
      "\u001b[0;31m---------------------------------------------------------------------------\u001b[0m",
      "\u001b[0;31mStopIteration\u001b[0m                             Traceback (most recent call last)",
      "Input \u001b[0;32mIn [3]\u001b[0m, in \u001b[0;36m<cell line: 3>\u001b[0;34m()\u001b[0m\n\u001b[1;32m      2\u001b[0m folder \u001b[38;5;241m=\u001b[39m [\u001b[38;5;124m'\u001b[39m\u001b[38;5;124mcanal\u001b[39m\u001b[38;5;124m'\u001b[39m,\u001b[38;5;124m'\u001b[39m\u001b[38;5;124melectric\u001b[39m\u001b[38;5;124m'\u001b[39m,\u001b[38;5;124m'\u001b[39m\u001b[38;5;124mflooding\u001b[39m\u001b[38;5;124m'\u001b[39m,\u001b[38;5;124m'\u001b[39m\u001b[38;5;124mlight\u001b[39m\u001b[38;5;124m'\u001b[39m,\u001b[38;5;124m'\u001b[39m\u001b[38;5;124mroad\u001b[39m\u001b[38;5;124m'\u001b[39m,\u001b[38;5;124m'\u001b[39m\u001b[38;5;124msanitary\u001b[39m\u001b[38;5;124m'\u001b[39m,\u001b[38;5;124m'\u001b[39m\u001b[38;5;124msewer\u001b[39m\u001b[38;5;124m'\u001b[39m,\u001b[38;5;124m'\u001b[39m\u001b[38;5;124msidewalk\u001b[39m\u001b[38;5;124m'\u001b[39m,\u001b[38;5;124m'\u001b[39m\u001b[38;5;124mstray\u001b[39m\u001b[38;5;124m'\u001b[39m,\u001b[38;5;124m'\u001b[39m\u001b[38;5;124mtraffic\u001b[39m\u001b[38;5;124m'\u001b[39m,\u001b[38;5;124m'\u001b[39m\u001b[38;5;124munused\u001b[39m\u001b[38;5;124m'\u001b[39m,\u001b[38;5;124m'\u001b[39m\u001b[38;5;124munsure\u001b[39m\u001b[38;5;124m'\u001b[39m,\u001b[38;5;124m'\u001b[39m\u001b[38;5;124mduplicate\u001b[39m\u001b[38;5;124m'\u001b[39m]\n\u001b[1;32m      3\u001b[0m \u001b[38;5;28;01mfor\u001b[39;00m l \u001b[38;5;129;01min\u001b[39;00m folder:\n\u001b[0;32m----> 4\u001b[0m     _, _, files \u001b[38;5;241m=\u001b[39m \u001b[38;5;28;43mnext\u001b[39;49m\u001b[43m(\u001b[49m\u001b[43mos\u001b[49m\u001b[38;5;241;43m.\u001b[39;49m\u001b[43mwalk\u001b[49m\u001b[43m(\u001b[49m\u001b[43mos\u001b[49m\u001b[38;5;241;43m.\u001b[39;49m\u001b[43mpath\u001b[49m\u001b[38;5;241;43m.\u001b[39;49m\u001b[43mjoin\u001b[49m\u001b[43m(\u001b[49m\u001b[38;5;124;43m'\u001b[39;49m\u001b[38;5;124;43m.\u001b[39;49m\u001b[38;5;124;43m'\u001b[39;49m\u001b[43m,\u001b[49m\u001b[43ml\u001b[49m\u001b[43m)\u001b[49m\u001b[43m)\u001b[49m\u001b[43m)\u001b[49m\n\u001b[1;32m      5\u001b[0m     \u001b[38;5;28;01mif\u001b[39;00m \u001b[38;5;124m'\u001b[39m\u001b[38;5;124m.DS_Store\u001b[39m\u001b[38;5;124m'\u001b[39m \u001b[38;5;129;01min\u001b[39;00m files: \n\u001b[1;32m      6\u001b[0m         files\u001b[38;5;241m.\u001b[39mremove(\u001b[38;5;124m'\u001b[39m\u001b[38;5;124m.DS_Store\u001b[39m\u001b[38;5;124m'\u001b[39m)\n",
      "\u001b[0;31mStopIteration\u001b[0m: "
     ]
    }
   ],
   "source": [
    "d = {}\n",
    "folder = ['canal','electric','flooding','light','road','sanitary','sewer','sidewalk','stray','traffic','unused','unsure','duplicate']\n",
    "for l in folder:\n",
    "    _, _, files = next(os.walk(os.path.join('.',l)))\n",
    "    if '.DS_Store' in files: \n",
    "        files.remove('.DS_Store')\n",
    "    for f in files:\n",
    "        d[f] = l\n",
    "        \n",
    "df = pd.DataFrame(d.items(),columns=['filename','class'])\n",
    "df.to_csv('files.csv',index=False)"
   ]
  },
  {
   "cell_type": "code",
   "execution_count": null,
   "id": "35d5bc52",
   "metadata": {},
   "outputs": [],
   "source": [
    "df.shape"
   ]
  },
  {
   "cell_type": "markdown",
   "id": "4aea0398",
   "metadata": {},
   "source": [
    "# **Rearrange original files into Poon's label**"
   ]
  },
  {
   "cell_type": "code",
   "execution_count": null,
   "id": "2699e5cb",
   "metadata": {
    "scrolled": true
   },
   "outputs": [],
   "source": [
    "# Read csv\n",
    "df = pd.read_csv('files.csv')\n",
    "df.head(3)"
   ]
  },
  {
   "cell_type": "code",
   "execution_count": null,
   "id": "6094cb54",
   "metadata": {},
   "outputs": [],
   "source": [
    "d = dict(df.values)\n",
    "\n",
    "for folder in ['canal','electric','flooding','light','road','sanitary','sewer','sidewalk','stray','traffic']:\n",
    "    \n",
    "    _, _, files = next(os.walk(os.path.join('.',folder)))\n",
    "    if '.DS_Store' in files: \n",
    "        files.remove('.DS_Store')\n",
    "        \n",
    "    for file in files:\n",
    "        if file in d:\n",
    "            \n",
    "            # create folder if not exist\n",
    "            if not os.path.exists(os.path.join('.',folder)):\n",
    "                os.makedirs(os.path.join('.',folder))\n",
    "            \n",
    "            # move file\n",
    "            old = os.path.join('.',folder,file)\n",
    "            new = os.path.join('.',d[file],file)\n",
    "            shutil.move(old,new)"
   ]
  },
  {
   "cell_type": "markdown",
   "id": "9cb2a011",
   "metadata": {},
   "source": [
    "# **Count files in each folder**"
   ]
  },
  {
   "cell_type": "code",
   "execution_count": null,
   "id": "d0aa3be2",
   "metadata": {},
   "outputs": [],
   "source": [
    "counter = {}\n",
    "folder = ['canal','electric','flooding','light','road','sanitary','sewer','sidewalk','stray','traffic','unused','unsure','duplicate']\n",
    "for l in folder:\n",
    "    _, _, files = next(os.walk(os.path.join('.',l)))\n",
    "    if '.DS_Store' in files: \n",
    "        files.remove('.DS_Store')\n",
    "    counter[l] = len(files)\n",
    "    \n",
    "print('total files =',sum(counter.values()))\n",
    "print(counter)\n"
   ]
  },
  {
   "cell_type": "code",
   "execution_count": null,
   "id": "635b2518",
   "metadata": {},
   "outputs": [],
   "source": []
  }
 ],
 "metadata": {
  "kernelspec": {
   "display_name": "Python 3 (ipykernel)",
   "language": "python",
   "name": "python3"
  },
  "language_info": {
   "codemirror_mode": {
    "name": "ipython",
    "version": 3
   },
   "file_extension": ".py",
   "mimetype": "text/x-python",
   "name": "python",
   "nbconvert_exporter": "python",
   "pygments_lexer": "ipython3",
   "version": "3.10.11"
  }
 },
 "nbformat": 4,
 "nbformat_minor": 5
}
