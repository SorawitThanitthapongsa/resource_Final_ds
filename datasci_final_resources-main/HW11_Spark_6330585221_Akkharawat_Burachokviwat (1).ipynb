{
  "cells": [
    {
      "cell_type": "markdown",
      "metadata": {
        "id": "rYQtdwu4qRLu"
      },
      "source": [
        "# Spark Preparation\n",
        "We check if we are in Google Colab.  If this is the case, install all necessary packages.\n",
        "\n",
        "To run spark in Colab, we need to first install all the dependencies in Colab environment i.e. Apache Spark 3.3.2 with hadoop 3.3, Java 8 and Findspark to locate the spark in the system. The tools installation can be carried out inside the Jupyter Notebook of the Colab.\n",
        "Learn more from [A Must-Read Guide on How to Work with PySpark on Google Colab for Data Scientists!](https://www.analyticsvidhya.com/blog/2020/11/a-must-read-guide-on-how-to-work-with-pyspark-on-google-colab-for-data-scientists/)"
      ]
    },
    {
      "cell_type": "code",
      "execution_count": 1,
      "metadata": {
        "id": "W65HctMpqRLw"
      },
      "outputs": [],
      "source": [
        "try:\n",
        "  import google.colab\n",
        "  IN_COLAB = True\n",
        "except:\n",
        "  IN_COLAB = False"
      ]
    },
    {
      "cell_type": "code",
      "execution_count": 2,
      "metadata": {
        "id": "tWWniUt0qRLx"
      },
      "outputs": [],
      "source": [
        "if IN_COLAB:\n",
        "    !apt-get install openjdk-8-jdk-headless -qq > /dev/null\n",
        "    !wget -q https://dlcdn.apache.org/spark/spark-3.3.2/spark-3.3.2-bin-hadoop3.tgz\n",
        "    !tar xf spark-3.3.2-bin-hadoop3.tgz\n",
        "    !mv spark-3.3.2-bin-hadoop3 spark\n",
        "    !pip install -q findspark\n",
        "    import os\n",
        "    os.environ[\"JAVA_HOME\"] = \"/usr/lib/jvm/java-8-openjdk-amd64\"\n",
        "    os.environ[\"SPARK_HOME\"] = \"/content/spark\""
      ]
    },
    {
      "cell_type": "markdown",
      "metadata": {
        "id": "o42mpu4PqRLx"
      },
      "source": [
        "# Start a Local Cluster"
      ]
    },
    {
      "cell_type": "code",
      "execution_count": 3,
      "metadata": {
        "id": "dJ1GwWXnqRLx"
      },
      "outputs": [],
      "source": [
        "import findspark\n",
        "findspark.init()"
      ]
    },
    {
      "cell_type": "code",
      "source": [
        "spark_url = 'local'"
      ],
      "metadata": {
        "id": "7oIEpsQ-rG-S"
      },
      "execution_count": 4,
      "outputs": []
    },
    {
      "cell_type": "code",
      "source": [
        "from pyspark.sql import SparkSession\n",
        "from pyspark.sql.functions import col"
      ],
      "metadata": {
        "id": "vYDNxT48rHPm"
      },
      "execution_count": 5,
      "outputs": []
    },
    {
      "cell_type": "code",
      "source": [
        "spark = SparkSession.builder\\\n",
        "        .master(spark_url)\\\n",
        "        .appName('Spark SQL')\\\n",
        "        .getOrCreate()"
      ],
      "metadata": {
        "id": "3ZavvAyirHR4"
      },
      "execution_count": 6,
      "outputs": []
    },
    {
      "cell_type": "markdown",
      "metadata": {
        "id": "xvDaU-KUqRLx"
      },
      "source": [
        "# Spark Assignment\n",
        "\n",
        "Based on the movie review dataset in 'netflix-rotten-tomatoes-metacritic-imdb.csv', answer the below questions.\n",
        "\n",
        "**Note:** do not clean or remove missing data"
      ]
    },
    {
      "cell_type": "code",
      "execution_count": 17,
      "metadata": {
        "id": "5GagZUkCqRLy"
      },
      "outputs": [],
      "source": [
        "path = 'netflix-rotten-tomatoes-metacritic-imdb.csv'"
      ]
    },
    {
      "cell_type": "code",
      "source": [
        "df = spark.read.option(\"header\", True).csv(path)"
      ],
      "metadata": {
        "id": "40cdBihvrfub"
      },
      "execution_count": 18,
      "outputs": []
    },
    {
      "cell_type": "code",
      "source": [
        "df.show(3)"
      ],
      "metadata": {
        "colab": {
          "base_uri": "https://localhost:8080/"
        },
        "id": "0GoSCgGnr1EM",
        "outputId": "afe3cd24-4dd7-46f1-d79f-f64132591407"
      },
      "execution_count": 19,
      "outputs": [
        {
          "output_type": "stream",
          "name": "stdout",
          "text": [
            "+-------------------+--------------------+--------------------+----------------+---------------+----------------+--------------------+------------+---------------+--------------------+--------------------+-----------+----------+---------------------+----------------+---------------+--------------------+----------+------------+--------------------+--------------------+--------------------+--------------------+--------------------+----------+--------------------+--------------------+--------------------+------------+\n",
            "|              Title|               Genre|                Tags|       Languages|Series or Movie|Hidden Gem Score|Country Availability|     Runtime|       Director|              Writer|              Actors|View Rating|IMDb Score|Rotten Tomatoes Score|Metacritic Score|Awards Received|Awards Nominated For| Boxoffice|Release Date|Netflix Release Date|    Production House|        Netflix Link|           IMDb Link|             Summary|IMDb Votes|               Image|              Poster|        TMDb Trailer|Trailer Site|\n",
            "+-------------------+--------------------+--------------------+----------------+---------------+----------------+--------------------+------------+---------------+--------------------+--------------------+-----------+----------+---------------------+----------------+---------------+--------------------+----------+------------+--------------------+--------------------+--------------------+--------------------+--------------------+----------+--------------------+--------------------+--------------------+------------+\n",
            "|   Lets Fight Ghost|Crime, Drama, Fan...|Comedy Programmes...|Swedish, Spanish|         Series|             4.3|            Thailand|< 30 minutes|Tomas Alfredson|John Ajvide Lindq...|Kåre Hedebrant, P...|          R|       7.9|                 98.0|            82.0|           74.0|                57.0|$2,122,065| 12 Dec 2008|          2021-03-04|Canal+, Sandrew M...|https://www.netfl...|https://www.imdb....|A med student wit...|  205926.0|https://occ-0-470...|https://m.media-a...|                null|        null|\n",
            "|HOW TO BUILD A GIRL|              Comedy|Dramas,Comedies,F...|         English|          Movie|             7.0|              Canada|    1-2 hour|  Coky Giedroyc|       Caitlin Moran|Paddy Considine, ...|          R|       5.8|                 79.0|            69.0|            1.0|                null|   $70,632| 08 May 2020|          2021-03-04|Film 4, Monumenta...|https://www.netfl...|https://www.imdb....|When nerdy Johann...|    2838.0|https://occ-0-108...|https://m.media-a...|https://www.youtu...|     YouTube|\n",
            "|         Centigrade|     Drama, Thriller|           Thrillers|         English|          Movie|             6.4|              Canada|    1-2 hour|  Brendan Walsh|Brendan Walsh, Da...|Genesis Rodriguez...|    Unrated|       4.3|                 null|            46.0|           null|                null|   $16,263| 28 Aug 2020|          2021-03-04|                null|https://www.netfl...|https://www.imdb....|Trapped in a froz...|    1720.0|https://occ-0-108...|https://m.media-a...|https://www.youtu...|     YouTube|\n",
            "+-------------------+--------------------+--------------------+----------------+---------------+----------------+--------------------+------------+---------------+--------------------+--------------------+-----------+----------+---------------------+----------------+---------------+--------------------+----------+------------+--------------------+--------------------+--------------------+--------------------+--------------------+----------+--------------------+--------------------+--------------------+------------+\n",
            "only showing top 3 rows\n",
            "\n"
          ]
        }
      ]
    },
    {
      "cell_type": "code",
      "source": [
        "df.columns"
      ],
      "metadata": {
        "colab": {
          "base_uri": "https://localhost:8080/"
        },
        "id": "0GMSRAgqr2-U",
        "outputId": "566763a0-2f1d-4b7c-e289-9a3a1d84123c"
      },
      "execution_count": 20,
      "outputs": [
        {
          "output_type": "execute_result",
          "data": {
            "text/plain": [
              "['Title',\n",
              " 'Genre',\n",
              " 'Tags',\n",
              " 'Languages',\n",
              " 'Series or Movie',\n",
              " 'Hidden Gem Score',\n",
              " 'Country Availability',\n",
              " 'Runtime',\n",
              " 'Director',\n",
              " 'Writer',\n",
              " 'Actors',\n",
              " 'View Rating',\n",
              " 'IMDb Score',\n",
              " 'Rotten Tomatoes Score',\n",
              " 'Metacritic Score',\n",
              " 'Awards Received',\n",
              " 'Awards Nominated For',\n",
              " 'Boxoffice',\n",
              " 'Release Date',\n",
              " 'Netflix Release Date',\n",
              " 'Production House',\n",
              " 'Netflix Link',\n",
              " 'IMDb Link',\n",
              " 'Summary',\n",
              " 'IMDb Votes',\n",
              " 'Image',\n",
              " 'Poster',\n",
              " 'TMDb Trailer',\n",
              " 'Trailer Site']"
            ]
          },
          "metadata": {},
          "execution_count": 20
        }
      ]
    },
    {
      "cell_type": "markdown",
      "metadata": {
        "id": "1vtjpyrPqRLy"
      },
      "source": [
        "## What is the maximum and average of the overall hidden gem score?"
      ]
    },
    {
      "cell_type": "code",
      "execution_count": 21,
      "metadata": {
        "id": "hl0znR50qRLy"
      },
      "outputs": [],
      "source": [
        "df = df.withColumn('Hidden Gem Score', df['Hidden Gem Score'].cast('float'))"
      ]
    },
    {
      "cell_type": "code",
      "source": [
        "from pyspark.sql.functions import avg, min, max, countDistinct\n",
        "df.select(avg('Hidden Gem Score'), max('Hidden Gem Score')).show()"
      ],
      "metadata": {
        "colab": {
          "base_uri": "https://localhost:8080/"
        },
        "id": "D-a6hxcQtIEt",
        "outputId": "64ea1f3b-8415-435b-c0c4-f2a42d4000e2"
      },
      "execution_count": 22,
      "outputs": [
        {
          "output_type": "stream",
          "name": "stdout",
          "text": [
            "+---------------------+---------------------+\n",
            "|avg(Hidden Gem Score)|max(Hidden Gem Score)|\n",
            "+---------------------+---------------------+\n",
            "|    5.937551392466598|                  9.8|\n",
            "+---------------------+---------------------+\n",
            "\n"
          ]
        }
      ]
    },
    {
      "cell_type": "markdown",
      "metadata": {
        "id": "yLtQ3F9OqRLy"
      },
      "source": [
        "## How many movies that are available in Korea?"
      ]
    },
    {
      "cell_type": "markdown",
      "source": [
        "### If Consider \"Country Availability\" column"
      ],
      "metadata": {
        "id": "UK0GGB8UNhTk"
      }
    },
    {
      "cell_type": "code",
      "source": [
        "from pyspark.sql.functions import array_contains\n",
        "from pyspark.sql.functions import split\n",
        "from pyspark.sql.functions import split, explode\n",
        "\n",
        "\n",
        "movies_df = df.withColumn(\"Countries\", split(\"Country Availability\", \",\"))\n",
        "korean_movies_df = movies_df.filter(array_contains(\"Countries\", \"South Korea\") | array_contains(\"Countries\", \"Korea\") | array_contains(\"Countries\", \"North Korea\"))\n",
        "# korean_movies_df = korean_movies_df.filter(col(\"Series or Movie\") == \"Movie\")\n",
        "korean_movie_count = korean_movies_df.distinct().count()\n",
        "print(\"Number of movies available in Korea:\", korean_movie_count)"
      ],
      "metadata": {
        "id": "NZBywuUvu2eZ",
        "colab": {
          "base_uri": "https://localhost:8080/"
        },
        "outputId": "1b7f8cdf-eb39-4531-bbcc-acf1ee3e8915"
      },
      "execution_count": 23,
      "outputs": [
        {
          "output_type": "stream",
          "name": "stdout",
          "text": [
            "Number of movies available in Korea: 4845\n"
          ]
        }
      ]
    },
    {
      "cell_type": "markdown",
      "source": [
        "### If Consider \"Language\" column"
      ],
      "metadata": {
        "id": "tP4BO119Nonl"
      }
    },
    {
      "cell_type": "code",
      "source": [
        "movies_df = df.withColumn(\"Language\", split(\"Languages\", \",\\s*\"))\n",
        "korean_movies_df = movies_df.filter(array_contains(\"Language\", \"Korean\"))\n",
        "# korean_movies_df = korean_movies_df.filter(col(\"Series or Movie\") == \"Movie\")\n",
        "korean_movie_count = korean_movies_df.distinct().count()\n",
        "print(\"Number of movies available in Korea:\", korean_movie_count)\n"
      ],
      "metadata": {
        "colab": {
          "base_uri": "https://localhost:8080/"
        },
        "id": "d8UMvFki29k7",
        "outputId": "fb647fb3-9197-4ad9-c747-f2ffbb3babce"
      },
      "execution_count": 24,
      "outputs": [
        {
          "output_type": "stream",
          "name": "stdout",
          "text": [
            "Number of movies available in Korea: 735\n"
          ]
        }
      ]
    },
    {
      "cell_type": "markdown",
      "metadata": {
        "id": "Z2RkIOvvqRLy"
      },
      "source": [
        "## Which director has the highest average hidden gem score?"
      ]
    },
    {
      "cell_type": "code",
      "execution_count": 25,
      "metadata": {
        "colab": {
          "base_uri": "https://localhost:8080/"
        },
        "id": "OvrkMCp4qRLy",
        "outputId": "c884218f-64e8-4b7f-f6f3-3ad83ce1bf9f"
      },
      "outputs": [
        {
          "output_type": "stream",
          "name": "stdout",
          "text": [
            "The director with the highest average hidden gem score is Dorin Marcu with an average score of 9.800000190734863\n"
          ]
        }
      ],
      "source": [
        "director_scores_df = df.groupBy(\"Director\").agg(avg(\"Hidden Gem Score\").alias(\"Avg Hidden Gem Score\"))\n",
        "sorted_director_scores_df = director_scores_df.sort(col(\"Avg Hidden Gem Score\").desc()).first()\n",
        "top_director = sorted_director_scores_df[\"Director\"]\n",
        "top_score = sorted_director_scores_df[\"Avg Hidden Gem Score\"]\n",
        "print(\"The director with the highest average hidden gem score is\", top_director, \"with an average score of\", top_score)\n"
      ]
    },
    {
      "cell_type": "code",
      "source": [
        "dir_df = df.withColumn(\"Director\", split(df[\"Director\"], \",\\s*\"))\n",
        "dir_df = dir_df.select(explode(dir_df[\"Director\"]).alias(\"Director\"), dir_df[\"Hidden Gem Score\"])\n",
        "director_scores = dir_df.groupBy(\"Director\").agg({\"Hidden Gem Score\": \"avg\"})\n",
        "top_director = director_scores.orderBy(director_scores[\"avg(Hidden Gem Score)\"].desc()).first()\n",
        "print(f\"The director with the highest average Hidden Gem Score is {top_director['Director']} with an average score of {top_director['avg(Hidden Gem Score)']}\")"
      ],
      "metadata": {
        "id": "WPTO5ltOhHTV",
        "colab": {
          "base_uri": "https://localhost:8080/"
        },
        "outputId": "90b00693-75a1-4c4f-a758-2a0a40ad0173"
      },
      "execution_count": 26,
      "outputs": [
        {
          "output_type": "stream",
          "name": "stdout",
          "text": [
            "The director with the highest average Hidden Gem Score is Dorin Marcu with an average score of 9.800000190734863\n"
          ]
        }
      ]
    },
    {
      "cell_type": "markdown",
      "metadata": {
        "id": "fPs2g9oYqRLy"
      },
      "source": [
        "## How many genres are there in the dataset?"
      ]
    },
    {
      "cell_type": "code",
      "execution_count": 27,
      "metadata": {
        "colab": {
          "base_uri": "https://localhost:8080/"
        },
        "id": "CrCvPghcqRLy",
        "outputId": "7ba57d1c-de85-400f-864e-56962ad41d04"
      },
      "outputs": [
        {
          "output_type": "stream",
          "name": "stdout",
          "text": [
            "There are 29 genres in the dataset.\n"
          ]
        }
      ],
      "source": [
        "df = df.fillna({\"Genre\": \"null\"})\n",
        "genres_df = df.select(split(col(\"Genre\"), \",\\s*\").alias(\"Genres_array\"))\n",
        "exploded_genres_df = genres_df.select(explode(col(\"Genres_array\")).alias(\"Genres\"))\n",
        "num_genres = exploded_genres_df.select(\"Genres\").distinct().count()\n",
        "print(\"There are\", num_genres, \"genres in the dataset.\")"
      ]
    }
  ],
  "metadata": {
    "kernelspec": {
      "display_name": "Python 3 (ipykernel)",
      "language": "python",
      "name": "python3"
    },
    "language_info": {
      "codemirror_mode": {
        "name": "ipython",
        "version": 3
      },
      "file_extension": ".py",
      "mimetype": "text/x-python",
      "name": "python",
      "nbconvert_exporter": "python",
      "pygments_lexer": "ipython3",
      "version": "3.9.13"
    },
    "toc": {
      "base_numbering": 1,
      "nav_menu": {},
      "number_sections": true,
      "sideBar": true,
      "skip_h1_title": false,
      "title_cell": "Table of Contents",
      "title_sidebar": "Contents",
      "toc_cell": false,
      "toc_position": {},
      "toc_section_display": true,
      "toc_window_display": false
    },
    "varInspector": {
      "cols": {
        "lenName": 16,
        "lenType": 16,
        "lenVar": 40
      },
      "kernels_config": {
        "python": {
          "delete_cmd_postfix": "",
          "delete_cmd_prefix": "del ",
          "library": "var_list.py",
          "varRefreshCmd": "print(var_dic_list())"
        },
        "r": {
          "delete_cmd_postfix": ") ",
          "delete_cmd_prefix": "rm(",
          "library": "var_list.r",
          "varRefreshCmd": "cat(var_dic_list()) "
        }
      },
      "types_to_exclude": [
        "module",
        "function",
        "builtin_function_or_method",
        "instance",
        "_Feature"
      ],
      "window_display": false
    },
    "colab": {
      "provenance": [],
      "toc_visible": true
    }
  },
  "nbformat": 4,
  "nbformat_minor": 0
}