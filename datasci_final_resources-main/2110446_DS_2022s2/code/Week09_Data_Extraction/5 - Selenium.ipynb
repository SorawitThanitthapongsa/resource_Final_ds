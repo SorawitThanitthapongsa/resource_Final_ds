{
 "cells": [
  {
   "cell_type": "markdown",
   "metadata": {},
   "source": [
    "# Data Extraction with Selenium\n",
    "In this tutorial, we discuss how to use Selenium to extract data from the web.  Please see https://selenium-python.readthedocs.io for more details."
   ]
  },
  {
   "cell_type": "markdown",
   "metadata": {},
   "source": [
    "## Installation\n",
    "Before using selenium, we will have to install a webdriver of your choice.  It can be Chrome or Firefox.  Once installed, you will need to know the location of the drive as it will be used as a parameter to start a browser.  To install the driver, just install python helper package chromedriver_autoinstaller. \n",
    "\n",
    "        pip install chromedriver_autoinstaller\n",
    "\n",
    "We also have to install selenium package.\n",
    "\n",
    "        pip install selenium"
   ]
  },
  {
   "cell_type": "code",
   "execution_count": 1,
   "metadata": {},
   "outputs": [],
   "source": [
    "from selenium import webdriver\n",
    "import chromedriver_autoinstaller\n",
    "import time\n",
    "import os"
   ]
  },
  {
   "cell_type": "code",
   "execution_count": 2,
   "metadata": {},
   "outputs": [
    {
     "data": {
      "text/plain": [
       "'/Users/natawut/opt/anaconda3/lib/python3.9/site-packages/chromedriver_autoinstaller/111/chromedriver'"
      ]
     },
     "execution_count": 2,
     "metadata": {},
     "output_type": "execute_result"
    }
   ],
   "source": [
    "chromedriver_autoinstaller.install()"
   ]
  },
  {
   "cell_type": "code",
   "execution_count": 3,
   "metadata": {},
   "outputs": [],
   "source": [
    "browser = webdriver.Chrome()"
   ]
  },
  {
   "cell_type": "markdown",
   "metadata": {},
   "source": [
    "## Browsing a webpage\n",
    "Once the browser starts, we can tell it to visit a webpage."
   ]
  },
  {
   "cell_type": "code",
   "execution_count": 4,
   "metadata": {},
   "outputs": [],
   "source": [
    "url = 'https://www.google.com'"
   ]
  },
  {
   "cell_type": "code",
   "execution_count": 5,
   "metadata": {},
   "outputs": [],
   "source": [
    "browser.get(url=url)"
   ]
  },
  {
   "cell_type": "code",
   "execution_count": 6,
   "metadata": {},
   "outputs": [
    {
     "data": {
      "text/plain": [
       "'<html itemscope=\"\" itemtype=\"http://schema.org/WebPage\" lang=\"th\"><head><meta charset=\"UTF-8\"><meta content=\"origin\" name=\"referrer\"><meta content=\"/images/branding/googleg/1x/googleg_standard_color_128dp.png\" itemprop=\"image\"><link href=\"/manifest?pwa=webhp\" crossorigin=\"use-credentials\" rel=\"manifest\"><title>Google</title><script src=\"https://apis.google.com/_/scs/abc-static/_/js/k=gapi.gapi.en.yHsE3XoyXLE.O/m=gapi_iframes,googleapis_client/rt=j/sv=1/d=1/ed=1/rs=AHpOoo8LDClD0V3IE-5SJcudVO91TD73Qw/cb=gapi.loaded_0\" nonce=\"PMhYP3QI6o3DzuYtOq65RQ\" async=\"\"></script><script nonce=\"PMhYP3QI6o3DzuYtOq65RQ\">(function(){window.google={kEI:\\'yN0NZOKOJNXY-QaguJqwCQ\\',kEXPI:\\'31\\',kBL:\\'4YFS\\'};google.sn=\\'webhp\\';google.kHL=\\'th\\';})();(function(){\\nvar f=this||self;var h,k=[];function l(a){for(var b;a&&(!a.getAttribute||!(b=a.getAttribute(\"eid\")));)a=a.parentNode;return b||h}function m(a){for(var b=null;a&&(!a.getAttribute||!(b=a.getAttribute(\"leid\")));)a=a.parentNode;return b}\\nfunction n(a,b,c,d,g){var e=\"\";c||-1!==b.search(\"&ei=\")||(e=\"&ei=\"+l(d),-1===b.search(\"&lei=\")&&(d=m(d))&&(e+=\"&lei=\"+d));d=\"\";!c&&f._cshid&&-1===b.search(\"&cshid=\")&&\"slh\"!==a&&(d=\"&cshid=\"+f._cshid);c=c||\"/\"+(g||\"gen_204\")+\"?atyp=i&ct=\"+a+\"&cad=\"+b+e+\"&zx=\"+Date.now()+d;/^http:/i.test(c)&&\"https:\"===window.location.protocol&&(google.ml&&google.ml(Error(\"a\"),!1,{src:c,glmm:1}),c=\"\");return c};h=google.kEI;google.getEI=l;google.getLEI=m;google.ml=function(){return null};google.log=function(a,b,c,d,g){if(c=n(a,b,c,d,g)){a=new Image;var e=k.length;k[e]=a;a.onerror=a.onload=a.onabort=function(){delete k[e]};a.src=c}};google.logUrl=n;}).call(this);(function(){google.y={};google.sy=[];google.x=function(a,b){if(a)var c=a.id;else{do c=Math.random();while(google.y[c])}google.y[c]=[a,b];return!1};google.sx=function(a){google.sy.push(a)};google.lm=[];google.plm=function(a){google.lm.push.apply(google.lm,a)};google.lq=[];google.load=function(a,b,c){google.lq.push([[a],b,c])};google.loadAll=function(a,b){google.lq.push([a,b])};google.bx=!1;google.lx=function(){};}).call(this);google.f={};(function(){\\ndocument.documentElement.addEventListener(\"submit\",function(b){var a;if(a=b.target){var c=a.getAttribute(\"data-submitfalse\");a=\"1\"===c||\"q\"===c&&!a.elements.q.value?!0:!1}else a=!1;a&&(b.preventDefault(),b.stopPropagation())},!0);document.documentElement.addEventListener(\"click\",function(b){var a;a:{for(a=b.target;a&&a!==document.documentElement;a=a.parentElement)if(\"A\"===a.tagName){a=\"1\"===a.getAttribute(\"data-nohref\");break a}a=!1}a&&b.preventDefault()},!0);}).call(this);(function(){google.hs={h:true,nhs:false,sie:false};})();(function(){google.c={bfrt:false,btfi:false,c4t:true,cap:2000,frt:false,gl:true,lhc:false,llt:false,lrt:false,raf:false,sxs:false,taf:false,taff:true,timl:false,wh0:false,whu:false};})();(function(){\\nvar f=this||self;var g=window.performance;function h(a,b,d,c){a.addEventListener?a.addEventListener(b,d,c||!1):a.attachEvent&&a.attachEvent(\"on\"+b,d)}function k(a,b,d,c){\"addEventListen'"
      ]
     },
     "execution_count": 6,
     "metadata": {},
     "output_type": "execute_result"
    }
   ],
   "source": [
    "html = browser.execute_script(\"return document.documentElement.outerHTML\")\n",
    "html[:3000]"
   ]
  },
  {
   "cell_type": "markdown",
   "metadata": {},
   "source": [
    "## Interact with a webpage\n",
    "When the page is loaded, we can interact with all elements in the webpage.  In this example, we will perform a search for a particular keyword in Google.  We will have to locate the correct element and then send the proper keys."
   ]
  },
  {
   "cell_type": "code",
   "execution_count": 7,
   "metadata": {},
   "outputs": [],
   "source": [
    "from selenium.webdriver.common.by import By"
   ]
  },
  {
   "cell_type": "code",
   "execution_count": 8,
   "metadata": {},
   "outputs": [],
   "source": [
    "q_element = browser.find_element(By.CSS_SELECTOR, '[name=q]')"
   ]
  },
  {
   "cell_type": "code",
   "execution_count": 9,
   "metadata": {},
   "outputs": [],
   "source": [
    "q_element.clear()\n",
    "q_element.send_keys('ประเทศไทย')\n",
    "q_element.send_keys(u'\\ue007')"
   ]
  },
  {
   "cell_type": "markdown",
   "metadata": {},
   "source": [
    "## Navigate the webpage\n",
    "We can navigate the current webpage, similar to Beautiful Soup.  Selenium supports several navigation approaches."
   ]
  },
  {
   "cell_type": "code",
   "execution_count": 10,
   "metadata": {},
   "outputs": [],
   "source": [
    "all_link = browser.find_elements(By.CSS_SELECTOR, '.g a')"
   ]
  },
  {
   "cell_type": "code",
   "execution_count": 11,
   "metadata": {},
   "outputs": [
    {
     "name": "stdout",
     "output_type": "stream",
     "text": [
      "[link text] ประเทศไทย - วิกิพีเดีย\n",
      "wikipedia.org\n",
      "https://th.wikipedia.org › wiki › ประเทศไทย\n",
      "[link href] https://th.wikipedia.org/wiki/%E0%B8%9B%E0%B8%A3%E0%B8%B0%E0%B9%80%E0%B8%97%E0%B8%A8%E0%B9%84%E0%B8%97%E0%B8%A2\n",
      "---\n",
      "[link text] \n",
      "[link href] https://www.google.com/search?q=related:https://th.wikipedia.org/wiki/%25E0%25B8%259B%25E0%25B8%25A3%25E0%25B8%25B0%25E0%25B9%2580%25E0%25B8%2597%25E0%25B8%25A8%25E0%25B9%2584%25E0%25B8%2597%25E0%25B8%25A2+%E0%B8%9B%E0%B8%A3%E0%B8%B0%E0%B9%80%E0%B8%97%E0%B8%A8%E0%B9%84%E0%B8%97%E0%B8%A2&sa=X&ved=2ahUKEwj-1NK0ydb9AhWdV2wGHauXCoIQH3oECBEQDQ\n",
      "---\n",
      "[link text] \n",
      "[link href] https://th.wikipedia.org/wiki/%E0%B8%9B%E0%B8%A3%E0%B8%B0%E0%B9%80%E0%B8%97%E0%B8%A8%E0%B9%84%E0%B8%97%E0%B8%A2\n",
      "---\n",
      "[link text] ประชาธิปไตยอันมีพระมหากษัตริย์ทรงเ...\n",
      "[link href] http://th.wikipedia.org/wiki/%E0%B8%9B%E0%B8%A3%E0%B8%B0%E0%B8%8A%E0%B8%B2%E0%B8%98%E0%B8%B4%E0%B8%9B%E0%B9%84%E0%B8%95%E0%B8%A2%E0%B8%AD%E0%B8%B1%E0%B8%99%E0%B8%A1%E0%B8%B5%E0%B8%9E%E0%B8%A3%E0%B8%B0%E0%B8%A1%E0%B8%AB%E0%B8%B2%E0%B8%81%E0%B8%A9%E0%B8%B1%E0%B8%95%E0%B8%A3%E0%B8%B4%E0%B8%A2%E0%B9%8C%E0%B8%97%E0%B8%A3%E0%B8%87%E0%B9%80%E0%B8%9B%E0%B9%87%E0%B8%99%E0%B8%9B%E0%B8%A3%E0%B8%B0%E0%B8%A1%E0%B8%B8%E0%B8%82\n",
      "---\n",
      "[link text] กรุงเทพมหานคร\n",
      "[link href] http://th.wikipedia.org/wiki/%E0%B8%81%E0%B8%A3%E0%B8%B8%E0%B8%87%E0%B9%80%E0%B8%97%E0%B8%9E%E0%B8%A1%E0%B8%AB%E0%B8%B2%E0%B8%99%E0%B8%84%E0%B8%A3\n",
      "---\n",
      "[link text] จำนวน ประชากร\n",
      "[link href] https://th.wikipedia.org/wiki/%E0%B8%A3%E0%B8%B2%E0%B8%A2%E0%B8%8A%E0%B8%B7%E0%B9%88%E0%B8%AD%E0%B8%9B%E0%B8%A3%E0%B8%B0%E0%B9%80%E0%B8%97%E0%B8%A8%E0%B9%80%E0%B8%A3%E0%B8%B5%E0%B8%A2%E0%B8%87%E0%B8%95%E0%B8%B2%E0%B8%A1%E0%B8%88%E0%B8%B3%E0%B8%99%E0%B8%A7%E0%B8%99%E0%B8%9B%E0%B8%A3%E0%B8%B0%E0%B8%8A%E0%B8%B2%E0%B8%81%E0%B8%A3\n",
      "---\n",
      "[link text] สยาม\n",
      "[link href] https://th.wikipedia.org/wiki/%E0%B8%AA%E0%B8%A2%E0%B8%B2%E0%B8%A1\n",
      "---\n",
      "[link text] ประชาธิปไตยอันมีพระมหากษัตริย์...\n",
      "[link href] https://th.wikipedia.org/wiki/%E0%B8%9B%E0%B8%A3%E0%B8%B0%E0%B8%8A%E0%B8%B2%E0%B8%98%E0%B8%B4%E0%B8%9B%E0%B9%84%E0%B8%95%E0%B8%A2%E0%B8%AD%E0%B8%B1%E0%B8%99%E0%B8%A1%E0%B8%B5%E0%B8%9E%E0%B8%A3%E0%B8%B0%E0%B8%A1%E0%B8%AB%E0%B8%B2%E0%B8%81%E0%B8%A9%E0%B8%B1%E0%B8%95%E0%B8%A3%E0%B8%B4%E0%B8%A2%E0%B9%8C%E0%B8%97%E0%B8%A3%E0%B8%87%E0%B9%80%E0%B8%9B%E0%B9%87%E0%B8%99%E0%B8%9B%E0%B8%A3%E0%B8%B0%E0%B8%A1%E0%B8%B8%E0%B8%82\n",
      "---\n",
      "[link text] ศาสนาพุทธในประเทศไทย\n",
      "[link href] https://th.wikipedia.org/wiki/%E0%B8%A8%E0%B8%B2%E0%B8%AA%E0%B8%99%E0%B8%B2%E0%B8%9E%E0%B8%B8%E0%B8%97%E0%B8%98%E0%B9%83%E0%B8%99%E0%B8%9B%E0%B8%A3%E0%B8%B0%E0%B9%80%E0%B8%97%E0%B8%A8%E0%B9%84%E0%B8%97%E0%B8%A2\n",
      "---\n",
      "[link text] ประเทศไทย (Thailand)\n",
      "mcu.ac.th\n",
      "http://www.nan.mcu.ac.th › index.php › aec-group › t...\n",
      "[link href] http://www.nan.mcu.ac.th/aec/index.php/aec-group/thailand\n",
      "---\n",
      "[link text] \n",
      "[link href] http://webcache.googleusercontent.com/search?q=cache:dIVMJlrQMMYJ:www.nan.mcu.ac.th/aec/index.php/aec-group/thailand&cd=2&hl=th&ct=clnk&gl=th\n",
      "---\n",
      "[link text] เกี่ยวกับประเทศไทย - WHA Industrial Development\n",
      "wha-industrialestate.com\n",
      "https://www.wha-industrialestate.com › about-thailand\n",
      "[link href] https://www.wha-industrialestate.com/th/why-thailand/about-thailand\n",
      "---\n",
      "[link text] \n",
      "[link href] https://webcache.googleusercontent.com/search?q=cache:OjCHFqLdY0gJ:https://www.wha-industrialestate.com/th/why-thailand/about-thailand&cd=13&hl=th&ct=clnk&gl=th\n",
      "---\n",
      "[link text] \n",
      "[link href] https://www.wha-industrialestate.com/th/why-thailand/about-thailand\n",
      "---\n",
      "[link text] ประเทศไทย - World Bank\n",
      "worldbank.org\n",
      "https://www.worldbank.org › country › thailand\n",
      "[link href] https://www.worldbank.org/th/country/thailand\n",
      "---\n",
      "[link text] \n",
      "[link href] https://webcache.googleusercontent.com/search?q=cache:cTL7_YUt9UgJ:https://www.worldbank.org/th/country/thailand&cd=17&hl=th&ct=clnk&gl=th\n",
      "---\n",
      "[link text] \n",
      "[link href] https://www.worldbank.org/th/country/thailand\n",
      "---\n",
      "[link text] เกี่ยวกับประเทศไทย | Royal Thai Consulate-General, ...\n",
      "thaiconsulatevancouver.ca\n",
      "http://www.thaiconsulatevancouver.ca › about-thailand\n",
      "[link href] http://www.thaiconsulatevancouver.ca/th/about-thailand/\n",
      "---\n",
      "[link text] \n",
      "[link href] http://webcache.googleusercontent.com/search?q=cache:xciUvhgUyXoJ:www.thaiconsulatevancouver.ca/th/about-thailand/&cd=18&hl=th&ct=clnk&gl=th\n",
      "---\n",
      "[link text] \n",
      "[link href] https://www.google.com/search?q=related:www.thaiconsulatevancouver.ca/th/about-thailand/+%E0%B8%9B%E0%B8%A3%E0%B8%B0%E0%B9%80%E0%B8%97%E0%B8%A8%E0%B9%84%E0%B8%97%E0%B8%A2&sa=X&ved=2ahUKEwj-1NK0ydb9AhWdV2wGHauXCoIQH3oECD4QDg\n",
      "---\n",
      "[link text] \n",
      "[link href] http://www.thaiconsulatevancouver.ca/th/about-thailand/\n",
      "---\n",
      "[link text] ประเทศไทย - BBC News ไทย\n",
      "bbc.com\n",
      "https://www.bbc.com › thai › topics\n",
      "[link href] https://www.bbc.com/thai/topics/cjgn73g98rqt\n",
      "---\n",
      "[link text] \n",
      "[link href] https://webcache.googleusercontent.com/search?q=cache:_9TY9EJxdwoJ:https://www.bbc.com/thai/topics/cjgn73g98rqt&cd=19&hl=th&ct=clnk&gl=th\n",
      "---\n",
      "[link text] การท่องเที่ยวแห่งประเทศไทย\n",
      "tat.or.th\n",
      "https://www.tat.or.th\n",
      "[link href] https://www.tat.or.th/\n",
      "---\n",
      "[link text] \n",
      "[link href] https://webcache.googleusercontent.com/search?q=cache:d3EPcfjSfx4J:https://www.tat.or.th/&cd=20&hl=th&ct=clnk&gl=th\n",
      "---\n",
      "[link text] \n",
      "[link href] https://www.tat.or.th/\n",
      "---\n",
      "[link text] หน้าหลัก - ตลาดหลักทรัพย์แห่งประเทศไทย\n",
      "set.or.th\n",
      "https://www.set.or.th\n",
      "[link href] https://www.set.or.th/\n",
      "---\n",
      "[link text] \n",
      "[link href] https://webcache.googleusercontent.com/search?q=cache:Y7DVvVdG8H4J:https://www.set.or.th/&cd=21&hl=th&ct=clnk&gl=th\n",
      "---\n",
      "[link text] \n",
      "[link href] https://www.set.or.th/\n",
      "---\n",
      "[link text] \n",
      "[link href] https://www.google.com/search?q=%E0%B8%9B%E0%B8%A3%E0%B8%B0%E0%B9%80%E0%B8%97%E0%B8%A8%E0%B9%84%E0%B8%97%E0%B8%A2&tbm=isch&source=iu&ictx=1&vet=1&fir=wsMATkm7N_G9xM%252CJoqziBrh9Jl6eM%252C%252Fm%252F07f1x&usg=AI4_-kQwhfMmeM3ajHSc4mCd3Y28-M9m9A&sa=X&ved=2ahUKEwj-1NK0ydb9AhWdV2wGHauXCoIQ_B16BAhmEAE#imgrc=wsMATkm7N_G9xM\n",
      "---\n",
      "[link text] \n",
      "[link href] https://www.google.com/search?q=%E0%B8%9B%E0%B8%A3%E0%B8%B0%E0%B9%80%E0%B8%97%E0%B8%A8%E0%B9%84%E0%B8%97%E0%B8%A2&source=hp&ei=yN0NZOKOJNXY-QaguJqwCQ&iflsig=AK50M_UAAAAAZA3r2I8U-1QWL2Pru6jffwFqLmfxR5uR&ved=0ahUKEwjikpirydb9AhVVbN4KHSCcBpYQ4dUDCAg&uact=5&oq=%E0%B8%9B%E0%B8%A3%E0%B8%B0%E0%B9%80%E0%B8%97%E0%B8%A8%E0%B9%84%E0%B8%97%E0%B8%A2&gs_lcp=Cgdnd3Mtd2l6EAMyBQguEIAEMggIABCABBCxAzIICAAQgAQQsQMyCAgAEIAEELEDMggIABCABBCxAzIFCAAQgAQyBQgAEIAEMgUIABCABDIFCAAQgAQyBQgAEIAEOggILhCABBCxAzoLCC4QgAQQsQMQ1AI6CwguEIAEELEDEIMBUABY7gFg2wdoAHAAeACAAZEDiAG8CpIBCTAuMS4wLjEuMpgBAKABAQ&sclient=gws-wiz#\n",
      "---\n",
      "[link text] วิกิพีเดีย\n",
      "[link href] https://th.wikipedia.org/wiki/%E0%B8%9B%E0%B8%A3%E0%B8%B0%E0%B9%80%E0%B8%97%E0%B8%A8%E0%B9%84%E0%B8%97%E0%B8%A2\n",
      "---\n",
      "[link text] เมืองหลวง\n",
      "[link href] https://www.google.com/search?q=%E0%B8%9B%E0%B8%A3%E0%B8%B0%E0%B9%80%E0%B8%97%E0%B8%A8%E0%B9%84%E0%B8%97%E0%B8%A2+%E0%B9%80%E0%B8%A1%E0%B8%B7%E0%B8%AD%E0%B8%87%E0%B8%AB%E0%B8%A5%E0%B8%A7%E0%B8%87&stick=H4sIAAAAAAAAAOPgE-LQz9U3ME8zrNCSyU620s_JT04syczP00_OL80rKaq0Sk4syCxJzFnEav5gx-wHOxY_2LHhwc6GBzumP9ix4sHOFjBjkQJYaOGDHdsf7Fj7YEf7gx2rH-xY-mDHciAbAJ94hLtkAAAA&sa=X&ved=2ahUKEwj-1NK0ydb9AhWdV2wGHauXCoIQ6BMoAHoECGcQAg\n",
      "---\n",
      "[link text] กรุงเทพมหานคร\n",
      "[link href] https://www.google.com/search?q=%E0%B8%81%E0%B8%A3%E0%B8%B8%E0%B8%87%E0%B9%80%E0%B8%97%E0%B8%9E%E0%B8%A1%E0%B8%AB%E0%B8%B2%E0%B8%99%E0%B8%84%E0%B8%A3&si=AEcPFx6l3RvH8SFlhHZyn7jIc6m2bU9vmoFvFAMQv2WWSYjXN7sX95IefCAs2cy1lXWFFQVt8hqJUB7OD8STZn-jx47xvX-tgMKX0YyaHDA1NWTRMzTgWdsaUivsDm7Q5y4jC_Yw5tF7yJPEwYRhUkNve6jNPNGwekGuFJIXynS76SfquzNxRGvX3_MBDrheD-O_KfN3HcBg49EkL10u6TNaKZqnZlRosdGjjNfeeKcPGfsluQi7n6s%3D&sa=X&ved=2ahUKEwj-1NK0ydb9AhWdV2wGHauXCoIQmxMoAXoECGcQAw\n",
      "---\n",
      "[link text] พื้นที่\n",
      "[link href] https://www.google.com/search?q=%E0%B8%9B%E0%B8%A3%E0%B8%B0%E0%B9%80%E0%B8%97%E0%B8%A8%E0%B9%84%E0%B8%97%E0%B8%A2+%E0%B8%9E%E0%B8%B7%E0%B9%89%E0%B8%99%E0%B8%97%E0%B8%B5%E0%B9%88&stick=H4sIAAAAAAAAAOPgE-LQz9U3ME8zrNCSyk620s_JT04syczPgzOsEotSExexGj7YMfvBjsUPdmx4sLPhwY7pD3aseLCzBcxYpPBgx7wHO7Y_2Nn5YMdMsNDWBzs7ANPZJelcAAAA&sa=X&ved=2ahUKEwj-1NK0ydb9AhWdV2wGHauXCoIQ6BMoAHoECGMQAg\n",
      "---\n",
      "[link text] นายกรัฐมนตรี\n",
      "[link href] https://www.google.com/search?q=%E0%B8%9B%E0%B8%A3%E0%B8%B0%E0%B9%80%E0%B8%97%E0%B8%A8%E0%B9%84%E0%B8%97%E0%B8%A2+%E0%B8%99%E0%B8%B2%E0%B8%A2%E0%B8%81%E0%B8%A3%E0%B8%B1%E0%B8%90%E0%B8%A1%E0%B8%99%E0%B8%95%E0%B8%A3%E0%B8%B5&stick=H4sIAAAAAAAAAOPgE-LQz9U3ME8zrNAyz0620k_PL0stystNzStBYibmxGeVFmUWp2Qml2Tm51kVFGXmpirkZuZlFpekFi1idXiwY_aDHYsf7NjwYGfDgx3TH-xY8WBnC5ixSOHBjpkPdmwCsh7saAQr2vhgx4QHOxaCxaeCRbYCABoJwXSIAAAA&sa=X&ved=2ahUKEwj-1NK0ydb9AhWdV2wGHauXCoIQ6BMoAHoECFwQAg\n",
      "---\n",
      "[link text] ประยุทธ์ จันทร์โอชา\n",
      "[link href] https://www.google.com/search?q=%E0%B8%9B%E0%B8%A3%E0%B8%B0%E0%B8%A2%E0%B8%B8%E0%B8%97%E0%B8%98%E0%B9%8C+%E0%B8%88%E0%B8%B1%E0%B8%99%E0%B8%97%E0%B8%A3%E0%B9%8C%E0%B9%82%E0%B8%AD%E0%B8%8A%E0%B8%B2&si=AEcPFx7HnMxbNS2egwqbd2fGseeWkZi3ZCVlQ3vY-NLoLE7SWTnMx5s6KtMV3EYyr4Gk6LgkmpVCaLopTDLGb2Zy79cj37sxub1s9zkhcbz-9tBq7P453ILWci4GO1h6e4SbYL2-PJIdDjpihZH9tffjZXddwTDtEpSGia72_k54W3ymEhi2_QZuGJrQY1Qnq_mH7GTdnxjmt1fgv2swUe8VfCh6Bj-Fam-28TEDWYWln0m3iGwOo7z6zJZ2xbiFqlw0sgaWdno1&sa=X&ved=2ahUKEwj-1NK0ydb9AhWdV2wGHauXCoIQmxMoAXoECFwQAw\n",
      "---\n",
      "[link text] ประชากร\n",
      "[link href] https://www.google.com/search?q=%E0%B8%9B%E0%B8%A3%E0%B8%B0%E0%B9%80%E0%B8%97%E0%B8%A8%E0%B9%84%E0%B8%97%E0%B8%A2+%E0%B8%9B%E0%B8%A3%E0%B8%B0%E0%B8%8A%E0%B8%B2%E0%B8%81%E0%B8%A3&stick=H4sIAAAAAAAAAOPgE-LQz9U3ME8zrNAyS0m20s9JTU9MroxPTixKscrJT04syczPiy8uAdLFJZnJiTnxRanpIKGC_ILSHLDsIlbDBztmP9ix-MGODQ92NjzYMf3BjhUPdraAGYsUEHI7uh7s2PRgRyOQCwB2Qx3NeAAAAA&sa=X&ved=2ahUKEwj-1NK0ydb9AhWdV2wGHauXCoIQ6BMoAHoECFsQAg\n",
      "---\n"
     ]
    },
    {
     "name": "stdout",
     "output_type": "stream",
     "text": [
      "[link text] ธนาคารโลก\n",
      "[link href] http://datatopics.worldbank.org/world-development-indicators\n",
      "---\n",
      "[link text] สกุลเงิน\n",
      "[link href] https://www.google.com/search?q=%E0%B8%9B%E0%B8%A3%E0%B8%B0%E0%B9%80%E0%B8%97%E0%B8%A8%E0%B9%84%E0%B8%97%E0%B8%A2+%E0%B8%AA%E0%B8%81%E0%B8%B8%E0%B8%A5%E0%B9%80%E0%B8%87%E0%B8%B4%E0%B8%99&stick=H4sIAAAAAAAAAOPgE-LQz9U3ME8zrNCSzU620s_JT04syczP00_OL80rKaq0Si4tKkrNS65cxGryYMfsBzsWP9ix4cHOhgc7pj_YseLBzhYwY5HCgx2rHuxofLBjx4MdS8HS7Q92bHmwYyYA1dQM3mIAAAA&sa=X&ved=2ahUKEwj-1NK0ydb9AhWdV2wGHauXCoIQ6BMoAHoECF8QAg\n",
      "---\n",
      "[link text] บาท\n",
      "[link href] https://www.google.com/search?q=&si=AEcPFx6l3RvH8SFlhHZyn7jIc6m2bU9vmoFvFAMQv2WWSYjXN5QZDDEnuaKd__gEE1a0wKEQk7pg3LK-3n0E0EDKWtdJPyBWPpI4_LME_0R7k_pF_9lRmf_15RH53Bq2P8S7wX5sVA7mvmSghfDNcUITXzO61DI2acRUfWfxe57g2K1zY3eKD7I%3D&sa=X&ved=2ahUKEwj-1NK0ydb9AhWdV2wGHauXCoIQmxMoAXoECF8QAw\n",
      "---\n",
      "[link text] ทวีป\n",
      "[link href] https://www.google.com/search?q=%E0%B8%9B%E0%B8%A3%E0%B8%B0%E0%B9%80%E0%B8%97%E0%B8%A8%E0%B9%84%E0%B8%97%E0%B8%A2+%E0%B8%97%E0%B8%A7%E0%B8%B5%E0%B8%9B&stick=H4sIAAAAAAAAAOPgE-LQz9U3ME8zrNCSy0620s_JT04syczP00_OL80rKaq0Ss7PK8nMS80rWcSq8WDH7Ac7Fj_YseHBzoYHO6Y_2LHiwc4WMGORApha_mDHVqAiAIGiK2tXAAAA&sa=X&ved=2ahUKEwj-1NK0ydb9AhWdV2wGHauXCoIQ6BMoAHoECF0QAg\n",
      "---\n",
      "[link text] ทวีปเอเชีย\n",
      "[link href] https://www.google.com/search?q=%E0%B8%97%E0%B8%A7%E0%B8%B5%E0%B8%9B%E0%B9%80%E0%B8%AD%E0%B9%80%E0%B8%8A%E0%B8%B5%E0%B8%A2&si=AEcPFx7vX9d0csuZ34IzPRSXb-Am7ArFzT07KJPtO1vMthDIwrv39lDP7HY2IFJKZR6l1neKoAwsWpg6-P_W6Ro2kVsypbPSsKYObW7U4N_YNJ0P5OxjO6ThgA6WTtnaMlhEeyi_It0NLKuDGAmb9yVDIQILfokFXZ1joXkQ52Mwy3P4u0n30U9VVAwk3rpzsobiWldJpYM_pzU5hGADaIJpGMTjG_1W8w%3D%3D&sa=X&ved=2ahUKEwj-1NK0ydb9AhWdV2wGHauXCoIQmxMoAXoECF0QAw\n",
      "---\n",
      "[link text] จุดหมาย\n",
      "[link href] https://www.google.com/search?q=&si=AEcPFx7tmljk6qubkos3ZaFevzk-nWvUqQA7JfEqSwguLRSPtEZzotCnTUEGmsWsUjfINoIhGpq6zQYeDXElIxbd02xgnnSHzDCzJp57Em8808nW1QNsVeo%3D&sa=X&ved=2ahUKEwj-1NK0ydb9AhWdV2wGHauXCoIQns4BKAB6BAhhEAE\n",
      "---\n",
      "[link text] ดูอีกกว่า 15 รายการ\n",
      "[link href] https://www.google.com/search?q=&si=AEcPFx7tmljk6qubkos3ZaFevzk-nWvUqQA7JfEqSwguLRSPtEZzotCnTUEGmsWsUjfINoIhGpq6zQYeDXElIxbd02xgnnSHzDCzJp57Em8808nW1QNsVeo%3D&sa=X&ved=2ahUKEwj-1NK0ydb9AhWdV2wGHauXCoIQn84BKAF6BAhhEAI\n",
      "---\n",
      "[link text] กรุงเทพมหานคร\n",
      "[link href] https://www.google.com/search?q=%E0%B8%81%E0%B8%A3%E0%B8%B8%E0%B8%87%E0%B9%80%E0%B8%97%E0%B8%9E%E0%B8%A1%E0%B8%AB%E0%B8%B2%E0%B8%99%E0%B8%84%E0%B8%A3&si=AEcPFx6l3RvH8SFlhHZyn7jIc6m2bU9vmoFvFAMQv2WWSYjXN_P5nU9q7cSjc8AA5CGm6M4lda4Phy1203rdt-Bo_epQzRXR-w%3D%3D&sa=X&ved=2ahUKEwj-1NK0ydb9AhWdV2wGHauXCoIQxA16BAhhEAU\n",
      "---\n",
      "[link text] เทศบาลนครเชียงใหม่\n",
      "[link href] https://www.google.com/search?q=%E0%B9%80%E0%B8%97%E0%B8%A8%E0%B8%9A%E0%B8%B2%E0%B8%A5%E0%B8%99%E0%B8%84%E0%B8%A3%E0%B9%80%E0%B8%8A%E0%B8%B5%E0%B8%A2%E0%B8%87%E0%B9%83%E0%B8%AB%E0%B8%A1%E0%B9%88&si=AEcPFx5y3cpWB8t3QIlw940Bbgd-HLN-aNYSTraERzz0WyAsdKfyT7fGB43bCkR8mqAXgMxBKkQsONlj9hX5rVYIcC8sIDnMXw%3D%3D&sa=X&ved=2ahUKEwj-1NK0ydb9AhWdV2wGHauXCoIQxA16BAhhEAc\n",
      "---\n",
      "[link text] เทศบาลนครภูเก็ต\n",
      "[link href] https://www.google.com/search?q=%E0%B9%80%E0%B8%97%E0%B8%A8%E0%B8%9A%E0%B8%B2%E0%B8%A5%E0%B8%99%E0%B8%84%E0%B8%A3%E0%B8%A0%E0%B8%B9%E0%B9%80%E0%B8%81%E0%B9%87%E0%B8%95&si=AEcPFx5y3cpWB8t3QIlw940Bbgd-HLN-aNYSTraERzz0WyAsdCfB8djxrNcClOVuVaFG7JRwJTRqw71Uic1a95USJqjf-Zmdew%3D%3D&sa=X&ved=2ahUKEwj-1NK0ydb9AhWdV2wGHauXCoIQxA16BAhhEAk\n",
      "---\n",
      "[link text] อำเภอเกาะสมุย\n",
      "[link href] https://www.google.com/search?q=%E0%B9%80%E0%B8%81%E0%B8%B2%E0%B8%B0%E0%B8%AA%E0%B8%A1%E0%B8%B8%E0%B8%A2&si=AEcPFx5y3cpWB8t3QIlw940Bbgd-HLN-aNYSTraERzz0WyAsdKz1FZ6uMo6RyYxpzzXzSumYf0qNigV7IxKSzSrbjFzGloGrOA%3D%3D&sa=X&ved=2ahUKEwj-1NK0ydb9AhWdV2wGHauXCoIQxA16BAhhEAs\n",
      "---\n",
      "[link text] และผู้คนยังค้นหา\n",
      "[link href] https://www.google.com/search?q=%E0%B8%9B%E0%B8%A3%E0%B8%B0%E0%B9%80%E0%B8%97%E0%B8%A8%E0%B9%84%E0%B8%97%E0%B8%A2&stick=H4sIAAAAAAAAAONgFuLQz9U3ME8zrFCCs7QEgzNTUssTK4v9UitKgktSC4oXsUo_2DH7wY7FD3ZseLCz4cGO6Q92rHiwswXMWLSDlREA-6OB0UoAAAA&sa=X&ved=2ahUKEwj-1NK0ydb9AhWdV2wGHauXCoIQMSgAegQIYBAB\n",
      "---\n",
      "[link text] ดูอีกกว่า 10 รายการ\n",
      "[link href] https://www.google.com/search?q=%E0%B8%9B%E0%B8%A3%E0%B8%B0%E0%B9%80%E0%B8%97%E0%B8%A8%E0%B9%84%E0%B8%97%E0%B8%A2&stick=H4sIAAAAAAAAAONgFuLQz9U3ME8zrFCCs7QEgzNTUssTK4v9UitKgktSC4oXsUo_2DH7wY7FD3ZseLCz4cGO6Q92rHiwswXMWLSDlREA-6OB0UoAAAA&sa=X&ved=2ahUKEwj-1NK0ydb9AhWdV2wGHauXCoIQzTooAXoECGAQAg\n",
      "---\n",
      "[link text] กรุงเทพมหานคร\n",
      "[link href] https://www.google.com/search?q=%E0%B8%81%E0%B8%A3%E0%B8%B8%E0%B8%87%E0%B9%80%E0%B8%97%E0%B8%9E%E0%B8%A1%E0%B8%AB%E0%B8%B2%E0%B8%99%E0%B8%84%E0%B8%A3&si=AEcPFx6l3RvH8SFlhHZyn7jIc6m2bU9vmoFvFAMQv2WWSYjXN7sX95IefCAs2cy1lXWFFQVt8hqJUB7OD8STZn-jx47x62RzrbFdjxE599d_71FgIQeOupfZ84VASXGMrOSzerbNISrHSUeavcOgmoaLmAiuNkvzajAF7BXc_LjEnOOUVbgiKljA8NS9ERDVSXWUoPT54S3Y4iWtQxEDVVl8Jb8wig9q9jnr5rrxqRkdVh3V3nEX3M94VydgPTbKzJuDy5_eYmogv_CiRDLwhpxs9Jep0LIoHCaHhRO_6iMha2ztkyxaIKguroYoQ1vhgmqu3hTTp0kN&sa=X&ved=2ahUKEwj-1NK0ydb9AhWdV2wGHauXCoIQxA16BAhgEAU\n",
      "---\n",
      "[link text] เวียดนาม\n",
      "[link href] https://www.google.com/search?q=%E0%B8%9B%E0%B8%A3%E0%B8%B0%E0%B9%80%E0%B8%97%E0%B8%A8%E0%B9%80%E0%B8%A7%E0%B8%B5%E0%B8%A2%E0%B8%94%E0%B8%99%E0%B8%B2%E0%B8%A1&si=AEcPFx5y3cpWB8t3QIlw940Bbgd-HLN-aNYSTraERzz0WyAsdDzK-PY2lQqAbH9-GvU19Gk8NCsDQgsvl0O50El49fbrdaYseNMiPVNJjJVcaDC_0bp7Moyuvf9cx8RloKQbc35BasfCIZkXy4dTiQ3krPdvUuf-fVX7YDo8mTqLqPGfk3TDVw6VhmAiDhc8HqLU3oeKmBWUecC3peOHCcvernICZryxLd2VSZLg0WYTlCuiFHVnBMKDfGIkDlTHhKzBb-JGDZIKQm15YagAUCxaNzAg8ohVgQIw3eb4oOyZjeD1ka9zoZQ6K4pr03lJznTBFeWB9KandPadongjviXIB-mIqUNqBQ%3D%3D&sa=X&ved=2ahUKEwj-1NK0ydb9AhWdV2wGHauXCoIQxA16BAhgEAc\n",
      "---\n",
      "[link text] ฟิลิปปินส์\n",
      "[link href] https://www.google.com/search?q=%E0%B8%9B%E0%B8%A3%E0%B8%B0%E0%B9%80%E0%B8%97%E0%B8%A8%E0%B8%9F%E0%B8%B4%E0%B8%A5%E0%B8%B4%E0%B8%9B%E0%B8%9B%E0%B8%B4%E0%B8%99%E0%B8%AA%E0%B9%8C&si=AEcPFx6l3RvH8SFlhHZyn7jIc6m2bU9vmoFvFAMQv2WWSYjXNyAD7bt4jOz46BRLLe5rn5SBEa7pdWRP-Rzt_sDpUYd9TTJA0dL-0e6q4j-MoPP5u5h62id7epkZ6l1BBkcYq64UF4kU07TXH7E9IA0JqDYr10tWRLNl8VaOkuGA8-1bZA_xET9Sz_cEvnHKoLEYwpaBfCX0a7eVhXikcjxUGg1rAWNTZfAJgcswuXl3NeOwHaf1sjNqfxclxGHpo6z79ijuwq0nn6fQKm-MEsVMTSlm6l6rf_3R7uG7wGWLvAEBHasL55_V0_bwXa0akLijULN7HWeJ7idl8a0QVd7Kr2rvqCzpDA%3D%3D&sa=X&ved=2ahUKEwj-1NK0ydb9AhWdV2wGHauXCoIQxA16BAhgEAk\n",
      "---\n",
      "[link text] เมียนมาร์ (พม่า)\n",
      "[link href] https://www.google.com/search?q=%E0%B9%80%E0%B8%A1%E0%B8%B5%E0%B8%A2%E0%B8%99%E0%B8%A1%E0%B8%B2&si=AEcPFx6l3RvH8SFlhHZyn7jIc6m2bU9vmoFvFAMQv2WWSYjXN1OFasdqTYptTMGCedgtCBuQRcoIgjzqDrqWwUm8fbxQHnsYnVNsyJVX1LwKqxzveDqhnqpYwF26BKxIObPNjPD6hoMYuBqsmmzQbbudMrTD_8fRXhoFciAXZwCm-p0Bg-9XCXkNVfti3E8TShPVLusGsnKtmeUWGZpATUgKz3DGXrT44hOdlkkMRbPWX8DKpB7mcC6BFqXDjwypXtNFl_ed8Jmqb-Y35N11ZdyibSRMATdfa9VHiLVac3yms5RMRf6MO18%3D&sa=X&ved=2ahUKEwj-1NK0ydb9AhWdV2wGHauXCoIQxA16BAhgEAs\n",
      "---\n",
      "[link text] \n",
      "[link href] https://www.google.com/search?q=%E0%B8%9B%E0%B8%A3%E0%B8%B0%E0%B9%80%E0%B8%97%E0%B8%A8%E0%B9%84%E0%B8%97%E0%B8%A2&source=hp&ei=yN0NZOKOJNXY-QaguJqwCQ&iflsig=AK50M_UAAAAAZA3r2I8U-1QWL2Pru6jffwFqLmfxR5uR&ved=0ahUKEwjikpirydb9AhVVbN4KHSCcBpYQ4dUDCAg&uact=5&oq=%E0%B8%9B%E0%B8%A3%E0%B8%B0%E0%B9%80%E0%B8%97%E0%B8%A8%E0%B9%84%E0%B8%97%E0%B8%A2&gs_lcp=Cgdnd3Mtd2l6EAMyBQguEIAEMggIABCABBCxAzIICAAQgAQQsQMyCAgAEIAEELEDMggIABCABBCxAzIFCAAQgAQyBQgAEIAEMgUIABCABDIFCAAQgAQyBQgAEIAEOggILhCABBCxAzoLCC4QgAQQsQMQ1AI6CwguEIAEELEDEIMBUABY7gFg2wdoAHAAeACAAZEDiAG8CpIBCTAuMS4wLjEuMpgBAKABAQ&sclient=gws-wiz#\n",
      "---\n",
      "[link text] ความคิดเห็น\n",
      "[link href] https://www.google.com/search?q=%E0%B8%9B%E0%B8%A3%E0%B8%B0%E0%B9%80%E0%B8%97%E0%B8%A8%E0%B9%84%E0%B8%97%E0%B8%A2&source=hp&ei=yN0NZOKOJNXY-QaguJqwCQ&iflsig=AK50M_UAAAAAZA3r2I8U-1QWL2Pru6jffwFqLmfxR5uR&ved=0ahUKEwjikpirydb9AhVVbN4KHSCcBpYQ4dUDCAg&uact=5&oq=%E0%B8%9B%E0%B8%A3%E0%B8%B0%E0%B9%80%E0%B8%97%E0%B8%A8%E0%B9%84%E0%B8%97%E0%B8%A2&gs_lcp=Cgdnd3Mtd2l6EAMyBQguEIAEMggIABCABBCxAzIICAAQgAQQsQMyCAgAEIAEELEDMggIABCABBCxAzIFCAAQgAQyBQgAEIAEMgUIABCABDIFCAAQgAQyBQgAEIAEOggILhCABBCxAzoLCC4QgAQQsQMQ1AI6CwguEIAEELEDEIMBUABY7gFg2wdoAHAAeACAAZEDiAG8CpIBCTAuMS4wLjEuMpgBAKABAQ&sclient=gws-wiz#\n",
      "---\n",
      "[link text] \n",
      "[link href] https://support.google.com/websearch/answer/3338405\n",
      "---\n",
      "[link text] \n",
      "[link href] https://support.google.com/websearch/answer/3338405\n",
      "---\n"
     ]
    }
   ],
   "source": [
    "for link in all_link:\n",
    "    print('[link text]', link.text)\n",
    "    print('[link href]', link.get_attribute('href'))\n",
    "    print('---')"
   ]
  },
  {
   "cell_type": "code",
   "execution_count": 12,
   "metadata": {},
   "outputs": [],
   "source": [
    "all_link[0].click()"
   ]
  },
  {
   "cell_type": "code",
   "execution_count": 13,
   "metadata": {},
   "outputs": [],
   "source": [
    "all_headlines = browser.find_elements(By.CSS_SELECTOR, 'span[class^=\"mw-headline\"]')"
   ]
  },
  {
   "cell_type": "code",
   "execution_count": 14,
   "metadata": {
    "scrolled": true
   },
   "outputs": [
    {
     "name": "stdout",
     "output_type": "stream",
     "text": [
      "[text] ชื่อเรียก\n",
      "[class] mw-headline\n",
      "[id] ชื่อเรียก\n",
      "[parent] h2\n",
      "---\n",
      "[text] ประวัติศาสตร์\n",
      "[class] mw-headline\n",
      "[id] ประวัติศาสตร์\n",
      "[parent] h2\n",
      "---\n",
      "[text] ยุคก่อนประวัติศาสตร์\n",
      "[class] mw-headline\n",
      "[id] ยุคก่อนประวัติศาสตร์\n",
      "[parent] h3\n",
      "---\n",
      "[text] อาณาจักรสุโขทัยและแคว้นต่าง ๆ\n",
      "[class] mw-headline\n",
      "[id] อาณาจักรสุโขทัยและแคว้นต่าง_ๆ\n",
      "[parent] h3\n",
      "---\n",
      "[text] อาณาจักรอยุธยาและธนบุรี\n",
      "[class] mw-headline\n",
      "[id] อาณาจักรอยุธยาและธนบุรี\n",
      "[parent] h3\n",
      "---\n",
      "[text] กรุงรัตนโกสินทร์ตอนต้นและสมัยอาณานิคม\n",
      "[class] mw-headline\n",
      "[id] กรุงรัตนโกสินทร์ตอนต้นและสมัยอาณานิคม\n",
      "[parent] h3\n",
      "---\n",
      "[text] ราชาธิปไตยภายใต้รัฐธรรมนูญ สงครามโลกครั้งที่สอง และสงครามเย็น\n",
      "[class] mw-headline\n",
      "[id] ราชาธิปไตยภายใต้รัฐธรรมนูญ_สงครามโลกครั้งที่สอง_และสงครามเย็น\n",
      "[parent] h3\n",
      "---\n",
      "[text] ร่วมสมัย\n",
      "[class] mw-headline\n",
      "[id] ร่วมสมัย\n",
      "[parent] h3\n",
      "---\n",
      "[text] ภูมิประเทศ\n",
      "[class] mw-headline\n",
      "[id] ภูมิประเทศ\n",
      "[parent] h2\n",
      "---\n",
      "[text] ภูมิอากาศ\n",
      "[class] mw-headline\n",
      "[id] ภูมิอากาศ\n",
      "[parent] h3\n",
      "---\n",
      "[text] ความหลากหลายทางชีวภาพ\n",
      "[class] mw-headline\n",
      "[id] ความหลากหลายทางชีวภาพ\n",
      "[parent] h3\n",
      "---\n",
      "[text] การเมืองการปกครอง\n",
      "[class] mw-headline\n",
      "[id] การเมืองการปกครอง\n",
      "[parent] h2\n",
      "---\n",
      "[text] การแบ่งเขตการปกครอง\n",
      "[class] mw-headline\n",
      "[id] การแบ่งเขตการปกครอง\n",
      "[parent] h3\n",
      "---\n",
      "[text] ความสัมพันธ์ระหว่างประเทศ\n",
      "[class] mw-headline\n",
      "[id] ความสัมพันธ์ระหว่างประเทศ\n",
      "[parent] h3\n",
      "---\n",
      "[text] กองทัพ\n",
      "[class] mw-headline\n",
      "[id] กองทัพ\n",
      "[parent] h3\n",
      "---\n",
      "[text] อาชญากรรมและการบังคับใช้กฎหมาย\n",
      "[class] mw-headline\n",
      "[id] อาชญากรรมและการบังคับใช้กฎหมาย\n",
      "[parent] h3\n",
      "---\n",
      "[text] เศรษฐกิจ\n",
      "[class] mw-headline\n",
      "[id] เศรษฐกิจ\n",
      "[parent] h2\n",
      "---\n",
      "[text] ความมั่งคั่ง ความยากจนและความเหลื่อมล้ำ\n",
      "[class] mw-headline\n",
      "[id] ความมั่งคั่ง_ความยากจนและความเหลื่อมล้ำ\n",
      "[parent] h3\n",
      "---\n",
      "[text] เกษตรกรรม\n",
      "[class] mw-headline\n",
      "[id] เกษตรกรรม\n",
      "[parent] h3\n",
      "---\n",
      "[text] อุตสาหกรรม\n",
      "[class] mw-headline\n",
      "[id] อุตสาหกรรม\n",
      "[parent] h3\n",
      "---\n",
      "[text] พลังงาน\n",
      "[class] mw-headline\n",
      "[id] พลังงาน\n",
      "[parent] h3\n",
      "---\n",
      "[text] การขนส่ง\n",
      "[class] mw-headline\n",
      "[id] การขนส่ง\n",
      "[parent] h3\n",
      "---\n",
      "[text] การท่องเที่ยว\n",
      "[class] mw-headline\n",
      "[id] การท่องเที่ยว\n",
      "[parent] h3\n",
      "---\n",
      "[text] วิทยาศาสตร์และเทคโนโลยี\n",
      "[class] mw-headline\n",
      "[id] วิทยาศาสตร์และเทคโนโลยี\n",
      "[parent] h3\n",
      "---\n",
      "[text] ประชากรศาสตร์\n",
      "[class] mw-headline\n",
      "[id] ประชากรศาสตร์\n",
      "[parent] h2\n",
      "---\n",
      "[text] ประชากร\n",
      "[class] mw-headline\n",
      "[id] ประชากร\n",
      "[parent] h3\n",
      "---\n",
      "[text] นครใหญ่\n",
      "[class] mw-headline\n",
      "[id] นครใหญ่\n",
      "[parent] h3\n",
      "---\n",
      "[text] ศาสนา\n",
      "[class] mw-headline\n",
      "[id] ศาสนา\n",
      "[parent] h3\n",
      "---\n",
      "[text] ภาษา\n",
      "[class] mw-headline\n",
      "[id] ภาษา\n",
      "[parent] h3\n",
      "---\n",
      "[text] การศึกษา\n",
      "[class] mw-headline\n",
      "[id] การศึกษา\n",
      "[parent] h3\n",
      "---\n",
      "[text] สาธารณสุข\n",
      "[class] mw-headline\n",
      "[id] สาธารณสุข\n",
      "[parent] h3\n",
      "---\n",
      "[text] วัฒนธรรม\n",
      "[class] mw-headline\n",
      "[id] วัฒนธรรม\n",
      "[parent] h2\n",
      "---\n",
      "[text] ศิลปะ\n",
      "[class] mw-headline\n",
      "[id] ศิลปะ\n",
      "[parent] h3\n",
      "---\n",
      "[text] อาหาร\n",
      "[class] mw-headline\n",
      "[id] อาหาร\n",
      "[parent] h3\n",
      "---\n",
      "[text] วงการบันเทิง\n",
      "[class] mw-headline\n",
      "[id] วงการบันเทิง\n",
      "[parent] h3\n",
      "---\n",
      "[text] ดนตรีและนาฏศิลป์\n",
      "[class] mw-headline\n",
      "[id] ดนตรีและนาฏศิลป์\n",
      "[parent] h3\n",
      "---\n",
      "[text] เทศกาลประเพณี\n",
      "[class] mw-headline\n",
      "[id] เทศกาลประเพณี\n",
      "[parent] h3\n",
      "---\n",
      "[text] วรรณกรรม\n",
      "[class] mw-headline\n",
      "[id] วรรณกรรม\n",
      "[parent] h3\n",
      "---\n",
      "[text] กีฬา\n",
      "[class] mw-headline\n",
      "[id] กีฬา\n",
      "[parent] h3\n",
      "---\n",
      "[text] สื่อมวลชน\n",
      "[class] mw-headline\n",
      "[id] สื่อมวลชน\n",
      "[parent] h3\n",
      "---\n",
      "[text] เชิงอรรถ\n",
      "[class] mw-headline\n",
      "[id] เชิงอรรถ\n",
      "[parent] h2\n",
      "---\n",
      "[text] อ้างอิง\n",
      "[class] mw-headline\n",
      "[id] อ้างอิง\n",
      "[parent] h2\n",
      "---\n",
      "[text] อ่านเพิ่ม\n",
      "[class] mw-headline\n",
      "[id] อ่านเพิ่ม\n",
      "[parent] h2\n",
      "---\n",
      "[text] แหล่งข้อมูลอื่น\n",
      "[class] mw-headline\n",
      "[id] แหล่งข้อมูลอื่น\n",
      "[parent] h2\n",
      "---\n"
     ]
    }
   ],
   "source": [
    "for h in all_headlines:\n",
    "    print('[text]', h.text)\n",
    "    print('[class]', h.get_attribute('class'))\n",
    "    print('[id]', h.get_attribute('id'))\n",
    "    print('[parent]', h.find_element(By.XPATH, '..').tag_name)\n",
    "    print('---')"
   ]
  },
  {
   "cell_type": "markdown",
   "metadata": {},
   "source": [
    "## End browsing session"
   ]
  },
  {
   "cell_type": "code",
   "execution_count": 15,
   "metadata": {},
   "outputs": [],
   "source": [
    "browser.quit()"
   ]
  },
  {
   "cell_type": "code",
   "execution_count": null,
   "metadata": {},
   "outputs": [],
   "source": []
  }
 ],
 "metadata": {
  "kernelspec": {
   "display_name": "Python 3 (ipykernel)",
   "language": "python",
   "name": "python3"
  },
  "language_info": {
   "codemirror_mode": {
    "name": "ipython",
    "version": 3
   },
   "file_extension": ".py",
   "mimetype": "text/x-python",
   "name": "python",
   "nbconvert_exporter": "python",
   "pygments_lexer": "ipython3",
   "version": "3.9.15"
  },
  "toc": {
   "base_numbering": 1,
   "nav_menu": {},
   "number_sections": true,
   "sideBar": true,
   "skip_h1_title": false,
   "title_cell": "Table of Contents",
   "title_sidebar": "Contents",
   "toc_cell": false,
   "toc_position": {},
   "toc_section_display": true,
   "toc_window_display": false
  },
  "varInspector": {
   "cols": {
    "lenName": 16,
    "lenType": 16,
    "lenVar": 40
   },
   "kernels_config": {
    "python": {
     "delete_cmd_postfix": "",
     "delete_cmd_prefix": "del ",
     "library": "var_list.py",
     "varRefreshCmd": "print(var_dic_list())"
    },
    "r": {
     "delete_cmd_postfix": ") ",
     "delete_cmd_prefix": "rm(",
     "library": "var_list.r",
     "varRefreshCmd": "cat(var_dic_list()) "
    }
   },
   "types_to_exclude": [
    "module",
    "function",
    "builtin_function_or_method",
    "instance",
    "_Feature"
   ],
   "window_display": false
  }
 },
 "nbformat": 4,
 "nbformat_minor": 4
}
