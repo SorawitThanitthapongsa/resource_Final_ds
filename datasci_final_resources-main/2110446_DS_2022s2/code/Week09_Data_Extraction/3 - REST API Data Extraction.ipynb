{
 "cells": [
  {
   "cell_type": "markdown",
   "metadata": {},
   "source": [
    "# REST API Data Extraction\n",
    "Gathering data from a REST API is quite typical.  Most Single-Page-Application (SPA) and AJAX dynamic pages rely on REST APIs.  In addition, most vendor-specific APIs such as Facebook, Twitter, etc., base on REST.\n",
    "\n",
    "The most important step of extracting data via REST API is to identify the endpoint."
   ]
  },
  {
   "cell_type": "code",
   "execution_count": 3,
   "metadata": {
    "scrolled": true
   },
   "outputs": [],
   "source": [
    "import requests\n",
    "import json\n",
    "import pprint"
   ]
  },
  {
   "cell_type": "markdown",
   "metadata": {},
   "source": [
    "## Call REST API\n",
    "After we investigate the main page of settrade.com, we can figure out the endpoint of the market information using debugger in the browser."
   ]
  },
  {
   "cell_type": "code",
   "execution_count": 4,
   "metadata": {},
   "outputs": [],
   "source": [
    "api_url = 'http://api.settrade.com/api/market/SET/info'"
   ]
  },
  {
   "cell_type": "code",
   "execution_count": 5,
   "metadata": {
    "scrolled": false
   },
   "outputs": [
    {
     "data": {
      "text/plain": [
       "'{\"market_name\":\"SET\",\"market_display_name\":\"SET\",\"market_status\":\"Pre-Open2\",\"datetime\":\"11/10/2022 14:18:12\",\"gainer_amount\":501,\"gainer_volume\":3.736600932E9,\"unchange_amount\":607,\"unchange_volume\":1.6787018E9,\"loser_amount\":964,\"loser_volume\":4.89738172E9,\"index\":[{\"index_name\":\"SET\",\"index_display_name\":\"SET\",\"market\":\"SET\",\"prior\":1570.57,\"last\":1567.07,\"change\":-3.5,\"percent_change\":-0.2228,\"high\":1569.13,\"low\":1559.22,\"total_volume\":1.0321462893E10,\"total_value\":2.973810256488E10,\"flag_url\":null},{\"index_name\":\"SET50\",\"index_display_name\":\"SET50\",\"market\":\"SET\",\"prior\":940.62,\"last\":938.54,\"change\":-2.08,\"percent_change\":-0.2211,\"high\":940.57,\"low\":933.71,\"total_volume\":5.63782977E8,\"total_value\":1.607653231218E10,\"flag_url\":null},{\"index_name\":\"SET100\",\"index_display_name\":\"SET100\",\"market\":\"SET\",\"prior\":2118.78,\"last\":2114.06,\"change\":-4.72,\"percent_change\":-0.2227,\"high\":2118.13,\"low\":2103.47,\"total_volume\":9.13337534E8,\"total_value\":1.982728251422E10,\"flag_url\":null},{\"index_name\":\"sSET\",\"index_display_name\":\"sSET\",\"market\":\"SET\",\"prior\":1027.92,\"last\":1027.2,\"change\":-0.72,\"percent_change\":-0.07,\"high\":1030.79,\"low\":1025.09,\"total_volume\":5.61357857E8,\"total_value\":1.85035236824E9,\"flag_url\":null},{\"index_name\":\"SETCLMV\",\"index_display_name\":\"SETCLMV\",\"market\":\"SET\",\"prior\":942.72,\"last\":945.47,\"change\":2.75,\"percent_change\":0.2917,\"high\":947.2,\"low\":937.96,\"total_volume\":3.60704355E8,\"total_value\":1.048090822873E10,\"flag_url\":null},{\"index_name\":\"SETHD\",\"index_display_name\":\"SETHD\",\"market\":\"SET\",\"prior\":1121.92,\"last\":1119.66,\"change\":-2.26,\"percent_change\":-0.2014,\"high\":1122.2,\"low\":1114.71,\"total_volume\":3.31364472E8,\"total_value\":6.2605202079E9,\"flag_url\":null},{\"index_name\":\"SETTHSI\",\"index_display_name\":\"SETTHSI\",\"market\":\"SET\",\"prior\":982.83,\"last\":980.09,\"change\":-2.74,\"percent_change\":-0.2787,\"high\":981.7,\"low\":975.0,\"total_volume\":7.1823938E8,\"total_value\":1.551704575919E10,\"flag_url\":null},{\"index_name\":\"SETWB\",\"index_display_name\":\"SETWB\",\"market\":\"SET\",\"prior\":964.02,\"last\":963.26,\"change\":-0.76,\"percent_change\":-0.0788,\"high\":966.77,\"low\":959.0,\"total_volume\":2.08499869E8,\"total_value\":6.19269661923E9,\"flag_url\":null}]}'"
      ]
     },
     "execution_count": 5,
     "metadata": {},
     "output_type": "execute_result"
    }
   ],
   "source": [
    "data_info = requests.get(api_url)\n",
    "data_info.text"
   ]
  },
  {
   "cell_type": "markdown",
   "metadata": {},
   "source": [
    "## Extract data\n",
    "Unmarshal or convert the json text in the response from the API into a variable"
   ]
  },
  {
   "cell_type": "code",
   "execution_count": 6,
   "metadata": {
    "scrolled": true
   },
   "outputs": [
    {
     "name": "stdout",
     "output_type": "stream",
     "text": [
      "[{'change': -3.5,\n",
      "  'flag_url': None,\n",
      "  'high': 1569.13,\n",
      "  'index_display_name': 'SET',\n",
      "  'index_name': 'SET',\n",
      "  'last': 1567.07,\n",
      "  'low': 1559.22,\n",
      "  'market': 'SET',\n",
      "  'percent_change': -0.2228,\n",
      "  'prior': 1570.57,\n",
      "  'total_value': 29738102564.88,\n",
      "  'total_volume': 10321462893.0},\n",
      " {'change': -2.08,\n",
      "  'flag_url': None,\n",
      "  'high': 940.57,\n",
      "  'index_display_name': 'SET50',\n",
      "  'index_name': 'SET50',\n",
      "  'last': 938.54,\n",
      "  'low': 933.71,\n",
      "  'market': 'SET',\n",
      "  'percent_change': -0.2211,\n",
      "  'prior': 940.62,\n",
      "  'total_value': 16076532312.18,\n",
      "  'total_volume': 563782977.0},\n",
      " {'change': -4.72,\n",
      "  'flag_url': None,\n",
      "  'high': 2118.13,\n",
      "  'index_display_name': 'SET100',\n",
      "  'index_name': 'SET100',\n",
      "  'last': 2114.06,\n",
      "  'low': 2103.47,\n",
      "  'market': 'SET',\n",
      "  'percent_change': -0.2227,\n",
      "  'prior': 2118.78,\n",
      "  'total_value': 19827282514.22,\n",
      "  'total_volume': 913337534.0},\n",
      " {'change': -0.72,\n",
      "  'flag_url': None,\n",
      "  'high': 1030.79,\n",
      "  'index_display_name': 'sSET',\n",
      "  'index_name': 'sSET',\n",
      "  'last': 1027.2,\n",
      "  'low': 1025.09,\n",
      "  'market': 'SET',\n",
      "  'percent_change': -0.07,\n",
      "  'prior': 1027.92,\n",
      "  'total_value': 1850352368.24,\n",
      "  'total_volume': 561357857.0},\n",
      " {'change': 2.75,\n",
      "  'flag_url': None,\n",
      "  'high': 947.2,\n",
      "  'index_display_name': 'SETCLMV',\n",
      "  'index_name': 'SETCLMV',\n",
      "  'last': 945.47,\n",
      "  'low': 937.96,\n",
      "  'market': 'SET',\n",
      "  'percent_change': 0.2917,\n",
      "  'prior': 942.72,\n",
      "  'total_value': 10480908228.73,\n",
      "  'total_volume': 360704355.0},\n",
      " {'change': -2.26,\n",
      "  'flag_url': None,\n",
      "  'high': 1122.2,\n",
      "  'index_display_name': 'SETHD',\n",
      "  'index_name': 'SETHD',\n",
      "  'last': 1119.66,\n",
      "  'low': 1114.71,\n",
      "  'market': 'SET',\n",
      "  'percent_change': -0.2014,\n",
      "  'prior': 1121.92,\n",
      "  'total_value': 6260520207.9,\n",
      "  'total_volume': 331364472.0},\n",
      " {'change': -2.74,\n",
      "  'flag_url': None,\n",
      "  'high': 981.7,\n",
      "  'index_display_name': 'SETTHSI',\n",
      "  'index_name': 'SETTHSI',\n",
      "  'last': 980.09,\n",
      "  'low': 975.0,\n",
      "  'market': 'SET',\n",
      "  'percent_change': -0.2787,\n",
      "  'prior': 982.83,\n",
      "  'total_value': 15517045759.19,\n",
      "  'total_volume': 718239380.0},\n",
      " {'change': -0.76,\n",
      "  'flag_url': None,\n",
      "  'high': 966.77,\n",
      "  'index_display_name': 'SETWB',\n",
      "  'index_name': 'SETWB',\n",
      "  'last': 963.26,\n",
      "  'low': 959.0,\n",
      "  'market': 'SET',\n",
      "  'percent_change': -0.0788,\n",
      "  'prior': 964.02,\n",
      "  'total_value': 6192696619.23,\n",
      "  'total_volume': 208499869.0}]\n"
     ]
    }
   ],
   "source": [
    "set_info = json.loads(data_info.text)\n",
    "pprint.pprint(set_info['index'])"
   ]
  },
  {
   "cell_type": "code",
   "execution_count": 7,
   "metadata": {},
   "outputs": [
    {
     "name": "stdout",
     "output_type": "stream",
     "text": [
      "SET 1567.07\n"
     ]
    }
   ],
   "source": [
    "market = set_info['index'][0]\n",
    "print(market['market'], market['last'])"
   ]
  },
  {
   "cell_type": "code",
   "execution_count": 8,
   "metadata": {},
   "outputs": [
    {
     "name": "stdout",
     "output_type": "stream",
     "text": [
      "SET 1567.07\n",
      "SET50 938.54\n",
      "SET100 2114.06\n",
      "sSET 1027.2\n",
      "SETCLMV 945.47\n",
      "SETHD 1119.66\n",
      "SETTHSI 980.09\n",
      "SETWB 963.26\n"
     ]
    }
   ],
   "source": [
    "for ind in set_info['index']:\n",
    "    print(ind['index_name'], ind['last'])"
   ]
  },
  {
   "cell_type": "code",
   "execution_count": null,
   "metadata": {},
   "outputs": [],
   "source": []
  }
 ],
 "metadata": {
  "kernelspec": {
   "display_name": "Python 3",
   "language": "python",
   "name": "python3"
  },
  "language_info": {
   "codemirror_mode": {
    "name": "ipython",
    "version": 3
   },
   "file_extension": ".py",
   "mimetype": "text/x-python",
   "name": "python",
   "nbconvert_exporter": "python",
   "pygments_lexer": "ipython3",
   "version": "3.7.6"
  },
  "toc": {
   "base_numbering": 1,
   "nav_menu": {},
   "number_sections": true,
   "sideBar": true,
   "skip_h1_title": false,
   "title_cell": "Table of Contents",
   "title_sidebar": "Contents",
   "toc_cell": false,
   "toc_position": {},
   "toc_section_display": true,
   "toc_window_display": false
  },
  "varInspector": {
   "cols": {
    "lenName": 16,
    "lenType": 16,
    "lenVar": 40
   },
   "kernels_config": {
    "python": {
     "delete_cmd_postfix": "",
     "delete_cmd_prefix": "del ",
     "library": "var_list.py",
     "varRefreshCmd": "print(var_dic_list())"
    },
    "r": {
     "delete_cmd_postfix": ") ",
     "delete_cmd_prefix": "rm(",
     "library": "var_list.r",
     "varRefreshCmd": "cat(var_dic_list()) "
    }
   },
   "types_to_exclude": [
    "module",
    "function",
    "builtin_function_or_method",
    "instance",
    "_Feature"
   ],
   "window_display": false
  }
 },
 "nbformat": 4,
 "nbformat_minor": 2
}
