{
 "cells": [
  {
   "cell_type": "code",
   "execution_count": 1,
   "metadata": {},
   "outputs": [
    {
     "name": "stdout",
     "output_type": "stream",
     "text": [
      "[[ 0.          1.         -0.90453403 -0.4472136 ]\n",
      " [ 1.          0.          1.50755672  0.4472136 ]\n",
      " [ 1.          0.          0.30151134  1.34164079]\n",
      " [ 0.          1.         -0.90453403 -1.34164079]]\n"
     ]
    }
   ],
   "source": [
    "from sklearn.compose import ColumnTransformer\n",
    "from sklearn.preprocessing import OneHotEncoder, StandardScaler\n",
    "import numpy as np\n",
    "\n",
    "# Create sample data\n",
    "data = np.array([['Male', 1, 30], ['Female', 3, 35], ['Female', 2, 40], ['Male', 1, 25]])\n",
    "\n",
    "# Create a ColumnTransformer to apply one-hot encoding to the first column and scaling to the remaining columns\n",
    "transformer = ColumnTransformer(transformers=[('cat', OneHotEncoder(), [0]), ('num', StandardScaler(), [1, 2])])\n",
    "\n",
    "# Fit and transform the data\n",
    "encoded_data = transformer.fit_transform(data)\n",
    "\n",
    "# Print the encoded data\n",
    "print(encoded_data)\n"
   ]
  }
 ],
 "metadata": {
  "kernelspec": {
   "display_name": "nlpprog2023",
   "language": "python",
   "name": "python3"
  },
  "language_info": {
   "codemirror_mode": {
    "name": "ipython",
    "version": 3
   },
   "file_extension": ".py",
   "mimetype": "text/x-python",
   "name": "python",
   "nbconvert_exporter": "python",
   "pygments_lexer": "ipython3",
   "version": "3.10.10"
  },
  "orig_nbformat": 4
 },
 "nbformat": 4,
 "nbformat_minor": 2
}
