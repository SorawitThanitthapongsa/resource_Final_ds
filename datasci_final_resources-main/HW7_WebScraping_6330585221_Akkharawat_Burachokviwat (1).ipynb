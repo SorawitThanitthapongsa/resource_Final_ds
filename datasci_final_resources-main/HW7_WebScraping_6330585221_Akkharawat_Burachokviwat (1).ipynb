{
  "cells": [
    {
      "cell_type": "markdown",
      "metadata": {
        "id": "AsjV0qlqYVxN"
      },
      "source": [
        "# Assignment: Extracting Static WebPage\n",
        "\n",
        "Extract information about “วันพระ” for 3 years from:\n",
        "- https://www.myhora.com/ปฏิทิน/วันพระ-พ.ศ.2565.aspx\n",
        "- https://www.myhora.com/ปฏิทิน/วันพระ-พ.ศ.2566.aspx\n",
        "- https://www.myhora.com/ปฏิทิน/วันพระ-พ.ศ.2567.aspx\n"
      ]
    },
    {
      "cell_type": "markdown",
      "metadata": {
        "id": "3cG76O3OYVxQ"
      },
      "source": [
        "Note that you can use dateparse package to parse Thai date.  First, we will have to install the package, this is for Google Colab users.  Otherwise, installing via command line is recommended (pip or conda)."
      ]
    },
    {
      "cell_type": "code",
      "execution_count": 48,
      "metadata": {
        "scrolled": true,
        "id": "RufhMSoOYVxR",
        "colab": {
          "base_uri": "https://localhost:8080/"
        },
        "outputId": "683aa143-d3bb-4072-e483-02f989af3dff"
      },
      "outputs": [
        {
          "output_type": "stream",
          "name": "stdout",
          "text": [
            "Looking in indexes: https://pypi.org/simple, https://us-python.pkg.dev/colab-wheels/public/simple/\n",
            "Requirement already satisfied: dateparser in /usr/local/lib/python3.9/dist-packages (1.1.7)\n",
            "Requirement already satisfied: python-dateutil in /usr/local/lib/python3.9/dist-packages (from dateparser) (2.8.2)\n",
            "Requirement already satisfied: tzlocal in /usr/local/lib/python3.9/dist-packages (from dateparser) (4.3)\n",
            "Requirement already satisfied: regex!=2019.02.19,!=2021.8.27 in /usr/local/lib/python3.9/dist-packages (from dateparser) (2022.10.31)\n",
            "Requirement already satisfied: pytz in /usr/local/lib/python3.9/dist-packages (from dateparser) (2022.7.1)\n",
            "Requirement already satisfied: six>=1.5 in /usr/local/lib/python3.9/dist-packages (from python-dateutil->dateparser) (1.16.0)\n",
            "Requirement already satisfied: pytz-deprecation-shim in /usr/local/lib/python3.9/dist-packages (from tzlocal->dateparser) (0.1.0.post0)\n",
            "Requirement already satisfied: tzdata in /usr/local/lib/python3.9/dist-packages (from pytz-deprecation-shim->tzlocal->dateparser) (2022.7)\n"
          ]
        }
      ],
      "source": [
        "import sys\n",
        "IN_COLAB = 'google.colab' in sys.modules\n",
        "if IN_COLAB:\n",
        "    %pip install dateparser"
      ]
    },
    {
      "cell_type": "code",
      "execution_count": 49,
      "metadata": {
        "id": "BQf8UuyCYVxR"
      },
      "outputs": [],
      "source": [
        "import dateparser"
      ]
    },
    {
      "cell_type": "markdown",
      "metadata": {
        "id": "iZvmPsjnYVxS"
      },
      "source": [
        "To convert from thai text date string, we will use the parse method.  Note that the parse method assumes the BC year, not BE.  Thus, we will have to subtract 543 from the year.  In addition, weekday() returns day of week with 0=Monday, ..., 6=Sunday."
      ]
    },
    {
      "cell_type": "code",
      "execution_count": 50,
      "metadata": {
        "id": "Hl7FfgwtYVxS",
        "colab": {
          "base_uri": "https://localhost:8080/"
        },
        "outputId": "fd766d0d-31f0-466f-948c-09ca5f9dbb58"
      },
      "outputs": [
        {
          "output_type": "stream",
          "name": "stdout",
          "text": [
            "2563-01-17 00:00:00\n",
            "0\n",
            "2020-01-17 00:00:00\n",
            "4\n"
          ]
        }
      ],
      "source": [
        "dt = dateparser.parse('วันศุกร์ที่ 17 มกราคม 2563')\n",
        "\n",
        "# this will print out weekday == 0 (Monday)\n",
        "print(dt)\n",
        "print(dt.weekday())\n",
        "\n",
        "# this will print out weekday == 4 (Friday)\n",
        "dt = dt.replace(year=dt.year-543)\n",
        "print(dt)\n",
        "print(dt.weekday())"
      ]
    },
    {
      "cell_type": "code",
      "execution_count": 51,
      "metadata": {
        "id": "89c-XwJEYVxS",
        "colab": {
          "base_uri": "https://localhost:8080/"
        },
        "outputId": "e767e64e-ece1-4a1d-8855-d69d6a9f03ab"
      },
      "outputs": [
        {
          "output_type": "stream",
          "name": "stdout",
          "text": [
            "2021-09-21 00:00:00\n",
            "1\n"
          ]
        }
      ],
      "source": [
        "dt = dateparser.parse('วันเสาร์ที่ 21 กันยายน 2564')\n",
        "dt = dt.replace(year=dt.year-543)\n",
        "print(dt)\n",
        "print(dt.weekday())"
      ]
    },
    {
      "cell_type": "markdown",
      "metadata": {
        "id": "8MEZq8eIYVxT"
      },
      "source": [
        "Count the distribution of number of week days that are “วันพระ” for all three years and answer the following questions:"
      ]
    },
    {
      "cell_type": "markdown",
      "metadata": {
        "id": "GzRlSAWwYVxT"
      },
      "source": [
        "## How many วันพระ in total (of 3 years)?"
      ]
    },
    {
      "cell_type": "code",
      "execution_count": 56,
      "metadata": {
        "id": "EQhNHJgyYVxT",
        "colab": {
          "base_uri": "https://localhost:8080/"
        },
        "outputId": "09241994-5ee9-4191-a00f-9dd2895dc0e0"
      },
      "outputs": [
        {
          "output_type": "stream",
          "name": "stdout",
          "text": [
            "Number of วันพระ in total (of 3 years): 152\n"
          ]
        }
      ],
      "source": [
        "# <div class=\"bud-day\"><div class=\"bud-day-col\">วันอาทิตย์ที่ 2 มกราคม 2565</div><div class=\"bud-day-col\">แรม ๑๔ ค่ำ เดือนอ้าย(๑) ปีฉลู</div><div class=\"bud-day-col\"></div></div>\n",
        "import requests\n",
        "from bs4 import BeautifulSoup\n",
        "\n",
        "years = ['2565', '2566', '2567']\n",
        "num_bud_day = 0\n",
        "bud_days_html = []\n",
        "for year in years:\n",
        "    url = f\"https://www.myhora.com/ปฏิทิน/วันพระ-พ.ศ.{year}.aspx\"\n",
        "    response = requests.get(url)\n",
        "    response.encoding = 'utf-8' \n",
        "    soup = BeautifulSoup(response.content, 'html.parser')\n",
        "\n",
        "    days = soup.find_all('div', {'class': 'bud-day'})\n",
        "    bud_days_html.append(days)\n",
        "    num_days = len(days)\n",
        "    num_bud_day += num_days\n",
        "print(\"Number of วันพระ in total (of 3 years):\", num_bud_day)"
      ]
    },
    {
      "cell_type": "markdown",
      "metadata": {
        "id": "zOO6g_K_YVxT"
      },
      "source": [
        "## How many days in total (of 3 years) that วันพระ is Monday?"
      ]
    },
    {
      "cell_type": "code",
      "source": [
        "ans=0\n",
        "for year in bud_days_html:\n",
        "    for day in year:\n",
        "        soup = BeautifulSoup(str(day), 'html.parser')\n",
        "        date_text = soup.find('div', class_='bud-day-col').text\n",
        "        dt = dateparser.parse(date_text)\n",
        "        dt = dt.replace(year=dt.year-543)\n",
        "        if dt.weekday() == 0: ans+=1\n",
        "\n",
        "print(\"Number of days in total (of 3 years) that วันพระ is Monday:\", ans)"
      ],
      "metadata": {
        "colab": {
          "base_uri": "https://localhost:8080/"
        },
        "id": "MwgKFdUnhD-E",
        "outputId": "62927e78-fb3f-4774-a701-81f1455184de"
      },
      "execution_count": 53,
      "outputs": [
        {
          "output_type": "stream",
          "name": "stdout",
          "text": [
            "Number of days in total (of 3 years) that วันพระ is Monday: 21\n"
          ]
        }
      ]
    },
    {
      "cell_type": "markdown",
      "metadata": {
        "id": "crB8D8CRYVxU"
      },
      "source": [
        "## Which day of the week that has the minimum number of วันพระ?"
      ]
    },
    {
      "cell_type": "code",
      "execution_count": 54,
      "metadata": {
        "id": "mEZM9hJOYVxU",
        "colab": {
          "base_uri": "https://localhost:8080/"
        },
        "outputId": "1bbde23a-2e79-48b5-99b4-f7126a1260d3"
      },
      "outputs": [
        {
          "output_type": "stream",
          "name": "stdout",
          "text": [
            "Day of the week that has the minimum number of วันพระ is: Tuesday\n"
          ]
        }
      ],
      "source": [
        "from collections import defaultdict\n",
        "\n",
        "days_dict = {0: 'Monday', 1: 'Tuesday', 2: 'Wednesday', 3: 'Thursday', 4: 'Friday', 5: 'Saturday', 6: 'Sunday'}\n",
        "weekdays = defaultdict(lambda: 0)\n",
        "for year in bud_days_html:\n",
        "    for day in year:\n",
        "        soup = BeautifulSoup(str(day), 'html.parser')\n",
        "        date_text = soup.find('div', class_='bud-day-col').text\n",
        "        dt = dateparser.parse(date_text)\n",
        "        dt = dt.replace(year=dt.year-543)\n",
        "        weekdays[dt.weekday()]+=1\n",
        "\n",
        "min_key = min(weekdays, key=lambda k: weekdays[k])\n",
        "print(\"Day of the week that has the minimum number of วันพระ is:\", days_dict[min_key])"
      ]
    },
    {
      "cell_type": "markdown",
      "metadata": {
        "id": "-LXBaDPDYVxU"
      },
      "source": [
        "## Which day of the week that has the maximum number of วันพระ?"
      ]
    },
    {
      "cell_type": "code",
      "execution_count": 55,
      "metadata": {
        "id": "gC3feH9zYVxU",
        "colab": {
          "base_uri": "https://localhost:8080/"
        },
        "outputId": "0dd1b444-0307-415c-8b2f-150f4581e969"
      },
      "outputs": [
        {
          "output_type": "stream",
          "name": "stdout",
          "text": [
            "Day of the week that has the maximum number of วันพระ is: Sunday\n"
          ]
        }
      ],
      "source": [
        "max_key = max(weekdays, key=lambda k: weekdays[k])\n",
        "print(\"Day of the week that has the maximum number of วันพระ is:\", days_dict[max_key])\n"
      ]
    }
  ],
  "metadata": {
    "kernelspec": {
      "display_name": "Python 3 (ipykernel)",
      "language": "python",
      "name": "python3"
    },
    "language_info": {
      "codemirror_mode": {
        "name": "ipython",
        "version": 3
      },
      "file_extension": ".py",
      "mimetype": "text/x-python",
      "name": "python",
      "nbconvert_exporter": "python",
      "pygments_lexer": "ipython3",
      "version": "3.9.15"
    },
    "toc": {
      "base_numbering": 1,
      "nav_menu": {},
      "number_sections": true,
      "sideBar": true,
      "skip_h1_title": false,
      "title_cell": "Table of Contents",
      "title_sidebar": "Contents",
      "toc_cell": false,
      "toc_position": {},
      "toc_section_display": true,
      "toc_window_display": false
    },
    "varInspector": {
      "cols": {
        "lenName": 16,
        "lenType": 16,
        "lenVar": 40
      },
      "kernels_config": {
        "python": {
          "delete_cmd_postfix": "",
          "delete_cmd_prefix": "del ",
          "library": "var_list.py",
          "varRefreshCmd": "print(var_dic_list())"
        },
        "r": {
          "delete_cmd_postfix": ") ",
          "delete_cmd_prefix": "rm(",
          "library": "var_list.r",
          "varRefreshCmd": "cat(var_dic_list()) "
        }
      },
      "types_to_exclude": [
        "module",
        "function",
        "builtin_function_or_method",
        "instance",
        "_Feature"
      ],
      "window_display": false
    },
    "colab": {
      "provenance": [],
      "toc_visible": true
    },
    "gpuClass": "standard"
  },
  "nbformat": 4,
  "nbformat_minor": 0
}