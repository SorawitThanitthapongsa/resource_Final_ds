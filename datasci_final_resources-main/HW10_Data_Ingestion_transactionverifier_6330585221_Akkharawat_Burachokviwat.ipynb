{
  "cells": [
    {
      "cell_type": "code",
      "source": [
        "!pip install kafka-python"
      ],
      "metadata": {
        "colab": {
          "base_uri": "https://localhost:8080/"
        },
        "id": "YEenGQK_iXfe",
        "outputId": "d93621a7-5440-4a1f-e122-572c6f3eb7e8"
      },
      "id": "YEenGQK_iXfe",
      "execution_count": 17,
      "outputs": [
        {
          "output_type": "stream",
          "name": "stdout",
          "text": [
            "Looking in indexes: https://pypi.org/simple, https://us-python.pkg.dev/colab-wheels/public/simple/\n",
            "Requirement already satisfied: kafka-python in /usr/local/lib/python3.9/dist-packages (2.0.2)\n"
          ]
        }
      ]
    },
    {
      "cell_type": "code",
      "source": [
        "!pip install avro"
      ],
      "metadata": {
        "colab": {
          "base_uri": "https://localhost:8080/"
        },
        "id": "Nuezx4mskb8H",
        "outputId": "9c9e14d0-f7aa-421e-990b-2cae52cf9dff"
      },
      "id": "Nuezx4mskb8H",
      "execution_count": 18,
      "outputs": [
        {
          "output_type": "stream",
          "name": "stdout",
          "text": [
            "Looking in indexes: https://pypi.org/simple, https://us-python.pkg.dev/colab-wheels/public/simple/\n",
            "Requirement already satisfied: avro in /usr/local/lib/python3.9/dist-packages (1.11.1)\n"
          ]
        }
      ]
    },
    {
      "cell_type": "code",
      "execution_count": 19,
      "id": "3d144bf2",
      "metadata": {
        "id": "3d144bf2"
      },
      "outputs": [],
      "source": [
        "# import required libraries\n",
        "from kafka import KafkaConsumer, KafkaProducer\n",
        "import avro.schema\n",
        "import avro.io\n",
        "import io\n",
        "import hashlib, json"
      ]
    },
    {
      "cell_type": "code",
      "execution_count": 20,
      "id": "6234ffde",
      "metadata": {
        "id": "6234ffde"
      },
      "outputs": [],
      "source": [
        "def serialize(schema, obj):\n",
        "    bytes_writer = io.BytesIO()\n",
        "    encoder = avro.io.BinaryEncoder(bytes_writer)\n",
        "    writer = avro.io.DatumWriter(schema)\n",
        "    writer.write(obj, encoder)\n",
        "    return bytes_writer.getvalue()"
      ]
    },
    {
      "cell_type": "code",
      "execution_count": 21,
      "id": "5e1434bb",
      "metadata": {
        "id": "5e1434bb"
      },
      "outputs": [],
      "source": [
        "def deserialize(schema, raw_bytes):\n",
        "    bytes_reader = io.BytesIO(raw_bytes)\n",
        "    decoder = avro.io.BinaryDecoder(bytes_reader)\n",
        "    reader = avro.io.DatumReader(schema)\n",
        "    return reader.read(decoder)"
      ]
    },
    {
      "cell_type": "code",
      "execution_count": 22,
      "id": "0e92e3e9",
      "metadata": {
        "id": "0e92e3e9"
      },
      "outputs": [],
      "source": [
        "schema_file = 'transaction.avsc'\n",
        "txschema = avro.schema.parse(open(schema_file).read())\n",
        "schema_file = 'submit.avsc'\n",
        "submitschema = avro.schema.parse(open(schema_file).read())\n",
        "schema_file = 'result.avsc'\n",
        "resultschema = avro.schema.parse(open(schema_file).read())"
      ]
    },
    {
      "cell_type": "code",
      "execution_count": 23,
      "id": "bcb5dc21",
      "metadata": {
        "id": "bcb5dc21"
      },
      "outputs": [],
      "source": [
        "# Connect to kafka broker running in your local host (docker). Change this to your kafka broker if needed\n",
        "kafka_broker = '35.240.149.229:9092'"
      ]
    },
    {
      "cell_type": "code",
      "execution_count": 24,
      "id": "0e05b4b0",
      "metadata": {
        "id": "0e05b4b0"
      },
      "outputs": [],
      "source": [
        "producer = KafkaProducer(bootstrap_servers=[kafka_broker])"
      ]
    },
    {
      "cell_type": "code",
      "source": [
        "txschema"
      ],
      "metadata": {
        "colab": {
          "base_uri": "https://localhost:8080/"
        },
        "id": "xr-JAnsMllxt",
        "outputId": "da285bdd-8b28-4856-dbbe-9f6752c0976a"
      },
      "id": "xr-JAnsMllxt",
      "execution_count": 25,
      "outputs": [
        {
          "output_type": "execute_result",
          "data": {
            "text/plain": [
              "<avro.schema.RecordSchema at 0x7f7ec1d1fa60>"
            ]
          },
          "metadata": {},
          "execution_count": 25
        }
      ]
    },
    {
      "cell_type": "code",
      "execution_count": 26,
      "id": "4a2555a3",
      "metadata": {
        "id": "4a2555a3",
        "colab": {
          "base_uri": "https://localhost:8080/"
        },
        "outputId": "29cc40eb-5e15-46d2-f4b0-28ea9263b9ca"
      },
      "outputs": [
        {
          "output_type": "stream",
          "name": "stderr",
          "text": [
            "WARNING:kafka.coordinator.consumer:group_id is None: disabling auto-commit.\n",
            "WARNING:kafka.coordinator.consumer:group_id is None: disabling auto-commit.\n"
          ]
        }
      ],
      "source": [
        "txconsumer = KafkaConsumer(\n",
        "    'transaction',\n",
        "     bootstrap_servers=[kafka_broker],\n",
        "     enable_auto_commit=True,\n",
        "     value_deserializer=lambda x: deserialize(txschema, x))\n",
        "resultconsumer = KafkaConsumer(\n",
        "    'result',\n",
        "     bootstrap_servers=[kafka_broker],\n",
        "     enable_auto_commit=True,\n",
        "     value_deserializer=lambda x: deserialize(resultschema, x))"
      ]
    },
    {
      "cell_type": "code",
      "source": [
        "# Read a transaction message from the topic\n",
        "message = next(txconsumer)\n",
        "\n",
        "txid = message.value['txid']\n",
        "payer = message.value['payer']\n",
        "payee = message.value['payee']\n",
        "amount = message.value['amount']\n",
        "\n",
        "print(f'Transaction ID: {txid}\\nPayer: {payer}\\nPayee: {payee}\\nAmount: {amount}')"
      ],
      "metadata": {
        "colab": {
          "base_uri": "https://localhost:8080/"
        },
        "id": "B2AFk6P3l6xF",
        "outputId": "d176c2ae-c346-490d-826a-da0b6ee32895"
      },
      "id": "B2AFk6P3l6xF",
      "execution_count": 27,
      "outputs": [
        {
          "output_type": "stream",
          "name": "stdout",
          "text": [
            "Transaction ID: TX08762\n",
            "Payer: A44110\n",
            "Payee: A09182\n",
            "Amount: 136\n"
          ]
        }
      ]
    },
    {
      "cell_type": "code",
      "execution_count": 28,
      "id": "fe697a88",
      "metadata": {
        "id": "fe697a88"
      },
      "outputs": [],
      "source": [
        "def gen_signature(txid, payer, payee, amount, token):\n",
        "    o = {'txid': txid, 'payer': payer, 'payee': payee, 'amount': amount, 'token': token}\n",
        "    return hashlib.md5(json.dumps(o, sort_keys=True).encode('utf-8')).hexdigest()"
      ]
    },
    {
      "cell_type": "code",
      "execution_count": 29,
      "id": "b9915bcc",
      "metadata": {
        "id": "b9915bcc",
        "colab": {
          "base_uri": "https://localhost:8080/"
        },
        "outputId": "468fae11-c12e-40cd-c6f6-692fa3d3fd8b"
      },
      "outputs": [
        {
          "output_type": "execute_result",
          "data": {
            "text/plain": [
              "<kafka.producer.future.FutureRecordMetadata at 0x7f7ec1bf3be0>"
            ]
          },
          "metadata": {},
          "execution_count": 29
        }
      ],
      "source": [
        "token = '949bafe92b109890d9e43a7458918e34'\n",
        "vid = 'V557697' \n",
        "\n",
        "signature = gen_signature(txid, payer, payee, amount, token)\n",
        "\n",
        "submit = {\"vid\": vid, \"txid\": txid, \"signature\": signature}\n",
        "\n",
        "raw_bytes = serialize(submitschema, submit)\n",
        "producer.send('submit', value=raw_bytes)\n"
      ]
    },
    {
      "cell_type": "code",
      "source": [
        "for message in resultconsumer:\n",
        "\n",
        "    if message.value[\"vid\"] == vid and message.value[\"txid\"] == txid and message.value[\"code\"] == 200:\n",
        "        print(\"Verification successful!\")\n",
        "        print(\"vid:\", message.value[\"vid\"])\n",
        "        print(\"txid:\", message.value[\"txid\"])\n",
        "        print(\"Timestamp:\", message.value[\"timestamp\"])\n",
        "        print(\"Checksum:\", message.value[\"checksum\"])\n",
        "        break\n",
        "        \n",
        "resultconsumer.close()\n"
      ],
      "metadata": {
        "colab": {
          "base_uri": "https://localhost:8080/"
        },
        "id": "6GQ5tswTyqXw",
        "outputId": "96de7207-261c-4b89-8f4a-27b5bea4b162"
      },
      "id": "6GQ5tswTyqXw",
      "execution_count": 30,
      "outputs": [
        {
          "output_type": "stream",
          "name": "stdout",
          "text": [
            "Verification successful!\n",
            "vid: V557697\n",
            "txid: TX08762\n",
            "Timestamp: 1679894354\n",
            "Checksum: b122a9f6595d503b1a8f92a9a6d1c2a1\n"
          ]
        }
      ]
    }
  ],
  "metadata": {
    "kernelspec": {
      "display_name": "Python 3 (ipykernel)",
      "language": "python",
      "name": "python3"
    },
    "language_info": {
      "codemirror_mode": {
        "name": "ipython",
        "version": 3
      },
      "file_extension": ".py",
      "mimetype": "text/x-python",
      "name": "python",
      "nbconvert_exporter": "python",
      "pygments_lexer": "ipython3",
      "version": "3.9.7"
    },
    "colab": {
      "provenance": []
    }
  },
  "nbformat": 4,
  "nbformat_minor": 5
}